{
 "cells": [
  {
   "cell_type": "markdown",
   "metadata": {},
   "source": [
    "# Marketing Campaign for Starbucks\n",
    "\n",
    "### Introduction\n",
    "\n",
    "This data set contains simulated data that mimics customer behavior on the Starbucks rewards mobile app. Once every few days, Starbucks sends out an offer to users of the mobile app. An offer can be merely an advertisement for a drink or an actual offer such as a discount or BOGO (buy one get one free). Some users might not receive any offer during certain weeks. \n",
    "\n",
    "Not all users receive the same offer, and that is the challenge to solve with this data set.\n",
    "\n",
    "The task is to combine transaction, demographic and offer data to determine which demographic groups respond best to which offer type. This data set is a simplified version of the real Starbucks app because the underlying simulator only has one product whereas Starbucks actually sells dozens of products.\n",
    "\n",
    "Every offer has a validity period before the offer expires. As an example, a BOGO offer might be valid for only 5 days. You'll see in the data set that informational offers have a validity period even though these ads are merely providing information about a product; for example, if an informational offer has 7 days of validity, you can assume the customer is feeling the influence of the offer for 7 days after receiving the advertisement.\n",
    "\n",
    "we are given transactional data showing user purchases made on the app including the timestamp of purchase and the amount of money spent on a purchase. This transactional data also has a record for each offer that a user receives as well as a record for when a user actually views the offer. There are also records for when a user completes an offer. \n",
    "\n",
    "It should be noted that someone using the app might make a purchase through the app without having received an offer or seen an offer.\n",
    "\n",
    "### Example case\n",
    "\n",
    "To give an example, a user could receive a discount offer buy 10 dollars get 2 off on Monday. The offer is valid for 10 days from receipt. If the customer accumulates at least 10 dollars in purchases during the validity period, the customer completes the offer.\n",
    "\n",
    "However, there are a few things to watch out for in this data set. Customers do not opt into the offers that they receive; in other words, a user can receive an offer, never actually view the offer, and still complete the offer. For example, a user might receive the \"buy 10 dollars get 2 dollars off offer\", but the user never opens the offer during the 10 day validity period. The customer spends 15 dollars during those ten days. There will be an offer completion record in the data set; however, the customer was not influenced by the offer because the customer never viewed the offer.\n"
   ]
  },
  {
   "cell_type": "markdown",
   "metadata": {},
   "source": [
    "# Data Sets\n",
    "\n",
    "The data is contained in three files:\n",
    "\n",
    "* portfolio.json - containing offer ids and meta data about each offer (duration, type, etc.)\n",
    "* profile.json - demographic data for each customer\n",
    "* transcript.json - records for transactions, offers received, offers viewed, and offers completed\n",
    "\n",
    "Here is the schema and explanation of each variable in the files:\n",
    "\n",
    "**portfolio.json**\n",
    "* id (string) - offer id\n",
    "* offer_type (string) - type of offer ie BOGO, discount, informational\n",
    "* difficulty (int) - minimum required spend to complete an offer\n",
    "* reward (int) - reward given for completing an offer\n",
    "* duration (int) - time for offer to be open, in days\n",
    "* channels (list of strings)\n",
    "\n",
    "**profile.json**\n",
    "* age (int) - age of the customer \n",
    "* became_member_on (int) - date when customer created an app account\n",
    "* gender (str) - gender of the customer (note some entries contain 'O' for other rather than M or F)\n",
    "* id (str) - customer id\n",
    "* income (float) - customer's income\n",
    "\n",
    "**transcript.json**\n",
    "* event (str) - record description (ie transaction, offer received, offer viewed, etc.)\n",
    "* person (str) - customer id\n",
    "* time (int) - time in hours since start of test. The data begins at time t=0\n",
    "* value - (dict of strings) - either an offer id or transaction amount depending on the record\n"
   ]
  },
  {
   "cell_type": "markdown",
   "metadata": {},
   "source": [
    "# 1 Import Statements"
   ]
  },
  {
   "cell_type": "code",
   "execution_count": 1,
   "metadata": {},
   "outputs": [],
   "source": [
    "import pandas as pd\n",
    "import numpy as np\n",
    "import math\n",
    "import json\n",
    "% matplotlib inline\n",
    "\n",
    "from sklearn.preprocessing import LabelEncoder\n",
    "import seaborn as sns; sns.set(); sns.set(font_scale=1.3)\n",
    "import matplotlib.pyplot as plt\n"
   ]
  },
  {
   "cell_type": "markdown",
   "metadata": {},
   "source": [
    "# 2 Loading Datasets and Inspecting them"
   ]
  },
  {
   "cell_type": "code",
   "execution_count": 2,
   "metadata": {},
   "outputs": [],
   "source": [
    "# read in the json files\n",
    "portfolio = pd.read_json('data/portfolio.json', orient='records', lines=True)\n",
    "profile = pd.read_json('data/profile.json', orient='records', lines=True)\n",
    "transcript = pd.read_json('data/transcript.json', orient='records', lines=True)"
   ]
  },
  {
   "cell_type": "markdown",
   "metadata": {},
   "source": [
    "Checking the dataframes"
   ]
  },
  {
   "cell_type": "code",
   "execution_count": 3,
   "metadata": {},
   "outputs": [
    {
     "data": {
      "text/html": [
       "<div>\n",
       "<style scoped>\n",
       "    .dataframe tbody tr th:only-of-type {\n",
       "        vertical-align: middle;\n",
       "    }\n",
       "\n",
       "    .dataframe tbody tr th {\n",
       "        vertical-align: top;\n",
       "    }\n",
       "\n",
       "    .dataframe thead th {\n",
       "        text-align: right;\n",
       "    }\n",
       "</style>\n",
       "<table border=\"1\" class=\"dataframe\">\n",
       "  <thead>\n",
       "    <tr style=\"text-align: right;\">\n",
       "      <th></th>\n",
       "      <th>channels</th>\n",
       "      <th>difficulty</th>\n",
       "      <th>duration</th>\n",
       "      <th>id</th>\n",
       "      <th>offer_type</th>\n",
       "      <th>reward</th>\n",
       "    </tr>\n",
       "  </thead>\n",
       "  <tbody>\n",
       "    <tr>\n",
       "      <th>0</th>\n",
       "      <td>[email, mobile, social]</td>\n",
       "      <td>10</td>\n",
       "      <td>7</td>\n",
       "      <td>ae264e3637204a6fb9bb56bc8210ddfd</td>\n",
       "      <td>bogo</td>\n",
       "      <td>10</td>\n",
       "    </tr>\n",
       "    <tr>\n",
       "      <th>1</th>\n",
       "      <td>[web, email, mobile, social]</td>\n",
       "      <td>10</td>\n",
       "      <td>5</td>\n",
       "      <td>4d5c57ea9a6940dd891ad53e9dbe8da0</td>\n",
       "      <td>bogo</td>\n",
       "      <td>10</td>\n",
       "    </tr>\n",
       "    <tr>\n",
       "      <th>2</th>\n",
       "      <td>[web, email, mobile]</td>\n",
       "      <td>0</td>\n",
       "      <td>4</td>\n",
       "      <td>3f207df678b143eea3cee63160fa8bed</td>\n",
       "      <td>informational</td>\n",
       "      <td>0</td>\n",
       "    </tr>\n",
       "    <tr>\n",
       "      <th>3</th>\n",
       "      <td>[web, email, mobile]</td>\n",
       "      <td>5</td>\n",
       "      <td>7</td>\n",
       "      <td>9b98b8c7a33c4b65b9aebfe6a799e6d9</td>\n",
       "      <td>bogo</td>\n",
       "      <td>5</td>\n",
       "    </tr>\n",
       "    <tr>\n",
       "      <th>4</th>\n",
       "      <td>[web, email]</td>\n",
       "      <td>20</td>\n",
       "      <td>10</td>\n",
       "      <td>0b1e1539f2cc45b7b9fa7c272da2e1d7</td>\n",
       "      <td>discount</td>\n",
       "      <td>5</td>\n",
       "    </tr>\n",
       "  </tbody>\n",
       "</table>\n",
       "</div>"
      ],
      "text/plain": [
       "                       channels  difficulty  duration  \\\n",
       "0       [email, mobile, social]          10         7   \n",
       "1  [web, email, mobile, social]          10         5   \n",
       "2          [web, email, mobile]           0         4   \n",
       "3          [web, email, mobile]           5         7   \n",
       "4                  [web, email]          20        10   \n",
       "\n",
       "                                 id     offer_type  reward  \n",
       "0  ae264e3637204a6fb9bb56bc8210ddfd           bogo      10  \n",
       "1  4d5c57ea9a6940dd891ad53e9dbe8da0           bogo      10  \n",
       "2  3f207df678b143eea3cee63160fa8bed  informational       0  \n",
       "3  9b98b8c7a33c4b65b9aebfe6a799e6d9           bogo       5  \n",
       "4  0b1e1539f2cc45b7b9fa7c272da2e1d7       discount       5  "
      ]
     },
     "execution_count": 3,
     "metadata": {},
     "output_type": "execute_result"
    }
   ],
   "source": [
    "portfolio.head()\n"
   ]
  },
  {
   "cell_type": "code",
   "execution_count": 4,
   "metadata": {},
   "outputs": [
    {
     "data": {
      "text/html": [
       "<div>\n",
       "<style scoped>\n",
       "    .dataframe tbody tr th:only-of-type {\n",
       "        vertical-align: middle;\n",
       "    }\n",
       "\n",
       "    .dataframe tbody tr th {\n",
       "        vertical-align: top;\n",
       "    }\n",
       "\n",
       "    .dataframe thead th {\n",
       "        text-align: right;\n",
       "    }\n",
       "</style>\n",
       "<table border=\"1\" class=\"dataframe\">\n",
       "  <thead>\n",
       "    <tr style=\"text-align: right;\">\n",
       "      <th></th>\n",
       "      <th>age</th>\n",
       "      <th>became_member_on</th>\n",
       "      <th>gender</th>\n",
       "      <th>id</th>\n",
       "      <th>income</th>\n",
       "    </tr>\n",
       "  </thead>\n",
       "  <tbody>\n",
       "    <tr>\n",
       "      <th>0</th>\n",
       "      <td>118</td>\n",
       "      <td>20170212</td>\n",
       "      <td>None</td>\n",
       "      <td>68be06ca386d4c31939f3a4f0e3dd783</td>\n",
       "      <td>NaN</td>\n",
       "    </tr>\n",
       "    <tr>\n",
       "      <th>1</th>\n",
       "      <td>55</td>\n",
       "      <td>20170715</td>\n",
       "      <td>F</td>\n",
       "      <td>0610b486422d4921ae7d2bf64640c50b</td>\n",
       "      <td>112000.0</td>\n",
       "    </tr>\n",
       "    <tr>\n",
       "      <th>2</th>\n",
       "      <td>118</td>\n",
       "      <td>20180712</td>\n",
       "      <td>None</td>\n",
       "      <td>38fe809add3b4fcf9315a9694bb96ff5</td>\n",
       "      <td>NaN</td>\n",
       "    </tr>\n",
       "    <tr>\n",
       "      <th>3</th>\n",
       "      <td>75</td>\n",
       "      <td>20170509</td>\n",
       "      <td>F</td>\n",
       "      <td>78afa995795e4d85b5d9ceeca43f5fef</td>\n",
       "      <td>100000.0</td>\n",
       "    </tr>\n",
       "    <tr>\n",
       "      <th>4</th>\n",
       "      <td>118</td>\n",
       "      <td>20170804</td>\n",
       "      <td>None</td>\n",
       "      <td>a03223e636434f42ac4c3df47e8bac43</td>\n",
       "      <td>NaN</td>\n",
       "    </tr>\n",
       "  </tbody>\n",
       "</table>\n",
       "</div>"
      ],
      "text/plain": [
       "   age  became_member_on gender                                id    income\n",
       "0  118          20170212   None  68be06ca386d4c31939f3a4f0e3dd783       NaN\n",
       "1   55          20170715      F  0610b486422d4921ae7d2bf64640c50b  112000.0\n",
       "2  118          20180712   None  38fe809add3b4fcf9315a9694bb96ff5       NaN\n",
       "3   75          20170509      F  78afa995795e4d85b5d9ceeca43f5fef  100000.0\n",
       "4  118          20170804   None  a03223e636434f42ac4c3df47e8bac43       NaN"
      ]
     },
     "execution_count": 4,
     "metadata": {},
     "output_type": "execute_result"
    }
   ],
   "source": [
    "profile.head()"
   ]
  },
  {
   "cell_type": "code",
   "execution_count": 5,
   "metadata": {},
   "outputs": [
    {
     "data": {
      "text/html": [
       "<div>\n",
       "<style scoped>\n",
       "    .dataframe tbody tr th:only-of-type {\n",
       "        vertical-align: middle;\n",
       "    }\n",
       "\n",
       "    .dataframe tbody tr th {\n",
       "        vertical-align: top;\n",
       "    }\n",
       "\n",
       "    .dataframe thead th {\n",
       "        text-align: right;\n",
       "    }\n",
       "</style>\n",
       "<table border=\"1\" class=\"dataframe\">\n",
       "  <thead>\n",
       "    <tr style=\"text-align: right;\">\n",
       "      <th></th>\n",
       "      <th>event</th>\n",
       "      <th>person</th>\n",
       "      <th>time</th>\n",
       "      <th>value</th>\n",
       "    </tr>\n",
       "  </thead>\n",
       "  <tbody>\n",
       "    <tr>\n",
       "      <th>0</th>\n",
       "      <td>offer received</td>\n",
       "      <td>78afa995795e4d85b5d9ceeca43f5fef</td>\n",
       "      <td>0</td>\n",
       "      <td>{'offer id': '9b98b8c7a33c4b65b9aebfe6a799e6d9'}</td>\n",
       "    </tr>\n",
       "    <tr>\n",
       "      <th>1</th>\n",
       "      <td>offer received</td>\n",
       "      <td>a03223e636434f42ac4c3df47e8bac43</td>\n",
       "      <td>0</td>\n",
       "      <td>{'offer id': '0b1e1539f2cc45b7b9fa7c272da2e1d7'}</td>\n",
       "    </tr>\n",
       "    <tr>\n",
       "      <th>2</th>\n",
       "      <td>offer received</td>\n",
       "      <td>e2127556f4f64592b11af22de27a7932</td>\n",
       "      <td>0</td>\n",
       "      <td>{'offer id': '2906b810c7d4411798c6938adc9daaa5'}</td>\n",
       "    </tr>\n",
       "    <tr>\n",
       "      <th>3</th>\n",
       "      <td>offer received</td>\n",
       "      <td>8ec6ce2a7e7949b1bf142def7d0e0586</td>\n",
       "      <td>0</td>\n",
       "      <td>{'offer id': 'fafdcd668e3743c1bb461111dcafc2a4'}</td>\n",
       "    </tr>\n",
       "    <tr>\n",
       "      <th>4</th>\n",
       "      <td>offer received</td>\n",
       "      <td>68617ca6246f4fbc85e91a2a49552598</td>\n",
       "      <td>0</td>\n",
       "      <td>{'offer id': '4d5c57ea9a6940dd891ad53e9dbe8da0'}</td>\n",
       "    </tr>\n",
       "  </tbody>\n",
       "</table>\n",
       "</div>"
      ],
      "text/plain": [
       "            event                            person  time  \\\n",
       "0  offer received  78afa995795e4d85b5d9ceeca43f5fef     0   \n",
       "1  offer received  a03223e636434f42ac4c3df47e8bac43     0   \n",
       "2  offer received  e2127556f4f64592b11af22de27a7932     0   \n",
       "3  offer received  8ec6ce2a7e7949b1bf142def7d0e0586     0   \n",
       "4  offer received  68617ca6246f4fbc85e91a2a49552598     0   \n",
       "\n",
       "                                              value  \n",
       "0  {'offer id': '9b98b8c7a33c4b65b9aebfe6a799e6d9'}  \n",
       "1  {'offer id': '0b1e1539f2cc45b7b9fa7c272da2e1d7'}  \n",
       "2  {'offer id': '2906b810c7d4411798c6938adc9daaa5'}  \n",
       "3  {'offer id': 'fafdcd668e3743c1bb461111dcafc2a4'}  \n",
       "4  {'offer id': '4d5c57ea9a6940dd891ad53e9dbe8da0'}  "
      ]
     },
     "execution_count": 5,
     "metadata": {},
     "output_type": "execute_result"
    }
   ],
   "source": [
    "transcript.head()"
   ]
  },
  {
   "cell_type": "markdown",
   "metadata": {},
   "source": [
    "datatypes of all the dataframes"
   ]
  },
  {
   "cell_type": "code",
   "execution_count": 6,
   "metadata": {},
   "outputs": [
    {
     "name": "stdout",
     "output_type": "stream",
     "text": [
      "portfolio :\n",
      "channels      object\n",
      "difficulty     int64\n",
      "duration       int64\n",
      "id            object\n",
      "offer_type    object\n",
      "reward         int64\n",
      "dtype: object \n",
      "\n",
      "profile :\n",
      "age                   int64\n",
      "became_member_on      int64\n",
      "gender               object\n",
      "id                   object\n",
      "income              float64\n",
      "dtype: object\n",
      "\n",
      "transcript :\n",
      "event     object\n",
      "person    object\n",
      "time       int64\n",
      "value     object\n",
      "dtype: object\n"
     ]
    }
   ],
   "source": [
    "print(f\"portfolio :\\n{portfolio.dtypes} \\n\\nprofile :\\n{profile.dtypes}\\n\\ntranscript :\\n{transcript.dtypes}\")"
   ]
  },
  {
   "cell_type": "markdown",
   "metadata": {},
   "source": [
    "# 3 Cleaning the Data"
   ]
  },
  {
   "cell_type": "markdown",
   "metadata": {},
   "source": [
    "### 3.1 Cleaning the Transcript DataFrame"
   ]
  },
  {
   "cell_type": "markdown",
   "metadata": {},
   "source": [
    "The \"value\" column in transcript DF, needs to be changed as the values are in form of a dictionary, we just need values not the keys. Before that have a closer look at the column"
   ]
  },
  {
   "cell_type": "code",
   "execution_count": 7,
   "metadata": {},
   "outputs": [
    {
     "data": {
      "text/plain": [
       "array(['offer received', 'offer viewed', 'transaction', 'offer completed'], dtype=object)"
      ]
     },
     "execution_count": 7,
     "metadata": {},
     "output_type": "execute_result"
    }
   ],
   "source": [
    "transcript.event.unique()"
   ]
  },
  {
   "cell_type": "code",
   "execution_count": 8,
   "metadata": {},
   "outputs": [
    {
     "data": {
      "text/html": [
       "<div>\n",
       "<style scoped>\n",
       "    .dataframe tbody tr th:only-of-type {\n",
       "        vertical-align: middle;\n",
       "    }\n",
       "\n",
       "    .dataframe tbody tr th {\n",
       "        vertical-align: top;\n",
       "    }\n",
       "\n",
       "    .dataframe thead th {\n",
       "        text-align: right;\n",
       "    }\n",
       "</style>\n",
       "<table border=\"1\" class=\"dataframe\">\n",
       "  <thead>\n",
       "    <tr style=\"text-align: right;\">\n",
       "      <th></th>\n",
       "      <th>event</th>\n",
       "      <th>person</th>\n",
       "      <th>time</th>\n",
       "      <th>value</th>\n",
       "    </tr>\n",
       "  </thead>\n",
       "  <tbody>\n",
       "    <tr>\n",
       "      <th>0</th>\n",
       "      <td>offer received</td>\n",
       "      <td>78afa995795e4d85b5d9ceeca43f5fef</td>\n",
       "      <td>0</td>\n",
       "      <td>{'offer id': '9b98b8c7a33c4b65b9aebfe6a799e6d9'}</td>\n",
       "    </tr>\n",
       "    <tr>\n",
       "      <th>1</th>\n",
       "      <td>offer received</td>\n",
       "      <td>a03223e636434f42ac4c3df47e8bac43</td>\n",
       "      <td>0</td>\n",
       "      <td>{'offer id': '0b1e1539f2cc45b7b9fa7c272da2e1d7'}</td>\n",
       "    </tr>\n",
       "    <tr>\n",
       "      <th>2</th>\n",
       "      <td>offer received</td>\n",
       "      <td>e2127556f4f64592b11af22de27a7932</td>\n",
       "      <td>0</td>\n",
       "      <td>{'offer id': '2906b810c7d4411798c6938adc9daaa5'}</td>\n",
       "    </tr>\n",
       "  </tbody>\n",
       "</table>\n",
       "</div>"
      ],
      "text/plain": [
       "            event                            person  time  \\\n",
       "0  offer received  78afa995795e4d85b5d9ceeca43f5fef     0   \n",
       "1  offer received  a03223e636434f42ac4c3df47e8bac43     0   \n",
       "2  offer received  e2127556f4f64592b11af22de27a7932     0   \n",
       "\n",
       "                                              value  \n",
       "0  {'offer id': '9b98b8c7a33c4b65b9aebfe6a799e6d9'}  \n",
       "1  {'offer id': '0b1e1539f2cc45b7b9fa7c272da2e1d7'}  \n",
       "2  {'offer id': '2906b810c7d4411798c6938adc9daaa5'}  "
      ]
     },
     "execution_count": 8,
     "metadata": {},
     "output_type": "execute_result"
    }
   ],
   "source": [
    "transcript[transcript.event == 'offer received'].head(3)"
   ]
  },
  {
   "cell_type": "code",
   "execution_count": 9,
   "metadata": {},
   "outputs": [
    {
     "data": {
      "text/html": [
       "<div>\n",
       "<style scoped>\n",
       "    .dataframe tbody tr th:only-of-type {\n",
       "        vertical-align: middle;\n",
       "    }\n",
       "\n",
       "    .dataframe tbody tr th {\n",
       "        vertical-align: top;\n",
       "    }\n",
       "\n",
       "    .dataframe thead th {\n",
       "        text-align: right;\n",
       "    }\n",
       "</style>\n",
       "<table border=\"1\" class=\"dataframe\">\n",
       "  <thead>\n",
       "    <tr style=\"text-align: right;\">\n",
       "      <th></th>\n",
       "      <th>event</th>\n",
       "      <th>person</th>\n",
       "      <th>time</th>\n",
       "      <th>value</th>\n",
       "    </tr>\n",
       "  </thead>\n",
       "  <tbody>\n",
       "    <tr>\n",
       "      <th>12650</th>\n",
       "      <td>offer viewed</td>\n",
       "      <td>389bc3fa690240e798340f5a15918d5c</td>\n",
       "      <td>0</td>\n",
       "      <td>{'offer id': 'f19421c1d4aa40978ebb69ca19b0e20d'}</td>\n",
       "    </tr>\n",
       "    <tr>\n",
       "      <th>12651</th>\n",
       "      <td>offer viewed</td>\n",
       "      <td>d1ede868e29245ea91818a903fec04c6</td>\n",
       "      <td>0</td>\n",
       "      <td>{'offer id': '5a8bc65990b245e5a138643cd4eb9837'}</td>\n",
       "    </tr>\n",
       "    <tr>\n",
       "      <th>12652</th>\n",
       "      <td>offer viewed</td>\n",
       "      <td>102e9454054946fda62242d2e176fdce</td>\n",
       "      <td>0</td>\n",
       "      <td>{'offer id': '4d5c57ea9a6940dd891ad53e9dbe8da0'}</td>\n",
       "    </tr>\n",
       "  </tbody>\n",
       "</table>\n",
       "</div>"
      ],
      "text/plain": [
       "              event                            person  time  \\\n",
       "12650  offer viewed  389bc3fa690240e798340f5a15918d5c     0   \n",
       "12651  offer viewed  d1ede868e29245ea91818a903fec04c6     0   \n",
       "12652  offer viewed  102e9454054946fda62242d2e176fdce     0   \n",
       "\n",
       "                                                  value  \n",
       "12650  {'offer id': 'f19421c1d4aa40978ebb69ca19b0e20d'}  \n",
       "12651  {'offer id': '5a8bc65990b245e5a138643cd4eb9837'}  \n",
       "12652  {'offer id': '4d5c57ea9a6940dd891ad53e9dbe8da0'}  "
      ]
     },
     "execution_count": 9,
     "metadata": {},
     "output_type": "execute_result"
    }
   ],
   "source": [
    "transcript[transcript.event == 'offer viewed'].head(3)"
   ]
  },
  {
   "cell_type": "code",
   "execution_count": 10,
   "metadata": {},
   "outputs": [
    {
     "data": {
      "text/html": [
       "<div>\n",
       "<style scoped>\n",
       "    .dataframe tbody tr th:only-of-type {\n",
       "        vertical-align: middle;\n",
       "    }\n",
       "\n",
       "    .dataframe tbody tr th {\n",
       "        vertical-align: top;\n",
       "    }\n",
       "\n",
       "    .dataframe thead th {\n",
       "        text-align: right;\n",
       "    }\n",
       "</style>\n",
       "<table border=\"1\" class=\"dataframe\">\n",
       "  <thead>\n",
       "    <tr style=\"text-align: right;\">\n",
       "      <th></th>\n",
       "      <th>event</th>\n",
       "      <th>person</th>\n",
       "      <th>time</th>\n",
       "      <th>value</th>\n",
       "    </tr>\n",
       "  </thead>\n",
       "  <tbody>\n",
       "    <tr>\n",
       "      <th>12654</th>\n",
       "      <td>transaction</td>\n",
       "      <td>02c083884c7d45b39cc68e1314fec56c</td>\n",
       "      <td>0</td>\n",
       "      <td>{'amount': 0.8300000000000001}</td>\n",
       "    </tr>\n",
       "    <tr>\n",
       "      <th>12657</th>\n",
       "      <td>transaction</td>\n",
       "      <td>9fa9ae8f57894cc9a3b8a9bbe0fc1b2f</td>\n",
       "      <td>0</td>\n",
       "      <td>{'amount': 34.56}</td>\n",
       "    </tr>\n",
       "    <tr>\n",
       "      <th>12659</th>\n",
       "      <td>transaction</td>\n",
       "      <td>54890f68699049c2a04d415abc25e717</td>\n",
       "      <td>0</td>\n",
       "      <td>{'amount': 13.23}</td>\n",
       "    </tr>\n",
       "  </tbody>\n",
       "</table>\n",
       "</div>"
      ],
      "text/plain": [
       "             event                            person  time  \\\n",
       "12654  transaction  02c083884c7d45b39cc68e1314fec56c     0   \n",
       "12657  transaction  9fa9ae8f57894cc9a3b8a9bbe0fc1b2f     0   \n",
       "12659  transaction  54890f68699049c2a04d415abc25e717     0   \n",
       "\n",
       "                                value  \n",
       "12654  {'amount': 0.8300000000000001}  \n",
       "12657               {'amount': 34.56}  \n",
       "12659               {'amount': 13.23}  "
      ]
     },
     "execution_count": 10,
     "metadata": {},
     "output_type": "execute_result"
    }
   ],
   "source": [
    "transcript[transcript.event == 'transaction'].head(3)"
   ]
  },
  {
   "cell_type": "code",
   "execution_count": 11,
   "metadata": {},
   "outputs": [
    {
     "data": {
      "text/html": [
       "<div>\n",
       "<style scoped>\n",
       "    .dataframe tbody tr th:only-of-type {\n",
       "        vertical-align: middle;\n",
       "    }\n",
       "\n",
       "    .dataframe tbody tr th {\n",
       "        vertical-align: top;\n",
       "    }\n",
       "\n",
       "    .dataframe thead th {\n",
       "        text-align: right;\n",
       "    }\n",
       "</style>\n",
       "<table border=\"1\" class=\"dataframe\">\n",
       "  <thead>\n",
       "    <tr style=\"text-align: right;\">\n",
       "      <th></th>\n",
       "      <th>event</th>\n",
       "      <th>person</th>\n",
       "      <th>time</th>\n",
       "      <th>value</th>\n",
       "    </tr>\n",
       "  </thead>\n",
       "  <tbody>\n",
       "    <tr>\n",
       "      <th>12658</th>\n",
       "      <td>offer completed</td>\n",
       "      <td>9fa9ae8f57894cc9a3b8a9bbe0fc1b2f</td>\n",
       "      <td>0</td>\n",
       "      <td>{'offer_id': '2906b810c7d4411798c6938adc9daaa5...</td>\n",
       "    </tr>\n",
       "    <tr>\n",
       "      <th>12672</th>\n",
       "      <td>offer completed</td>\n",
       "      <td>fe97aa22dd3e48c8b143116a8403dd52</td>\n",
       "      <td>0</td>\n",
       "      <td>{'offer_id': 'fafdcd668e3743c1bb461111dcafc2a4...</td>\n",
       "    </tr>\n",
       "    <tr>\n",
       "      <th>12679</th>\n",
       "      <td>offer completed</td>\n",
       "      <td>629fc02d56414d91bca360decdfa9288</td>\n",
       "      <td>0</td>\n",
       "      <td>{'offer_id': '9b98b8c7a33c4b65b9aebfe6a799e6d9...</td>\n",
       "    </tr>\n",
       "  </tbody>\n",
       "</table>\n",
       "</div>"
      ],
      "text/plain": [
       "                 event                            person  time  \\\n",
       "12658  offer completed  9fa9ae8f57894cc9a3b8a9bbe0fc1b2f     0   \n",
       "12672  offer completed  fe97aa22dd3e48c8b143116a8403dd52     0   \n",
       "12679  offer completed  629fc02d56414d91bca360decdfa9288     0   \n",
       "\n",
       "                                                   value  \n",
       "12658  {'offer_id': '2906b810c7d4411798c6938adc9daaa5...  \n",
       "12672  {'offer_id': 'fafdcd668e3743c1bb461111dcafc2a4...  \n",
       "12679  {'offer_id': '9b98b8c7a33c4b65b9aebfe6a799e6d9...  "
      ]
     },
     "execution_count": 11,
     "metadata": {},
     "output_type": "execute_result"
    }
   ],
   "source": [
    "transcript[transcript.event == 'offer completed'].head(3)"
   ]
  },
  {
   "cell_type": "markdown",
   "metadata": {},
   "source": [
    "For \"value\" column we can see that depending of event, the value changes, we will have to split this column into multiple columns and \"offer_id\" is given as \"offer id\" with out underscore, we will have check this too!!\n",
    "\n",
    "We can see that most of the events wont result to a transcation, There are specific events for each and every transcation occured, we can use these later to identify the transcations."
   ]
  },
  {
   "cell_type": "code",
   "execution_count": 12,
   "metadata": {},
   "outputs": [],
   "source": [
    "#renaming the \"offer id\" key to \"offer_id\"\n",
    "#we can use dict.pop() to rename dictionary key\n",
    "\n",
    "for key in transcript.value:\n",
    "    try:\n",
    "        key[\"offer_id\"] = key.pop(\"offer id\")\n",
    "    except:\n",
    "        pass\n"
   ]
  },
  {
   "cell_type": "code",
   "execution_count": 13,
   "metadata": {},
   "outputs": [],
   "source": [
    "#splitting the \"value\" column into multiple cloumns\n",
    "value_split = pd.DataFrame(transcript['value'].values.tolist(), index=transcript.index)\n",
    "\n",
    "#concatenating with original transcript dataframe and dropping the \"value\" column\n",
    "transcript_new = pd.concat([transcript, value_split], axis = 1).drop('value', axis = 1)"
   ]
  },
  {
   "cell_type": "markdown",
   "metadata": {},
   "source": [
    "It should be noted that \"value\" column in the transcript DF, is same as \"id\" column in portfolio DF and \"person\" column in transcript is being referred from profile \"id\" column, ,so we can rename them accordingly which will make the join operations easy.\n"
   ]
  },
  {
   "cell_type": "markdown",
   "metadata": {},
   "source": [
    "**We can create dummies for \"event\" column**"
   ]
  },
  {
   "cell_type": "code",
   "execution_count": 14,
   "metadata": {},
   "outputs": [],
   "source": [
    "transcript_new = pd.get_dummies(transcript_new, columns = ['event'])"
   ]
  },
  {
   "cell_type": "code",
   "execution_count": 15,
   "metadata": {},
   "outputs": [],
   "source": [
    "# renaming the columns to remove space\n",
    "transcript_new.rename(columns={\"event_offer completed\":\"event_offer_completed\",\n",
    "                           \"event_offer received\":\"event_offer_received\",\n",
    "                          \"event_offer viewed\":\"event_offer_viewed\"}, inplace=True)"
   ]
  },
  {
   "cell_type": "code",
   "execution_count": 16,
   "metadata": {},
   "outputs": [],
   "source": [
    "#renaming the columns of all the Dataframes\n",
    "\n",
    "portfolio.rename(columns={\"id\":\"offer_id\"}, inplace = True)\n",
    "profile.rename(columns={\"id\":\"customer_id\"}, inplace = True)\n",
    "transcript_new.rename(columns={\"person\":\"customer_id\"}, inplace = True)"
   ]
  },
  {
   "cell_type": "code",
   "execution_count": 17,
   "metadata": {},
   "outputs": [
    {
     "data": {
      "text/html": [
       "<div>\n",
       "<style scoped>\n",
       "    .dataframe tbody tr th:only-of-type {\n",
       "        vertical-align: middle;\n",
       "    }\n",
       "\n",
       "    .dataframe tbody tr th {\n",
       "        vertical-align: top;\n",
       "    }\n",
       "\n",
       "    .dataframe thead th {\n",
       "        text-align: right;\n",
       "    }\n",
       "</style>\n",
       "<table border=\"1\" class=\"dataframe\">\n",
       "  <thead>\n",
       "    <tr style=\"text-align: right;\">\n",
       "      <th></th>\n",
       "      <th>customer_id</th>\n",
       "      <th>time</th>\n",
       "      <th>amount</th>\n",
       "      <th>offer_id</th>\n",
       "      <th>reward</th>\n",
       "      <th>event_offer_completed</th>\n",
       "      <th>event_offer_received</th>\n",
       "      <th>event_offer_viewed</th>\n",
       "      <th>event_transaction</th>\n",
       "    </tr>\n",
       "  </thead>\n",
       "  <tbody>\n",
       "    <tr>\n",
       "      <th>0</th>\n",
       "      <td>78afa995795e4d85b5d9ceeca43f5fef</td>\n",
       "      <td>0</td>\n",
       "      <td>NaN</td>\n",
       "      <td>9b98b8c7a33c4b65b9aebfe6a799e6d9</td>\n",
       "      <td>NaN</td>\n",
       "      <td>0</td>\n",
       "      <td>1</td>\n",
       "      <td>0</td>\n",
       "      <td>0</td>\n",
       "    </tr>\n",
       "    <tr>\n",
       "      <th>1</th>\n",
       "      <td>a03223e636434f42ac4c3df47e8bac43</td>\n",
       "      <td>0</td>\n",
       "      <td>NaN</td>\n",
       "      <td>0b1e1539f2cc45b7b9fa7c272da2e1d7</td>\n",
       "      <td>NaN</td>\n",
       "      <td>0</td>\n",
       "      <td>1</td>\n",
       "      <td>0</td>\n",
       "      <td>0</td>\n",
       "    </tr>\n",
       "    <tr>\n",
       "      <th>2</th>\n",
       "      <td>e2127556f4f64592b11af22de27a7932</td>\n",
       "      <td>0</td>\n",
       "      <td>NaN</td>\n",
       "      <td>2906b810c7d4411798c6938adc9daaa5</td>\n",
       "      <td>NaN</td>\n",
       "      <td>0</td>\n",
       "      <td>1</td>\n",
       "      <td>0</td>\n",
       "      <td>0</td>\n",
       "    </tr>\n",
       "    <tr>\n",
       "      <th>3</th>\n",
       "      <td>8ec6ce2a7e7949b1bf142def7d0e0586</td>\n",
       "      <td>0</td>\n",
       "      <td>NaN</td>\n",
       "      <td>fafdcd668e3743c1bb461111dcafc2a4</td>\n",
       "      <td>NaN</td>\n",
       "      <td>0</td>\n",
       "      <td>1</td>\n",
       "      <td>0</td>\n",
       "      <td>0</td>\n",
       "    </tr>\n",
       "    <tr>\n",
       "      <th>4</th>\n",
       "      <td>68617ca6246f4fbc85e91a2a49552598</td>\n",
       "      <td>0</td>\n",
       "      <td>NaN</td>\n",
       "      <td>4d5c57ea9a6940dd891ad53e9dbe8da0</td>\n",
       "      <td>NaN</td>\n",
       "      <td>0</td>\n",
       "      <td>1</td>\n",
       "      <td>0</td>\n",
       "      <td>0</td>\n",
       "    </tr>\n",
       "  </tbody>\n",
       "</table>\n",
       "</div>"
      ],
      "text/plain": [
       "                        customer_id  time  amount  \\\n",
       "0  78afa995795e4d85b5d9ceeca43f5fef     0     NaN   \n",
       "1  a03223e636434f42ac4c3df47e8bac43     0     NaN   \n",
       "2  e2127556f4f64592b11af22de27a7932     0     NaN   \n",
       "3  8ec6ce2a7e7949b1bf142def7d0e0586     0     NaN   \n",
       "4  68617ca6246f4fbc85e91a2a49552598     0     NaN   \n",
       "\n",
       "                           offer_id  reward  event_offer_completed  \\\n",
       "0  9b98b8c7a33c4b65b9aebfe6a799e6d9     NaN                      0   \n",
       "1  0b1e1539f2cc45b7b9fa7c272da2e1d7     NaN                      0   \n",
       "2  2906b810c7d4411798c6938adc9daaa5     NaN                      0   \n",
       "3  fafdcd668e3743c1bb461111dcafc2a4     NaN                      0   \n",
       "4  4d5c57ea9a6940dd891ad53e9dbe8da0     NaN                      0   \n",
       "\n",
       "   event_offer_received  event_offer_viewed  event_transaction  \n",
       "0                     1                   0                  0  \n",
       "1                     1                   0                  0  \n",
       "2                     1                   0                  0  \n",
       "3                     1                   0                  0  \n",
       "4                     1                   0                  0  "
      ]
     },
     "execution_count": 17,
     "metadata": {},
     "output_type": "execute_result"
    }
   ],
   "source": [
    "transcript_new.head()"
   ]
  },
  {
   "cell_type": "markdown",
   "metadata": {},
   "source": [
    "### 3.2 Cleaning the Profile DataFrame "
   ]
  },
  {
   "cell_type": "code",
   "execution_count": 18,
   "metadata": {},
   "outputs": [
    {
     "name": "stdout",
     "output_type": "stream",
     "text": [
      "<class 'pandas.core.frame.DataFrame'>\n",
      "RangeIndex: 17000 entries, 0 to 16999\n",
      "Data columns (total 5 columns):\n",
      "age                 17000 non-null int64\n",
      "became_member_on    17000 non-null int64\n",
      "gender              14825 non-null object\n",
      "customer_id         17000 non-null object\n",
      "income              14825 non-null float64\n",
      "dtypes: float64(1), int64(2), object(2)\n",
      "memory usage: 664.1+ KB\n"
     ]
    }
   ],
   "source": [
    "profile.info()"
   ]
  },
  {
   "cell_type": "markdown",
   "metadata": {},
   "source": [
    "It can be seen that gender fied has some missing values, same number of missing values are there for income"
   ]
  },
  {
   "cell_type": "code",
   "execution_count": 19,
   "metadata": {},
   "outputs": [
    {
     "data": {
      "text/plain": [
       "age                    0\n",
       "became_member_on       0\n",
       "gender              2175\n",
       "customer_id            0\n",
       "income              2175\n",
       "dtype: int64"
      ]
     },
     "execution_count": 19,
     "metadata": {},
     "output_type": "execute_result"
    }
   ],
   "source": [
    "profile.isna().sum()"
   ]
  },
  {
   "cell_type": "code",
   "execution_count": 20,
   "metadata": {},
   "outputs": [
    {
     "data": {
      "text/plain": [
       "17000"
      ]
     },
     "execution_count": 20,
     "metadata": {},
     "output_type": "execute_result"
    }
   ],
   "source": [
    "#checking number of customers present in profile\n",
    "\n",
    "profile.customer_id.nunique()"
   ]
  },
  {
   "cell_type": "code",
   "execution_count": 21,
   "metadata": {},
   "outputs": [
    {
     "data": {
      "text/html": [
       "<div>\n",
       "<style scoped>\n",
       "    .dataframe tbody tr th:only-of-type {\n",
       "        vertical-align: middle;\n",
       "    }\n",
       "\n",
       "    .dataframe tbody tr th {\n",
       "        vertical-align: top;\n",
       "    }\n",
       "\n",
       "    .dataframe thead th {\n",
       "        text-align: right;\n",
       "    }\n",
       "</style>\n",
       "<table border=\"1\" class=\"dataframe\">\n",
       "  <thead>\n",
       "    <tr style=\"text-align: right;\">\n",
       "      <th></th>\n",
       "      <th>customer_id</th>\n",
       "      <th>time</th>\n",
       "      <th>amount</th>\n",
       "      <th>offer_id</th>\n",
       "      <th>reward</th>\n",
       "      <th>event_offer_completed</th>\n",
       "      <th>event_offer_received</th>\n",
       "      <th>event_offer_viewed</th>\n",
       "      <th>event_transaction</th>\n",
       "    </tr>\n",
       "  </thead>\n",
       "  <tbody>\n",
       "    <tr>\n",
       "      <th>0</th>\n",
       "      <td>78afa995795e4d85b5d9ceeca43f5fef</td>\n",
       "      <td>0</td>\n",
       "      <td>NaN</td>\n",
       "      <td>9b98b8c7a33c4b65b9aebfe6a799e6d9</td>\n",
       "      <td>NaN</td>\n",
       "      <td>0</td>\n",
       "      <td>1</td>\n",
       "      <td>0</td>\n",
       "      <td>0</td>\n",
       "    </tr>\n",
       "    <tr>\n",
       "      <th>1</th>\n",
       "      <td>a03223e636434f42ac4c3df47e8bac43</td>\n",
       "      <td>0</td>\n",
       "      <td>NaN</td>\n",
       "      <td>0b1e1539f2cc45b7b9fa7c272da2e1d7</td>\n",
       "      <td>NaN</td>\n",
       "      <td>0</td>\n",
       "      <td>1</td>\n",
       "      <td>0</td>\n",
       "      <td>0</td>\n",
       "    </tr>\n",
       "    <tr>\n",
       "      <th>2</th>\n",
       "      <td>e2127556f4f64592b11af22de27a7932</td>\n",
       "      <td>0</td>\n",
       "      <td>NaN</td>\n",
       "      <td>2906b810c7d4411798c6938adc9daaa5</td>\n",
       "      <td>NaN</td>\n",
       "      <td>0</td>\n",
       "      <td>1</td>\n",
       "      <td>0</td>\n",
       "      <td>0</td>\n",
       "    </tr>\n",
       "    <tr>\n",
       "      <th>3</th>\n",
       "      <td>8ec6ce2a7e7949b1bf142def7d0e0586</td>\n",
       "      <td>0</td>\n",
       "      <td>NaN</td>\n",
       "      <td>fafdcd668e3743c1bb461111dcafc2a4</td>\n",
       "      <td>NaN</td>\n",
       "      <td>0</td>\n",
       "      <td>1</td>\n",
       "      <td>0</td>\n",
       "      <td>0</td>\n",
       "    </tr>\n",
       "    <tr>\n",
       "      <th>4</th>\n",
       "      <td>68617ca6246f4fbc85e91a2a49552598</td>\n",
       "      <td>0</td>\n",
       "      <td>NaN</td>\n",
       "      <td>4d5c57ea9a6940dd891ad53e9dbe8da0</td>\n",
       "      <td>NaN</td>\n",
       "      <td>0</td>\n",
       "      <td>1</td>\n",
       "      <td>0</td>\n",
       "      <td>0</td>\n",
       "    </tr>\n",
       "  </tbody>\n",
       "</table>\n",
       "</div>"
      ],
      "text/plain": [
       "                        customer_id  time  amount  \\\n",
       "0  78afa995795e4d85b5d9ceeca43f5fef     0     NaN   \n",
       "1  a03223e636434f42ac4c3df47e8bac43     0     NaN   \n",
       "2  e2127556f4f64592b11af22de27a7932     0     NaN   \n",
       "3  8ec6ce2a7e7949b1bf142def7d0e0586     0     NaN   \n",
       "4  68617ca6246f4fbc85e91a2a49552598     0     NaN   \n",
       "\n",
       "                           offer_id  reward  event_offer_completed  \\\n",
       "0  9b98b8c7a33c4b65b9aebfe6a799e6d9     NaN                      0   \n",
       "1  0b1e1539f2cc45b7b9fa7c272da2e1d7     NaN                      0   \n",
       "2  2906b810c7d4411798c6938adc9daaa5     NaN                      0   \n",
       "3  fafdcd668e3743c1bb461111dcafc2a4     NaN                      0   \n",
       "4  4d5c57ea9a6940dd891ad53e9dbe8da0     NaN                      0   \n",
       "\n",
       "   event_offer_received  event_offer_viewed  event_transaction  \n",
       "0                     1                   0                  0  \n",
       "1                     1                   0                  0  \n",
       "2                     1                   0                  0  \n",
       "3                     1                   0                  0  \n",
       "4                     1                   0                  0  "
      ]
     },
     "execution_count": 21,
     "metadata": {},
     "output_type": "execute_result"
    }
   ],
   "source": [
    "transcript_new.head()"
   ]
  },
  {
   "cell_type": "code",
   "execution_count": 22,
   "metadata": {},
   "outputs": [
    {
     "data": {
      "text/plain": [
       "17000"
      ]
     },
     "execution_count": 22,
     "metadata": {},
     "output_type": "execute_result"
    }
   ],
   "source": [
    "#checking if all the customers are present in transcript dataframe\n",
    "\n",
    "len(set(transcript_new.customer_id).intersection(set(profile.customer_id)))"
   ]
  },
  {
   "cell_type": "markdown",
   "metadata": {},
   "source": [
    "**all the customers are present in the transcript DataFrame**"
   ]
  },
  {
   "cell_type": "markdown",
   "metadata": {},
   "source": [
    "**Dealing with Missing Values for Profile Dataframe**"
   ]
  },
  {
   "cell_type": "code",
   "execution_count": 23,
   "metadata": {},
   "outputs": [
    {
     "data": {
      "text/plain": [
       "array([    0,     2,     4, ..., 16989, 16991, 16994])"
      ]
     },
     "execution_count": 23,
     "metadata": {},
     "output_type": "execute_result"
    }
   ],
   "source": [
    "profile[profile.gender.isna()].index.values"
   ]
  },
  {
   "cell_type": "code",
   "execution_count": 24,
   "metadata": {},
   "outputs": [
    {
     "data": {
      "text/plain": [
       "2175"
      ]
     },
     "execution_count": 24,
     "metadata": {},
     "output_type": "execute_result"
    }
   ],
   "source": [
    "len(set(profile[profile.income.isna()].index.values).intersection(profile[profile.gender.isna()].index.values))"
   ]
  },
  {
   "cell_type": "markdown",
   "metadata": {},
   "source": [
    "so we have missing values common for both gender and income, we should further check if we can remove these records completely from the data, or we might have to use some imputation techniques to fill the missing values "
   ]
  },
  {
   "cell_type": "code",
   "execution_count": 25,
   "metadata": {},
   "outputs": [
    {
     "data": {
      "text/plain": [
       "array([118])"
      ]
     },
     "execution_count": 25,
     "metadata": {},
     "output_type": "execute_result"
    }
   ],
   "source": [
    "#age of customers who have missing gender and missing income\n",
    "profile[profile.gender.isna()].age.unique()"
   ]
  },
  {
   "cell_type": "code",
   "execution_count": 26,
   "metadata": {},
   "outputs": [
    {
     "data": {
      "text/plain": [
       "array(['68be06ca386d4c31939f3a4f0e3dd783',\n",
       "       '38fe809add3b4fcf9315a9694bb96ff5',\n",
       "       'a03223e636434f42ac4c3df47e8bac43', ...,\n",
       "       'ca45ee1883624304bac1e4c8a114f045',\n",
       "       'a9a20fa8b5504360beb4e7c8712f8306',\n",
       "       'c02b10e8752c4d8e9b73f918558531f7'], dtype=object)"
      ]
     },
     "execution_count": 26,
     "metadata": {},
     "output_type": "execute_result"
    }
   ],
   "source": [
    "#checking the customer_ids of customers with missing details\n",
    "profile[profile.gender.isna()].customer_id.values\n"
   ]
  },
  {
   "cell_type": "code",
   "execution_count": 27,
   "metadata": {},
   "outputs": [
    {
     "data": {
      "text/html": [
       "<div>\n",
       "<style scoped>\n",
       "    .dataframe tbody tr th:only-of-type {\n",
       "        vertical-align: middle;\n",
       "    }\n",
       "\n",
       "    .dataframe tbody tr th {\n",
       "        vertical-align: top;\n",
       "    }\n",
       "\n",
       "    .dataframe thead th {\n",
       "        text-align: right;\n",
       "    }\n",
       "</style>\n",
       "<table border=\"1\" class=\"dataframe\">\n",
       "  <thead>\n",
       "    <tr style=\"text-align: right;\">\n",
       "      <th></th>\n",
       "      <th>age</th>\n",
       "      <th>became_member_on</th>\n",
       "      <th>gender</th>\n",
       "      <th>customer_id</th>\n",
       "      <th>income</th>\n",
       "    </tr>\n",
       "  </thead>\n",
       "  <tbody>\n",
       "    <tr>\n",
       "      <th>0</th>\n",
       "      <td>118</td>\n",
       "      <td>20170212</td>\n",
       "      <td>None</td>\n",
       "      <td>68be06ca386d4c31939f3a4f0e3dd783</td>\n",
       "      <td>NaN</td>\n",
       "    </tr>\n",
       "  </tbody>\n",
       "</table>\n",
       "</div>"
      ],
      "text/plain": [
       "   age  became_member_on gender                       customer_id  income\n",
       "0  118          20170212   None  68be06ca386d4c31939f3a4f0e3dd783     NaN"
      ]
     },
     "execution_count": 27,
     "metadata": {},
     "output_type": "execute_result"
    }
   ],
   "source": [
    "profile[profile.customer_id == '68be06ca386d4c31939f3a4f0e3dd783']"
   ]
  },
  {
   "cell_type": "code",
   "execution_count": 28,
   "metadata": {},
   "outputs": [
    {
     "data": {
      "text/html": [
       "<div>\n",
       "<style scoped>\n",
       "    .dataframe tbody tr th:only-of-type {\n",
       "        vertical-align: middle;\n",
       "    }\n",
       "\n",
       "    .dataframe tbody tr th {\n",
       "        vertical-align: top;\n",
       "    }\n",
       "\n",
       "    .dataframe thead th {\n",
       "        text-align: right;\n",
       "    }\n",
       "</style>\n",
       "<table border=\"1\" class=\"dataframe\">\n",
       "  <thead>\n",
       "    <tr style=\"text-align: right;\">\n",
       "      <th></th>\n",
       "      <th>customer_id</th>\n",
       "      <th>time</th>\n",
       "      <th>amount</th>\n",
       "      <th>offer_id</th>\n",
       "      <th>reward</th>\n",
       "      <th>event_offer_completed</th>\n",
       "      <th>event_offer_received</th>\n",
       "      <th>event_offer_viewed</th>\n",
       "      <th>event_transaction</th>\n",
       "    </tr>\n",
       "  </thead>\n",
       "  <tbody>\n",
       "    <tr>\n",
       "      <th>53174</th>\n",
       "      <td>68be06ca386d4c31939f3a4f0e3dd783</td>\n",
       "      <td>168</td>\n",
       "      <td>NaN</td>\n",
       "      <td>2906b810c7d4411798c6938adc9daaa5</td>\n",
       "      <td>NaN</td>\n",
       "      <td>0</td>\n",
       "      <td>1</td>\n",
       "      <td>0</td>\n",
       "      <td>0</td>\n",
       "    </tr>\n",
       "    <tr>\n",
       "      <th>85290</th>\n",
       "      <td>68be06ca386d4c31939f3a4f0e3dd783</td>\n",
       "      <td>216</td>\n",
       "      <td>NaN</td>\n",
       "      <td>2906b810c7d4411798c6938adc9daaa5</td>\n",
       "      <td>NaN</td>\n",
       "      <td>0</td>\n",
       "      <td>0</td>\n",
       "      <td>1</td>\n",
       "      <td>0</td>\n",
       "    </tr>\n",
       "    <tr>\n",
       "      <th>110828</th>\n",
       "      <td>68be06ca386d4c31939f3a4f0e3dd783</td>\n",
       "      <td>336</td>\n",
       "      <td>NaN</td>\n",
       "      <td>0b1e1539f2cc45b7b9fa7c272da2e1d7</td>\n",
       "      <td>NaN</td>\n",
       "      <td>0</td>\n",
       "      <td>1</td>\n",
       "      <td>0</td>\n",
       "      <td>0</td>\n",
       "    </tr>\n",
       "    <tr>\n",
       "      <th>130147</th>\n",
       "      <td>68be06ca386d4c31939f3a4f0e3dd783</td>\n",
       "      <td>348</td>\n",
       "      <td>NaN</td>\n",
       "      <td>0b1e1539f2cc45b7b9fa7c272da2e1d7</td>\n",
       "      <td>NaN</td>\n",
       "      <td>0</td>\n",
       "      <td>0</td>\n",
       "      <td>1</td>\n",
       "      <td>0</td>\n",
       "    </tr>\n",
       "    <tr>\n",
       "      <th>135224</th>\n",
       "      <td>68be06ca386d4c31939f3a4f0e3dd783</td>\n",
       "      <td>360</td>\n",
       "      <td>0.35</td>\n",
       "      <td>NaN</td>\n",
       "      <td>NaN</td>\n",
       "      <td>0</td>\n",
       "      <td>0</td>\n",
       "      <td>0</td>\n",
       "      <td>1</td>\n",
       "    </tr>\n",
       "    <tr>\n",
       "      <th>150596</th>\n",
       "      <td>68be06ca386d4c31939f3a4f0e3dd783</td>\n",
       "      <td>408</td>\n",
       "      <td>NaN</td>\n",
       "      <td>fafdcd668e3743c1bb461111dcafc2a4</td>\n",
       "      <td>NaN</td>\n",
       "      <td>0</td>\n",
       "      <td>1</td>\n",
       "      <td>0</td>\n",
       "      <td>0</td>\n",
       "    </tr>\n",
       "    <tr>\n",
       "      <th>163374</th>\n",
       "      <td>68be06ca386d4c31939f3a4f0e3dd783</td>\n",
       "      <td>408</td>\n",
       "      <td>NaN</td>\n",
       "      <td>fafdcd668e3743c1bb461111dcafc2a4</td>\n",
       "      <td>NaN</td>\n",
       "      <td>0</td>\n",
       "      <td>0</td>\n",
       "      <td>1</td>\n",
       "      <td>0</td>\n",
       "    </tr>\n",
       "    <tr>\n",
       "      <th>167626</th>\n",
       "      <td>68be06ca386d4c31939f3a4f0e3dd783</td>\n",
       "      <td>414</td>\n",
       "      <td>0.74</td>\n",
       "      <td>NaN</td>\n",
       "      <td>NaN</td>\n",
       "      <td>0</td>\n",
       "      <td>0</td>\n",
       "      <td>0</td>\n",
       "      <td>1</td>\n",
       "    </tr>\n",
       "    <tr>\n",
       "      <th>182544</th>\n",
       "      <td>68be06ca386d4c31939f3a4f0e3dd783</td>\n",
       "      <td>444</td>\n",
       "      <td>1.89</td>\n",
       "      <td>NaN</td>\n",
       "      <td>NaN</td>\n",
       "      <td>0</td>\n",
       "      <td>0</td>\n",
       "      <td>0</td>\n",
       "      <td>1</td>\n",
       "    </tr>\n",
       "    <tr>\n",
       "      <th>201570</th>\n",
       "      <td>68be06ca386d4c31939f3a4f0e3dd783</td>\n",
       "      <td>504</td>\n",
       "      <td>NaN</td>\n",
       "      <td>2298d6c36e964ae4a3e7e9706d1fb8c2</td>\n",
       "      <td>NaN</td>\n",
       "      <td>0</td>\n",
       "      <td>1</td>\n",
       "      <td>0</td>\n",
       "      <td>0</td>\n",
       "    </tr>\n",
       "    <tr>\n",
       "      <th>214274</th>\n",
       "      <td>68be06ca386d4c31939f3a4f0e3dd783</td>\n",
       "      <td>504</td>\n",
       "      <td>NaN</td>\n",
       "      <td>2298d6c36e964ae4a3e7e9706d1fb8c2</td>\n",
       "      <td>NaN</td>\n",
       "      <td>0</td>\n",
       "      <td>0</td>\n",
       "      <td>1</td>\n",
       "      <td>0</td>\n",
       "    </tr>\n",
       "    <tr>\n",
       "      <th>218392</th>\n",
       "      <td>68be06ca386d4c31939f3a4f0e3dd783</td>\n",
       "      <td>510</td>\n",
       "      <td>5.04</td>\n",
       "      <td>NaN</td>\n",
       "      <td>NaN</td>\n",
       "      <td>0</td>\n",
       "      <td>0</td>\n",
       "      <td>0</td>\n",
       "      <td>1</td>\n",
       "    </tr>\n",
       "    <tr>\n",
       "      <th>230411</th>\n",
       "      <td>68be06ca386d4c31939f3a4f0e3dd783</td>\n",
       "      <td>534</td>\n",
       "      <td>0.38</td>\n",
       "      <td>NaN</td>\n",
       "      <td>NaN</td>\n",
       "      <td>0</td>\n",
       "      <td>0</td>\n",
       "      <td>0</td>\n",
       "      <td>1</td>\n",
       "    </tr>\n",
       "    <tr>\n",
       "      <th>237364</th>\n",
       "      <td>68be06ca386d4c31939f3a4f0e3dd783</td>\n",
       "      <td>552</td>\n",
       "      <td>2.12</td>\n",
       "      <td>NaN</td>\n",
       "      <td>NaN</td>\n",
       "      <td>0</td>\n",
       "      <td>0</td>\n",
       "      <td>0</td>\n",
       "      <td>1</td>\n",
       "    </tr>\n",
       "    <tr>\n",
       "      <th>237365</th>\n",
       "      <td>68be06ca386d4c31939f3a4f0e3dd783</td>\n",
       "      <td>552</td>\n",
       "      <td>NaN</td>\n",
       "      <td>fafdcd668e3743c1bb461111dcafc2a4</td>\n",
       "      <td>2.0</td>\n",
       "      <td>1</td>\n",
       "      <td>0</td>\n",
       "      <td>0</td>\n",
       "      <td>0</td>\n",
       "    </tr>\n",
       "    <tr>\n",
       "      <th>237366</th>\n",
       "      <td>68be06ca386d4c31939f3a4f0e3dd783</td>\n",
       "      <td>552</td>\n",
       "      <td>NaN</td>\n",
       "      <td>2298d6c36e964ae4a3e7e9706d1fb8c2</td>\n",
       "      <td>3.0</td>\n",
       "      <td>1</td>\n",
       "      <td>0</td>\n",
       "      <td>0</td>\n",
       "      <td>0</td>\n",
       "    </tr>\n",
       "    <tr>\n",
       "      <th>245122</th>\n",
       "      <td>68be06ca386d4c31939f3a4f0e3dd783</td>\n",
       "      <td>576</td>\n",
       "      <td>NaN</td>\n",
       "      <td>fafdcd668e3743c1bb461111dcafc2a4</td>\n",
       "      <td>NaN</td>\n",
       "      <td>0</td>\n",
       "      <td>1</td>\n",
       "      <td>0</td>\n",
       "      <td>0</td>\n",
       "    </tr>\n",
       "    <tr>\n",
       "      <th>262137</th>\n",
       "      <td>68be06ca386d4c31939f3a4f0e3dd783</td>\n",
       "      <td>582</td>\n",
       "      <td>NaN</td>\n",
       "      <td>fafdcd668e3743c1bb461111dcafc2a4</td>\n",
       "      <td>NaN</td>\n",
       "      <td>0</td>\n",
       "      <td>0</td>\n",
       "      <td>1</td>\n",
       "      <td>0</td>\n",
       "    </tr>\n",
       "    <tr>\n",
       "      <th>274519</th>\n",
       "      <td>68be06ca386d4c31939f3a4f0e3dd783</td>\n",
       "      <td>606</td>\n",
       "      <td>4.61</td>\n",
       "      <td>NaN</td>\n",
       "      <td>NaN</td>\n",
       "      <td>0</td>\n",
       "      <td>0</td>\n",
       "      <td>0</td>\n",
       "      <td>1</td>\n",
       "    </tr>\n",
       "    <tr>\n",
       "      <th>283959</th>\n",
       "      <td>68be06ca386d4c31939f3a4f0e3dd783</td>\n",
       "      <td>630</td>\n",
       "      <td>0.06</td>\n",
       "      <td>NaN</td>\n",
       "      <td>NaN</td>\n",
       "      <td>0</td>\n",
       "      <td>0</td>\n",
       "      <td>0</td>\n",
       "      <td>1</td>\n",
       "    </tr>\n",
       "    <tr>\n",
       "      <th>301915</th>\n",
       "      <td>68be06ca386d4c31939f3a4f0e3dd783</td>\n",
       "      <td>696</td>\n",
       "      <td>5.21</td>\n",
       "      <td>NaN</td>\n",
       "      <td>NaN</td>\n",
       "      <td>0</td>\n",
       "      <td>0</td>\n",
       "      <td>0</td>\n",
       "      <td>1</td>\n",
       "    </tr>\n",
       "  </tbody>\n",
       "</table>\n",
       "</div>"
      ],
      "text/plain": [
       "                             customer_id  time  amount  \\\n",
       "53174   68be06ca386d4c31939f3a4f0e3dd783   168     NaN   \n",
       "85290   68be06ca386d4c31939f3a4f0e3dd783   216     NaN   \n",
       "110828  68be06ca386d4c31939f3a4f0e3dd783   336     NaN   \n",
       "130147  68be06ca386d4c31939f3a4f0e3dd783   348     NaN   \n",
       "135224  68be06ca386d4c31939f3a4f0e3dd783   360    0.35   \n",
       "150596  68be06ca386d4c31939f3a4f0e3dd783   408     NaN   \n",
       "163374  68be06ca386d4c31939f3a4f0e3dd783   408     NaN   \n",
       "167626  68be06ca386d4c31939f3a4f0e3dd783   414    0.74   \n",
       "182544  68be06ca386d4c31939f3a4f0e3dd783   444    1.89   \n",
       "201570  68be06ca386d4c31939f3a4f0e3dd783   504     NaN   \n",
       "214274  68be06ca386d4c31939f3a4f0e3dd783   504     NaN   \n",
       "218392  68be06ca386d4c31939f3a4f0e3dd783   510    5.04   \n",
       "230411  68be06ca386d4c31939f3a4f0e3dd783   534    0.38   \n",
       "237364  68be06ca386d4c31939f3a4f0e3dd783   552    2.12   \n",
       "237365  68be06ca386d4c31939f3a4f0e3dd783   552     NaN   \n",
       "237366  68be06ca386d4c31939f3a4f0e3dd783   552     NaN   \n",
       "245122  68be06ca386d4c31939f3a4f0e3dd783   576     NaN   \n",
       "262137  68be06ca386d4c31939f3a4f0e3dd783   582     NaN   \n",
       "274519  68be06ca386d4c31939f3a4f0e3dd783   606    4.61   \n",
       "283959  68be06ca386d4c31939f3a4f0e3dd783   630    0.06   \n",
       "301915  68be06ca386d4c31939f3a4f0e3dd783   696    5.21   \n",
       "\n",
       "                                offer_id  reward  event_offer_completed  \\\n",
       "53174   2906b810c7d4411798c6938adc9daaa5     NaN                      0   \n",
       "85290   2906b810c7d4411798c6938adc9daaa5     NaN                      0   \n",
       "110828  0b1e1539f2cc45b7b9fa7c272da2e1d7     NaN                      0   \n",
       "130147  0b1e1539f2cc45b7b9fa7c272da2e1d7     NaN                      0   \n",
       "135224                               NaN     NaN                      0   \n",
       "150596  fafdcd668e3743c1bb461111dcafc2a4     NaN                      0   \n",
       "163374  fafdcd668e3743c1bb461111dcafc2a4     NaN                      0   \n",
       "167626                               NaN     NaN                      0   \n",
       "182544                               NaN     NaN                      0   \n",
       "201570  2298d6c36e964ae4a3e7e9706d1fb8c2     NaN                      0   \n",
       "214274  2298d6c36e964ae4a3e7e9706d1fb8c2     NaN                      0   \n",
       "218392                               NaN     NaN                      0   \n",
       "230411                               NaN     NaN                      0   \n",
       "237364                               NaN     NaN                      0   \n",
       "237365  fafdcd668e3743c1bb461111dcafc2a4     2.0                      1   \n",
       "237366  2298d6c36e964ae4a3e7e9706d1fb8c2     3.0                      1   \n",
       "245122  fafdcd668e3743c1bb461111dcafc2a4     NaN                      0   \n",
       "262137  fafdcd668e3743c1bb461111dcafc2a4     NaN                      0   \n",
       "274519                               NaN     NaN                      0   \n",
       "283959                               NaN     NaN                      0   \n",
       "301915                               NaN     NaN                      0   \n",
       "\n",
       "        event_offer_received  event_offer_viewed  event_transaction  \n",
       "53174                      1                   0                  0  \n",
       "85290                      0                   1                  0  \n",
       "110828                     1                   0                  0  \n",
       "130147                     0                   1                  0  \n",
       "135224                     0                   0                  1  \n",
       "150596                     1                   0                  0  \n",
       "163374                     0                   1                  0  \n",
       "167626                     0                   0                  1  \n",
       "182544                     0                   0                  1  \n",
       "201570                     1                   0                  0  \n",
       "214274                     0                   1                  0  \n",
       "218392                     0                   0                  1  \n",
       "230411                     0                   0                  1  \n",
       "237364                     0                   0                  1  \n",
       "237365                     0                   0                  0  \n",
       "237366                     0                   0                  0  \n",
       "245122                     1                   0                  0  \n",
       "262137                     0                   1                  0  \n",
       "274519                     0                   0                  1  \n",
       "283959                     0                   0                  1  \n",
       "301915                     0                   0                  1  "
      ]
     },
     "execution_count": 28,
     "metadata": {},
     "output_type": "execute_result"
    }
   ],
   "source": [
    "transcript_new[transcript_new.customer_id == '68be06ca386d4c31939f3a4f0e3dd783']"
   ]
  },
  {
   "cell_type": "code",
   "execution_count": 29,
   "metadata": {},
   "outputs": [
    {
     "data": {
      "text/html": [
       "<div>\n",
       "<style scoped>\n",
       "    .dataframe tbody tr th:only-of-type {\n",
       "        vertical-align: middle;\n",
       "    }\n",
       "\n",
       "    .dataframe tbody tr th {\n",
       "        vertical-align: top;\n",
       "    }\n",
       "\n",
       "    .dataframe thead th {\n",
       "        text-align: right;\n",
       "    }\n",
       "</style>\n",
       "<table border=\"1\" class=\"dataframe\">\n",
       "  <thead>\n",
       "    <tr style=\"text-align: right;\">\n",
       "      <th></th>\n",
       "      <th>age</th>\n",
       "      <th>became_member_on</th>\n",
       "      <th>gender</th>\n",
       "      <th>customer_id</th>\n",
       "      <th>income</th>\n",
       "    </tr>\n",
       "  </thead>\n",
       "  <tbody>\n",
       "    <tr>\n",
       "      <th>2</th>\n",
       "      <td>118</td>\n",
       "      <td>20180712</td>\n",
       "      <td>None</td>\n",
       "      <td>38fe809add3b4fcf9315a9694bb96ff5</td>\n",
       "      <td>NaN</td>\n",
       "    </tr>\n",
       "  </tbody>\n",
       "</table>\n",
       "</div>"
      ],
      "text/plain": [
       "   age  became_member_on gender                       customer_id  income\n",
       "2  118          20180712   None  38fe809add3b4fcf9315a9694bb96ff5     NaN"
      ]
     },
     "execution_count": 29,
     "metadata": {},
     "output_type": "execute_result"
    }
   ],
   "source": [
    "profile[profile.customer_id == '38fe809add3b4fcf9315a9694bb96ff5']"
   ]
  },
  {
   "cell_type": "code",
   "execution_count": 30,
   "metadata": {},
   "outputs": [
    {
     "data": {
      "text/html": [
       "<div>\n",
       "<style scoped>\n",
       "    .dataframe tbody tr th:only-of-type {\n",
       "        vertical-align: middle;\n",
       "    }\n",
       "\n",
       "    .dataframe tbody tr th {\n",
       "        vertical-align: top;\n",
       "    }\n",
       "\n",
       "    .dataframe thead th {\n",
       "        text-align: right;\n",
       "    }\n",
       "</style>\n",
       "<table border=\"1\" class=\"dataframe\">\n",
       "  <thead>\n",
       "    <tr style=\"text-align: right;\">\n",
       "      <th></th>\n",
       "      <th>customer_id</th>\n",
       "      <th>time</th>\n",
       "      <th>amount</th>\n",
       "      <th>offer_id</th>\n",
       "      <th>reward</th>\n",
       "      <th>event_offer_completed</th>\n",
       "      <th>event_offer_received</th>\n",
       "      <th>event_offer_viewed</th>\n",
       "      <th>event_transaction</th>\n",
       "    </tr>\n",
       "  </thead>\n",
       "  <tbody>\n",
       "    <tr>\n",
       "      <th>47581</th>\n",
       "      <td>38fe809add3b4fcf9315a9694bb96ff5</td>\n",
       "      <td>132</td>\n",
       "      <td>1.34</td>\n",
       "      <td>NaN</td>\n",
       "      <td>NaN</td>\n",
       "      <td>0</td>\n",
       "      <td>0</td>\n",
       "      <td>0</td>\n",
       "      <td>1</td>\n",
       "    </tr>\n",
       "    <tr>\n",
       "      <th>53175</th>\n",
       "      <td>38fe809add3b4fcf9315a9694bb96ff5</td>\n",
       "      <td>168</td>\n",
       "      <td>NaN</td>\n",
       "      <td>9b98b8c7a33c4b65b9aebfe6a799e6d9</td>\n",
       "      <td>NaN</td>\n",
       "      <td>0</td>\n",
       "      <td>1</td>\n",
       "      <td>0</td>\n",
       "      <td>0</td>\n",
       "    </tr>\n",
       "    <tr>\n",
       "      <th>65843</th>\n",
       "      <td>38fe809add3b4fcf9315a9694bb96ff5</td>\n",
       "      <td>168</td>\n",
       "      <td>NaN</td>\n",
       "      <td>9b98b8c7a33c4b65b9aebfe6a799e6d9</td>\n",
       "      <td>NaN</td>\n",
       "      <td>0</td>\n",
       "      <td>0</td>\n",
       "      <td>1</td>\n",
       "      <td>0</td>\n",
       "    </tr>\n",
       "    <tr>\n",
       "      <th>130148</th>\n",
       "      <td>38fe809add3b4fcf9315a9694bb96ff5</td>\n",
       "      <td>348</td>\n",
       "      <td>1.64</td>\n",
       "      <td>NaN</td>\n",
       "      <td>NaN</td>\n",
       "      <td>0</td>\n",
       "      <td>0</td>\n",
       "      <td>0</td>\n",
       "      <td>1</td>\n",
       "    </tr>\n",
       "    <tr>\n",
       "      <th>184911</th>\n",
       "      <td>38fe809add3b4fcf9315a9694bb96ff5</td>\n",
       "      <td>450</td>\n",
       "      <td>3.47</td>\n",
       "      <td>NaN</td>\n",
       "      <td>NaN</td>\n",
       "      <td>0</td>\n",
       "      <td>0</td>\n",
       "      <td>0</td>\n",
       "      <td>1</td>\n",
       "    </tr>\n",
       "    <tr>\n",
       "      <th>193184</th>\n",
       "      <td>38fe809add3b4fcf9315a9694bb96ff5</td>\n",
       "      <td>474</td>\n",
       "      <td>1.62</td>\n",
       "      <td>NaN</td>\n",
       "      <td>NaN</td>\n",
       "      <td>0</td>\n",
       "      <td>0</td>\n",
       "      <td>0</td>\n",
       "      <td>1</td>\n",
       "    </tr>\n",
       "    <tr>\n",
       "      <th>245123</th>\n",
       "      <td>38fe809add3b4fcf9315a9694bb96ff5</td>\n",
       "      <td>576</td>\n",
       "      <td>NaN</td>\n",
       "      <td>5a8bc65990b245e5a138643cd4eb9837</td>\n",
       "      <td>NaN</td>\n",
       "      <td>0</td>\n",
       "      <td>1</td>\n",
       "      <td>0</td>\n",
       "      <td>0</td>\n",
       "    </tr>\n",
       "    <tr>\n",
       "      <th>285920</th>\n",
       "      <td>38fe809add3b4fcf9315a9694bb96ff5</td>\n",
       "      <td>636</td>\n",
       "      <td>2.14</td>\n",
       "      <td>NaN</td>\n",
       "      <td>NaN</td>\n",
       "      <td>0</td>\n",
       "      <td>0</td>\n",
       "      <td>0</td>\n",
       "      <td>1</td>\n",
       "    </tr>\n",
       "    <tr>\n",
       "      <th>294714</th>\n",
       "      <td>38fe809add3b4fcf9315a9694bb96ff5</td>\n",
       "      <td>666</td>\n",
       "      <td>NaN</td>\n",
       "      <td>5a8bc65990b245e5a138643cd4eb9837</td>\n",
       "      <td>NaN</td>\n",
       "      <td>0</td>\n",
       "      <td>0</td>\n",
       "      <td>1</td>\n",
       "      <td>0</td>\n",
       "    </tr>\n",
       "    <tr>\n",
       "      <th>301916</th>\n",
       "      <td>38fe809add3b4fcf9315a9694bb96ff5</td>\n",
       "      <td>696</td>\n",
       "      <td>4.09</td>\n",
       "      <td>NaN</td>\n",
       "      <td>NaN</td>\n",
       "      <td>0</td>\n",
       "      <td>0</td>\n",
       "      <td>0</td>\n",
       "      <td>1</td>\n",
       "    </tr>\n",
       "  </tbody>\n",
       "</table>\n",
       "</div>"
      ],
      "text/plain": [
       "                             customer_id  time  amount  \\\n",
       "47581   38fe809add3b4fcf9315a9694bb96ff5   132    1.34   \n",
       "53175   38fe809add3b4fcf9315a9694bb96ff5   168     NaN   \n",
       "65843   38fe809add3b4fcf9315a9694bb96ff5   168     NaN   \n",
       "130148  38fe809add3b4fcf9315a9694bb96ff5   348    1.64   \n",
       "184911  38fe809add3b4fcf9315a9694bb96ff5   450    3.47   \n",
       "193184  38fe809add3b4fcf9315a9694bb96ff5   474    1.62   \n",
       "245123  38fe809add3b4fcf9315a9694bb96ff5   576     NaN   \n",
       "285920  38fe809add3b4fcf9315a9694bb96ff5   636    2.14   \n",
       "294714  38fe809add3b4fcf9315a9694bb96ff5   666     NaN   \n",
       "301916  38fe809add3b4fcf9315a9694bb96ff5   696    4.09   \n",
       "\n",
       "                                offer_id  reward  event_offer_completed  \\\n",
       "47581                                NaN     NaN                      0   \n",
       "53175   9b98b8c7a33c4b65b9aebfe6a799e6d9     NaN                      0   \n",
       "65843   9b98b8c7a33c4b65b9aebfe6a799e6d9     NaN                      0   \n",
       "130148                               NaN     NaN                      0   \n",
       "184911                               NaN     NaN                      0   \n",
       "193184                               NaN     NaN                      0   \n",
       "245123  5a8bc65990b245e5a138643cd4eb9837     NaN                      0   \n",
       "285920                               NaN     NaN                      0   \n",
       "294714  5a8bc65990b245e5a138643cd4eb9837     NaN                      0   \n",
       "301916                               NaN     NaN                      0   \n",
       "\n",
       "        event_offer_received  event_offer_viewed  event_transaction  \n",
       "47581                      0                   0                  1  \n",
       "53175                      1                   0                  0  \n",
       "65843                      0                   1                  0  \n",
       "130148                     0                   0                  1  \n",
       "184911                     0                   0                  1  \n",
       "193184                     0                   0                  1  \n",
       "245123                     1                   0                  0  \n",
       "285920                     0                   0                  1  \n",
       "294714                     0                   1                  0  \n",
       "301916                     0                   0                  1  "
      ]
     },
     "execution_count": 30,
     "metadata": {},
     "output_type": "execute_result"
    }
   ],
   "source": [
    "transcript_new[transcript_new.customer_id == '38fe809add3b4fcf9315a9694bb96ff5']"
   ]
  },
  {
   "cell_type": "markdown",
   "metadata": {},
   "source": [
    "In the above cells I have checked if there is any signifiance for the users with missing values. It looks like the users have made transactions also, so they are definetly useful for our further analysis.\n",
    "\n",
    "It must be that these users do not provide information like age, gender and income while becoming a member, so we will have to use some imputation techniques to fill in these details, we cannot do much with gender, but lets try to fill in details of income and we can figure out what can done with age, as every user with these missing values has an age of 118, which doesnot make sense."
   ]
  },
  {
   "cell_type": "code",
   "execution_count": 31,
   "metadata": {},
   "outputs": [
    {
     "data": {
      "text/html": [
       "<div>\n",
       "<style scoped>\n",
       "    .dataframe tbody tr th:only-of-type {\n",
       "        vertical-align: middle;\n",
       "    }\n",
       "\n",
       "    .dataframe tbody tr th {\n",
       "        vertical-align: top;\n",
       "    }\n",
       "\n",
       "    .dataframe thead th {\n",
       "        text-align: right;\n",
       "    }\n",
       "</style>\n",
       "<table border=\"1\" class=\"dataframe\">\n",
       "  <thead>\n",
       "    <tr style=\"text-align: right;\">\n",
       "      <th></th>\n",
       "      <th>age</th>\n",
       "      <th>became_member_on</th>\n",
       "      <th>gender</th>\n",
       "      <th>customer_id</th>\n",
       "      <th>income</th>\n",
       "    </tr>\n",
       "  </thead>\n",
       "  <tbody>\n",
       "    <tr>\n",
       "      <th>0</th>\n",
       "      <td>118</td>\n",
       "      <td>20170212</td>\n",
       "      <td>None</td>\n",
       "      <td>68be06ca386d4c31939f3a4f0e3dd783</td>\n",
       "      <td>NaN</td>\n",
       "    </tr>\n",
       "    <tr>\n",
       "      <th>1</th>\n",
       "      <td>55</td>\n",
       "      <td>20170715</td>\n",
       "      <td>F</td>\n",
       "      <td>0610b486422d4921ae7d2bf64640c50b</td>\n",
       "      <td>112000.0</td>\n",
       "    </tr>\n",
       "    <tr>\n",
       "      <th>2</th>\n",
       "      <td>118</td>\n",
       "      <td>20180712</td>\n",
       "      <td>None</td>\n",
       "      <td>38fe809add3b4fcf9315a9694bb96ff5</td>\n",
       "      <td>NaN</td>\n",
       "    </tr>\n",
       "    <tr>\n",
       "      <th>3</th>\n",
       "      <td>75</td>\n",
       "      <td>20170509</td>\n",
       "      <td>F</td>\n",
       "      <td>78afa995795e4d85b5d9ceeca43f5fef</td>\n",
       "      <td>100000.0</td>\n",
       "    </tr>\n",
       "    <tr>\n",
       "      <th>4</th>\n",
       "      <td>118</td>\n",
       "      <td>20170804</td>\n",
       "      <td>None</td>\n",
       "      <td>a03223e636434f42ac4c3df47e8bac43</td>\n",
       "      <td>NaN</td>\n",
       "    </tr>\n",
       "  </tbody>\n",
       "</table>\n",
       "</div>"
      ],
      "text/plain": [
       "   age  became_member_on gender                       customer_id    income\n",
       "0  118          20170212   None  68be06ca386d4c31939f3a4f0e3dd783       NaN\n",
       "1   55          20170715      F  0610b486422d4921ae7d2bf64640c50b  112000.0\n",
       "2  118          20180712   None  38fe809add3b4fcf9315a9694bb96ff5       NaN\n",
       "3   75          20170509      F  78afa995795e4d85b5d9ceeca43f5fef  100000.0\n",
       "4  118          20170804   None  a03223e636434f42ac4c3df47e8bac43       NaN"
      ]
     },
     "execution_count": 31,
     "metadata": {},
     "output_type": "execute_result"
    }
   ],
   "source": [
    "profile.head()"
   ]
  },
  {
   "cell_type": "markdown",
   "metadata": {},
   "source": [
    "Lets deal with the became_member_on column"
   ]
  },
  {
   "cell_type": "code",
   "execution_count": 32,
   "metadata": {},
   "outputs": [],
   "source": [
    "#changing the column name and converting it into datetime type, which gives us flexibity in understanding the dates\n",
    "\n",
    "profile['member_since'] = profile['became_member_on'].apply(lambda x: pd.to_datetime(str(x), format='%Y%m%d'))\n",
    "\n",
    "#spltting the member_since column into 3 columns, which will help in ananlysis\n",
    "\n",
    "profile[['start_year','start_month','start_day']] = profile['member_since'].apply(lambda x :pd.Series(x.strftime(\"%Y,%m,%d\").split(\",\")))\n",
    "\n",
    "\n",
    "#dropping the became_member_on column\n",
    "\n",
    "profile = profile.drop('became_member_on' ,axis= 1)\n",
    "\n"
   ]
  },
  {
   "cell_type": "code",
   "execution_count": 33,
   "metadata": {},
   "outputs": [
    {
     "data": {
      "text/html": [
       "<div>\n",
       "<style scoped>\n",
       "    .dataframe tbody tr th:only-of-type {\n",
       "        vertical-align: middle;\n",
       "    }\n",
       "\n",
       "    .dataframe tbody tr th {\n",
       "        vertical-align: top;\n",
       "    }\n",
       "\n",
       "    .dataframe thead th {\n",
       "        text-align: right;\n",
       "    }\n",
       "</style>\n",
       "<table border=\"1\" class=\"dataframe\">\n",
       "  <thead>\n",
       "    <tr style=\"text-align: right;\">\n",
       "      <th></th>\n",
       "      <th>age</th>\n",
       "      <th>gender</th>\n",
       "      <th>customer_id</th>\n",
       "      <th>income</th>\n",
       "      <th>member_since</th>\n",
       "      <th>start_year</th>\n",
       "      <th>start_month</th>\n",
       "      <th>start_day</th>\n",
       "    </tr>\n",
       "  </thead>\n",
       "  <tbody>\n",
       "    <tr>\n",
       "      <th>0</th>\n",
       "      <td>118</td>\n",
       "      <td>None</td>\n",
       "      <td>68be06ca386d4c31939f3a4f0e3dd783</td>\n",
       "      <td>NaN</td>\n",
       "      <td>2017-02-12</td>\n",
       "      <td>2017</td>\n",
       "      <td>02</td>\n",
       "      <td>12</td>\n",
       "    </tr>\n",
       "    <tr>\n",
       "      <th>1</th>\n",
       "      <td>55</td>\n",
       "      <td>F</td>\n",
       "      <td>0610b486422d4921ae7d2bf64640c50b</td>\n",
       "      <td>112000.0</td>\n",
       "      <td>2017-07-15</td>\n",
       "      <td>2017</td>\n",
       "      <td>07</td>\n",
       "      <td>15</td>\n",
       "    </tr>\n",
       "    <tr>\n",
       "      <th>2</th>\n",
       "      <td>118</td>\n",
       "      <td>None</td>\n",
       "      <td>38fe809add3b4fcf9315a9694bb96ff5</td>\n",
       "      <td>NaN</td>\n",
       "      <td>2018-07-12</td>\n",
       "      <td>2018</td>\n",
       "      <td>07</td>\n",
       "      <td>12</td>\n",
       "    </tr>\n",
       "    <tr>\n",
       "      <th>3</th>\n",
       "      <td>75</td>\n",
       "      <td>F</td>\n",
       "      <td>78afa995795e4d85b5d9ceeca43f5fef</td>\n",
       "      <td>100000.0</td>\n",
       "      <td>2017-05-09</td>\n",
       "      <td>2017</td>\n",
       "      <td>05</td>\n",
       "      <td>09</td>\n",
       "    </tr>\n",
       "    <tr>\n",
       "      <th>4</th>\n",
       "      <td>118</td>\n",
       "      <td>None</td>\n",
       "      <td>a03223e636434f42ac4c3df47e8bac43</td>\n",
       "      <td>NaN</td>\n",
       "      <td>2017-08-04</td>\n",
       "      <td>2017</td>\n",
       "      <td>08</td>\n",
       "      <td>04</td>\n",
       "    </tr>\n",
       "  </tbody>\n",
       "</table>\n",
       "</div>"
      ],
      "text/plain": [
       "   age gender                       customer_id    income member_since  \\\n",
       "0  118   None  68be06ca386d4c31939f3a4f0e3dd783       NaN   2017-02-12   \n",
       "1   55      F  0610b486422d4921ae7d2bf64640c50b  112000.0   2017-07-15   \n",
       "2  118   None  38fe809add3b4fcf9315a9694bb96ff5       NaN   2018-07-12   \n",
       "3   75      F  78afa995795e4d85b5d9ceeca43f5fef  100000.0   2017-05-09   \n",
       "4  118   None  a03223e636434f42ac4c3df47e8bac43       NaN   2017-08-04   \n",
       "\n",
       "  start_year start_month start_day  \n",
       "0       2017          02        12  \n",
       "1       2017          07        15  \n",
       "2       2018          07        12  \n",
       "3       2017          05        09  \n",
       "4       2017          08        04  "
      ]
     },
     "execution_count": 33,
     "metadata": {},
     "output_type": "execute_result"
    }
   ],
   "source": [
    "#check the modified dataframe\n",
    "profile.head()"
   ]
  },
  {
   "cell_type": "code",
   "execution_count": 34,
   "metadata": {},
   "outputs": [
    {
     "name": "stdout",
     "output_type": "stream",
     "text": [
      " Mean :65404.9915682968, Median : 64000.0\n"
     ]
    }
   ],
   "source": [
    "# checking the mean and median values of the profile income column\n",
    "print(f\" Mean :{profile.income.mean()}, Median : {profile.income.median()}\")"
   ]
  },
  {
   "cell_type": "markdown",
   "metadata": {},
   "source": [
    "We can use one of these values to fill in the missing values, but as per income is concerned depending on the year, people generally get paid more, on that basis i did not want to directly use mean of the whole dataset.\n",
    "\n",
    "Instead i want to calculate average income for every year and fill in the missing values with the income value for that respective year."
   ]
  },
  {
   "cell_type": "code",
   "execution_count": 35,
   "metadata": {},
   "outputs": [
    {
     "data": {
      "text/html": [
       "<div>\n",
       "<style scoped>\n",
       "    .dataframe tbody tr th:only-of-type {\n",
       "        vertical-align: middle;\n",
       "    }\n",
       "\n",
       "    .dataframe tbody tr th {\n",
       "        vertical-align: top;\n",
       "    }\n",
       "\n",
       "    .dataframe thead th {\n",
       "        text-align: right;\n",
       "    }\n",
       "</style>\n",
       "<table border=\"1\" class=\"dataframe\">\n",
       "  <thead>\n",
       "    <tr style=\"text-align: right;\">\n",
       "      <th></th>\n",
       "      <th>income</th>\n",
       "    </tr>\n",
       "    <tr>\n",
       "      <th>start_year</th>\n",
       "      <th></th>\n",
       "    </tr>\n",
       "  </thead>\n",
       "  <tbody>\n",
       "    <tr>\n",
       "      <th>2013</th>\n",
       "      <td>57664.233577</td>\n",
       "    </tr>\n",
       "    <tr>\n",
       "      <th>2014</th>\n",
       "      <td>58200.906344</td>\n",
       "    </tr>\n",
       "    <tr>\n",
       "      <th>2015</th>\n",
       "      <td>67072.010019</td>\n",
       "    </tr>\n",
       "    <tr>\n",
       "      <th>2016</th>\n",
       "      <td>70592.592593</td>\n",
       "    </tr>\n",
       "    <tr>\n",
       "      <th>2017</th>\n",
       "      <td>65685.479550</td>\n",
       "    </tr>\n",
       "    <tr>\n",
       "      <th>2018</th>\n",
       "      <td>61853.638594</td>\n",
       "    </tr>\n",
       "  </tbody>\n",
       "</table>\n",
       "</div>"
      ],
      "text/plain": [
       "                  income\n",
       "start_year              \n",
       "2013        57664.233577\n",
       "2014        58200.906344\n",
       "2015        67072.010019\n",
       "2016        70592.592593\n",
       "2017        65685.479550\n",
       "2018        61853.638594"
      ]
     },
     "execution_count": 35,
     "metadata": {},
     "output_type": "execute_result"
    }
   ],
   "source": [
    "#grouping by year and checkin the mean value\n",
    "pd.DataFrame(profile.groupby(['start_year'])['income'].mean())"
   ]
  },
  {
   "cell_type": "markdown",
   "metadata": {},
   "source": [
    "Here we can see average income for that particular year, so we can use these values to fill in the icome column checking the start_year"
   ]
  },
  {
   "cell_type": "code",
   "execution_count": 36,
   "metadata": {},
   "outputs": [],
   "source": [
    "#using the values from above to fill in the missing values of income\n",
    "profile['income'] = profile.apply(\n",
    "                        lambda row : 57664 if np.isnan(row['income']) and row['start_year'] == '2013' \n",
    "                                    else 58200 if np.isnan(row['income']) and row['start_year'] == '2014'\n",
    "                                    else 67072 if np.isnan(row['income']) and row['start_year'] == '2015'\n",
    "                                    else 70592 if np.isnan(row['income']) and row['start_year'] == '2016'\n",
    "                                    else 65685 if np.isnan(row['income']) and row['start_year'] == '2017'\n",
    "                                    else 61853 if np.isnan(row['income']) and row['start_year'] == '2018'\n",
    "                                    else row['income'],\n",
    "                                    axis = 1) "
   ]
  },
  {
   "cell_type": "code",
   "execution_count": 37,
   "metadata": {},
   "outputs": [],
   "source": [
    "#I cannot do much with age and gender columns so just leaving then as it is\n",
    "\n",
    "profile['gender'].fillna('NA', inplace=True)"
   ]
  },
  {
   "cell_type": "code",
   "execution_count": 38,
   "metadata": {},
   "outputs": [
    {
     "data": {
      "text/html": [
       "<div>\n",
       "<style scoped>\n",
       "    .dataframe tbody tr th:only-of-type {\n",
       "        vertical-align: middle;\n",
       "    }\n",
       "\n",
       "    .dataframe tbody tr th {\n",
       "        vertical-align: top;\n",
       "    }\n",
       "\n",
       "    .dataframe thead th {\n",
       "        text-align: right;\n",
       "    }\n",
       "</style>\n",
       "<table border=\"1\" class=\"dataframe\">\n",
       "  <thead>\n",
       "    <tr style=\"text-align: right;\">\n",
       "      <th></th>\n",
       "      <th>age</th>\n",
       "      <th>gender</th>\n",
       "      <th>customer_id</th>\n",
       "      <th>income</th>\n",
       "      <th>member_since</th>\n",
       "      <th>start_year</th>\n",
       "      <th>start_month</th>\n",
       "      <th>start_day</th>\n",
       "    </tr>\n",
       "  </thead>\n",
       "  <tbody>\n",
       "    <tr>\n",
       "      <th>0</th>\n",
       "      <td>118</td>\n",
       "      <td>NA</td>\n",
       "      <td>68be06ca386d4c31939f3a4f0e3dd783</td>\n",
       "      <td>65685.0</td>\n",
       "      <td>2017-02-12</td>\n",
       "      <td>2017</td>\n",
       "      <td>02</td>\n",
       "      <td>12</td>\n",
       "    </tr>\n",
       "    <tr>\n",
       "      <th>1</th>\n",
       "      <td>55</td>\n",
       "      <td>F</td>\n",
       "      <td>0610b486422d4921ae7d2bf64640c50b</td>\n",
       "      <td>112000.0</td>\n",
       "      <td>2017-07-15</td>\n",
       "      <td>2017</td>\n",
       "      <td>07</td>\n",
       "      <td>15</td>\n",
       "    </tr>\n",
       "    <tr>\n",
       "      <th>2</th>\n",
       "      <td>118</td>\n",
       "      <td>NA</td>\n",
       "      <td>38fe809add3b4fcf9315a9694bb96ff5</td>\n",
       "      <td>61853.0</td>\n",
       "      <td>2018-07-12</td>\n",
       "      <td>2018</td>\n",
       "      <td>07</td>\n",
       "      <td>12</td>\n",
       "    </tr>\n",
       "    <tr>\n",
       "      <th>3</th>\n",
       "      <td>75</td>\n",
       "      <td>F</td>\n",
       "      <td>78afa995795e4d85b5d9ceeca43f5fef</td>\n",
       "      <td>100000.0</td>\n",
       "      <td>2017-05-09</td>\n",
       "      <td>2017</td>\n",
       "      <td>05</td>\n",
       "      <td>09</td>\n",
       "    </tr>\n",
       "    <tr>\n",
       "      <th>4</th>\n",
       "      <td>118</td>\n",
       "      <td>NA</td>\n",
       "      <td>a03223e636434f42ac4c3df47e8bac43</td>\n",
       "      <td>65685.0</td>\n",
       "      <td>2017-08-04</td>\n",
       "      <td>2017</td>\n",
       "      <td>08</td>\n",
       "      <td>04</td>\n",
       "    </tr>\n",
       "  </tbody>\n",
       "</table>\n",
       "</div>"
      ],
      "text/plain": [
       "   age gender                       customer_id    income member_since  \\\n",
       "0  118     NA  68be06ca386d4c31939f3a4f0e3dd783   65685.0   2017-02-12   \n",
       "1   55      F  0610b486422d4921ae7d2bf64640c50b  112000.0   2017-07-15   \n",
       "2  118     NA  38fe809add3b4fcf9315a9694bb96ff5   61853.0   2018-07-12   \n",
       "3   75      F  78afa995795e4d85b5d9ceeca43f5fef  100000.0   2017-05-09   \n",
       "4  118     NA  a03223e636434f42ac4c3df47e8bac43   65685.0   2017-08-04   \n",
       "\n",
       "  start_year start_month start_day  \n",
       "0       2017          02        12  \n",
       "1       2017          07        15  \n",
       "2       2018          07        12  \n",
       "3       2017          05        09  \n",
       "4       2017          08        04  "
      ]
     },
     "execution_count": 38,
     "metadata": {},
     "output_type": "execute_result"
    }
   ],
   "source": [
    "profile.head()"
   ]
  },
  {
   "cell_type": "code",
   "execution_count": 39,
   "metadata": {},
   "outputs": [
    {
     "data": {
      "text/plain": [
       "62.531411764705879"
      ]
     },
     "execution_count": 39,
     "metadata": {},
     "output_type": "execute_result"
    }
   ],
   "source": [
    "profile.age.mean()"
   ]
  },
  {
   "cell_type": "markdown",
   "metadata": {},
   "source": [
    "### 3.3 Cleaning the portfolio DataFrame "
   ]
  },
  {
   "cell_type": "code",
   "execution_count": 40,
   "metadata": {},
   "outputs": [
    {
     "data": {
      "text/html": [
       "<div>\n",
       "<style scoped>\n",
       "    .dataframe tbody tr th:only-of-type {\n",
       "        vertical-align: middle;\n",
       "    }\n",
       "\n",
       "    .dataframe tbody tr th {\n",
       "        vertical-align: top;\n",
       "    }\n",
       "\n",
       "    .dataframe thead th {\n",
       "        text-align: right;\n",
       "    }\n",
       "</style>\n",
       "<table border=\"1\" class=\"dataframe\">\n",
       "  <thead>\n",
       "    <tr style=\"text-align: right;\">\n",
       "      <th></th>\n",
       "      <th>channels</th>\n",
       "      <th>difficulty</th>\n",
       "      <th>duration</th>\n",
       "      <th>offer_id</th>\n",
       "      <th>offer_type</th>\n",
       "      <th>reward</th>\n",
       "    </tr>\n",
       "  </thead>\n",
       "  <tbody>\n",
       "    <tr>\n",
       "      <th>0</th>\n",
       "      <td>[email, mobile, social]</td>\n",
       "      <td>10</td>\n",
       "      <td>7</td>\n",
       "      <td>ae264e3637204a6fb9bb56bc8210ddfd</td>\n",
       "      <td>bogo</td>\n",
       "      <td>10</td>\n",
       "    </tr>\n",
       "    <tr>\n",
       "      <th>1</th>\n",
       "      <td>[web, email, mobile, social]</td>\n",
       "      <td>10</td>\n",
       "      <td>5</td>\n",
       "      <td>4d5c57ea9a6940dd891ad53e9dbe8da0</td>\n",
       "      <td>bogo</td>\n",
       "      <td>10</td>\n",
       "    </tr>\n",
       "    <tr>\n",
       "      <th>2</th>\n",
       "      <td>[web, email, mobile]</td>\n",
       "      <td>0</td>\n",
       "      <td>4</td>\n",
       "      <td>3f207df678b143eea3cee63160fa8bed</td>\n",
       "      <td>informational</td>\n",
       "      <td>0</td>\n",
       "    </tr>\n",
       "    <tr>\n",
       "      <th>3</th>\n",
       "      <td>[web, email, mobile]</td>\n",
       "      <td>5</td>\n",
       "      <td>7</td>\n",
       "      <td>9b98b8c7a33c4b65b9aebfe6a799e6d9</td>\n",
       "      <td>bogo</td>\n",
       "      <td>5</td>\n",
       "    </tr>\n",
       "    <tr>\n",
       "      <th>4</th>\n",
       "      <td>[web, email]</td>\n",
       "      <td>20</td>\n",
       "      <td>10</td>\n",
       "      <td>0b1e1539f2cc45b7b9fa7c272da2e1d7</td>\n",
       "      <td>discount</td>\n",
       "      <td>5</td>\n",
       "    </tr>\n",
       "    <tr>\n",
       "      <th>5</th>\n",
       "      <td>[web, email, mobile, social]</td>\n",
       "      <td>7</td>\n",
       "      <td>7</td>\n",
       "      <td>2298d6c36e964ae4a3e7e9706d1fb8c2</td>\n",
       "      <td>discount</td>\n",
       "      <td>3</td>\n",
       "    </tr>\n",
       "    <tr>\n",
       "      <th>6</th>\n",
       "      <td>[web, email, mobile, social]</td>\n",
       "      <td>10</td>\n",
       "      <td>10</td>\n",
       "      <td>fafdcd668e3743c1bb461111dcafc2a4</td>\n",
       "      <td>discount</td>\n",
       "      <td>2</td>\n",
       "    </tr>\n",
       "    <tr>\n",
       "      <th>7</th>\n",
       "      <td>[email, mobile, social]</td>\n",
       "      <td>0</td>\n",
       "      <td>3</td>\n",
       "      <td>5a8bc65990b245e5a138643cd4eb9837</td>\n",
       "      <td>informational</td>\n",
       "      <td>0</td>\n",
       "    </tr>\n",
       "    <tr>\n",
       "      <th>8</th>\n",
       "      <td>[web, email, mobile, social]</td>\n",
       "      <td>5</td>\n",
       "      <td>5</td>\n",
       "      <td>f19421c1d4aa40978ebb69ca19b0e20d</td>\n",
       "      <td>bogo</td>\n",
       "      <td>5</td>\n",
       "    </tr>\n",
       "    <tr>\n",
       "      <th>9</th>\n",
       "      <td>[web, email, mobile]</td>\n",
       "      <td>10</td>\n",
       "      <td>7</td>\n",
       "      <td>2906b810c7d4411798c6938adc9daaa5</td>\n",
       "      <td>discount</td>\n",
       "      <td>2</td>\n",
       "    </tr>\n",
       "  </tbody>\n",
       "</table>\n",
       "</div>"
      ],
      "text/plain": [
       "                       channels  difficulty  duration  \\\n",
       "0       [email, mobile, social]          10         7   \n",
       "1  [web, email, mobile, social]          10         5   \n",
       "2          [web, email, mobile]           0         4   \n",
       "3          [web, email, mobile]           5         7   \n",
       "4                  [web, email]          20        10   \n",
       "5  [web, email, mobile, social]           7         7   \n",
       "6  [web, email, mobile, social]          10        10   \n",
       "7       [email, mobile, social]           0         3   \n",
       "8  [web, email, mobile, social]           5         5   \n",
       "9          [web, email, mobile]          10         7   \n",
       "\n",
       "                           offer_id     offer_type  reward  \n",
       "0  ae264e3637204a6fb9bb56bc8210ddfd           bogo      10  \n",
       "1  4d5c57ea9a6940dd891ad53e9dbe8da0           bogo      10  \n",
       "2  3f207df678b143eea3cee63160fa8bed  informational       0  \n",
       "3  9b98b8c7a33c4b65b9aebfe6a799e6d9           bogo       5  \n",
       "4  0b1e1539f2cc45b7b9fa7c272da2e1d7       discount       5  \n",
       "5  2298d6c36e964ae4a3e7e9706d1fb8c2       discount       3  \n",
       "6  fafdcd668e3743c1bb461111dcafc2a4       discount       2  \n",
       "7  5a8bc65990b245e5a138643cd4eb9837  informational       0  \n",
       "8  f19421c1d4aa40978ebb69ca19b0e20d           bogo       5  \n",
       "9  2906b810c7d4411798c6938adc9daaa5       discount       2  "
      ]
     },
     "execution_count": 40,
     "metadata": {},
     "output_type": "execute_result"
    }
   ],
   "source": [
    "portfolio"
   ]
  },
  {
   "cell_type": "code",
   "execution_count": 41,
   "metadata": {},
   "outputs": [
    {
     "name": "stdout",
     "output_type": "stream",
     "text": [
      "<class 'pandas.core.frame.DataFrame'>\n",
      "RangeIndex: 10 entries, 0 to 9\n",
      "Data columns (total 6 columns):\n",
      "channels      10 non-null object\n",
      "difficulty    10 non-null int64\n",
      "duration      10 non-null int64\n",
      "offer_id      10 non-null object\n",
      "offer_type    10 non-null object\n",
      "reward        10 non-null int64\n",
      "dtypes: int64(3), object(3)\n",
      "memory usage: 560.0+ bytes\n"
     ]
    }
   ],
   "source": [
    "portfolio.info()"
   ]
  },
  {
   "cell_type": "markdown",
   "metadata": {},
   "source": [
    "This dataframe looks cleaner, but we can split the channels column and create dummies for each value."
   ]
  },
  {
   "cell_type": "code",
   "execution_count": 42,
   "metadata": {},
   "outputs": [],
   "source": [
    "#we neeed to have unique channels available\n",
    "all_channels = set()\n",
    "for channels in portfolio.channels:\n",
    "    all_channels.update(set(channels))"
   ]
  },
  {
   "cell_type": "code",
   "execution_count": 43,
   "metadata": {},
   "outputs": [],
   "source": [
    "for channel in all_channels:\n",
    "    #create a new column for each channel\n",
    "    portfolio[channel] = portfolio.channels.apply(lambda x : channel in x).map({True : 1, False : 0})"
   ]
  },
  {
   "cell_type": "code",
   "execution_count": 44,
   "metadata": {},
   "outputs": [],
   "source": [
    "portfolio.drop('channels', axis = 1, inplace = True)"
   ]
  },
  {
   "cell_type": "code",
   "execution_count": 45,
   "metadata": {},
   "outputs": [
    {
     "data": {
      "text/html": [
       "<div>\n",
       "<style scoped>\n",
       "    .dataframe tbody tr th:only-of-type {\n",
       "        vertical-align: middle;\n",
       "    }\n",
       "\n",
       "    .dataframe tbody tr th {\n",
       "        vertical-align: top;\n",
       "    }\n",
       "\n",
       "    .dataframe thead th {\n",
       "        text-align: right;\n",
       "    }\n",
       "</style>\n",
       "<table border=\"1\" class=\"dataframe\">\n",
       "  <thead>\n",
       "    <tr style=\"text-align: right;\">\n",
       "      <th></th>\n",
       "      <th>difficulty</th>\n",
       "      <th>duration</th>\n",
       "      <th>offer_id</th>\n",
       "      <th>offer_type</th>\n",
       "      <th>reward</th>\n",
       "      <th>social</th>\n",
       "      <th>mobile</th>\n",
       "      <th>email</th>\n",
       "      <th>web</th>\n",
       "    </tr>\n",
       "  </thead>\n",
       "  <tbody>\n",
       "    <tr>\n",
       "      <th>0</th>\n",
       "      <td>10</td>\n",
       "      <td>7</td>\n",
       "      <td>ae264e3637204a6fb9bb56bc8210ddfd</td>\n",
       "      <td>bogo</td>\n",
       "      <td>10</td>\n",
       "      <td>1</td>\n",
       "      <td>1</td>\n",
       "      <td>1</td>\n",
       "      <td>0</td>\n",
       "    </tr>\n",
       "    <tr>\n",
       "      <th>1</th>\n",
       "      <td>10</td>\n",
       "      <td>5</td>\n",
       "      <td>4d5c57ea9a6940dd891ad53e9dbe8da0</td>\n",
       "      <td>bogo</td>\n",
       "      <td>10</td>\n",
       "      <td>1</td>\n",
       "      <td>1</td>\n",
       "      <td>1</td>\n",
       "      <td>1</td>\n",
       "    </tr>\n",
       "    <tr>\n",
       "      <th>2</th>\n",
       "      <td>0</td>\n",
       "      <td>4</td>\n",
       "      <td>3f207df678b143eea3cee63160fa8bed</td>\n",
       "      <td>informational</td>\n",
       "      <td>0</td>\n",
       "      <td>0</td>\n",
       "      <td>1</td>\n",
       "      <td>1</td>\n",
       "      <td>1</td>\n",
       "    </tr>\n",
       "    <tr>\n",
       "      <th>3</th>\n",
       "      <td>5</td>\n",
       "      <td>7</td>\n",
       "      <td>9b98b8c7a33c4b65b9aebfe6a799e6d9</td>\n",
       "      <td>bogo</td>\n",
       "      <td>5</td>\n",
       "      <td>0</td>\n",
       "      <td>1</td>\n",
       "      <td>1</td>\n",
       "      <td>1</td>\n",
       "    </tr>\n",
       "    <tr>\n",
       "      <th>4</th>\n",
       "      <td>20</td>\n",
       "      <td>10</td>\n",
       "      <td>0b1e1539f2cc45b7b9fa7c272da2e1d7</td>\n",
       "      <td>discount</td>\n",
       "      <td>5</td>\n",
       "      <td>0</td>\n",
       "      <td>0</td>\n",
       "      <td>1</td>\n",
       "      <td>1</td>\n",
       "    </tr>\n",
       "  </tbody>\n",
       "</table>\n",
       "</div>"
      ],
      "text/plain": [
       "   difficulty  duration                          offer_id     offer_type  \\\n",
       "0          10         7  ae264e3637204a6fb9bb56bc8210ddfd           bogo   \n",
       "1          10         5  4d5c57ea9a6940dd891ad53e9dbe8da0           bogo   \n",
       "2           0         4  3f207df678b143eea3cee63160fa8bed  informational   \n",
       "3           5         7  9b98b8c7a33c4b65b9aebfe6a799e6d9           bogo   \n",
       "4          20        10  0b1e1539f2cc45b7b9fa7c272da2e1d7       discount   \n",
       "\n",
       "   reward  social  mobile  email  web  \n",
       "0      10       1       1      1    0  \n",
       "1      10       1       1      1    1  \n",
       "2       0       0       1      1    1  \n",
       "3       5       0       1      1    1  \n",
       "4       5       0       0      1    1  "
      ]
     },
     "execution_count": 45,
     "metadata": {},
     "output_type": "execute_result"
    }
   ],
   "source": [
    "portfolio.head()"
   ]
  },
  {
   "cell_type": "markdown",
   "metadata": {},
   "source": [
    "### 3.4  Merging The DataFrames"
   ]
  },
  {
   "cell_type": "code",
   "execution_count": 46,
   "metadata": {},
   "outputs": [],
   "source": [
    "# merging Transcript and profile Dataframe, on common column \"customer_id\"\n",
    "\n",
    "transcript_new = transcript_new.merge(profile, on = ['customer_id'])"
   ]
  },
  {
   "cell_type": "code",
   "execution_count": 47,
   "metadata": {},
   "outputs": [
    {
     "data": {
      "text/html": [
       "<div>\n",
       "<style scoped>\n",
       "    .dataframe tbody tr th:only-of-type {\n",
       "        vertical-align: middle;\n",
       "    }\n",
       "\n",
       "    .dataframe tbody tr th {\n",
       "        vertical-align: top;\n",
       "    }\n",
       "\n",
       "    .dataframe thead th {\n",
       "        text-align: right;\n",
       "    }\n",
       "</style>\n",
       "<table border=\"1\" class=\"dataframe\">\n",
       "  <thead>\n",
       "    <tr style=\"text-align: right;\">\n",
       "      <th></th>\n",
       "      <th>customer_id</th>\n",
       "      <th>time</th>\n",
       "      <th>amount</th>\n",
       "      <th>offer_id</th>\n",
       "      <th>reward</th>\n",
       "      <th>event_offer_completed</th>\n",
       "      <th>event_offer_received</th>\n",
       "      <th>event_offer_viewed</th>\n",
       "      <th>event_transaction</th>\n",
       "      <th>age</th>\n",
       "      <th>gender</th>\n",
       "      <th>income</th>\n",
       "      <th>member_since</th>\n",
       "      <th>start_year</th>\n",
       "      <th>start_month</th>\n",
       "      <th>start_day</th>\n",
       "    </tr>\n",
       "  </thead>\n",
       "  <tbody>\n",
       "    <tr>\n",
       "      <th>0</th>\n",
       "      <td>78afa995795e4d85b5d9ceeca43f5fef</td>\n",
       "      <td>0</td>\n",
       "      <td>NaN</td>\n",
       "      <td>9b98b8c7a33c4b65b9aebfe6a799e6d9</td>\n",
       "      <td>NaN</td>\n",
       "      <td>0</td>\n",
       "      <td>1</td>\n",
       "      <td>0</td>\n",
       "      <td>0</td>\n",
       "      <td>75</td>\n",
       "      <td>F</td>\n",
       "      <td>100000.0</td>\n",
       "      <td>2017-05-09</td>\n",
       "      <td>2017</td>\n",
       "      <td>05</td>\n",
       "      <td>09</td>\n",
       "    </tr>\n",
       "    <tr>\n",
       "      <th>1</th>\n",
       "      <td>78afa995795e4d85b5d9ceeca43f5fef</td>\n",
       "      <td>6</td>\n",
       "      <td>NaN</td>\n",
       "      <td>9b98b8c7a33c4b65b9aebfe6a799e6d9</td>\n",
       "      <td>NaN</td>\n",
       "      <td>0</td>\n",
       "      <td>0</td>\n",
       "      <td>1</td>\n",
       "      <td>0</td>\n",
       "      <td>75</td>\n",
       "      <td>F</td>\n",
       "      <td>100000.0</td>\n",
       "      <td>2017-05-09</td>\n",
       "      <td>2017</td>\n",
       "      <td>05</td>\n",
       "      <td>09</td>\n",
       "    </tr>\n",
       "    <tr>\n",
       "      <th>2</th>\n",
       "      <td>78afa995795e4d85b5d9ceeca43f5fef</td>\n",
       "      <td>132</td>\n",
       "      <td>19.89</td>\n",
       "      <td>NaN</td>\n",
       "      <td>NaN</td>\n",
       "      <td>0</td>\n",
       "      <td>0</td>\n",
       "      <td>0</td>\n",
       "      <td>1</td>\n",
       "      <td>75</td>\n",
       "      <td>F</td>\n",
       "      <td>100000.0</td>\n",
       "      <td>2017-05-09</td>\n",
       "      <td>2017</td>\n",
       "      <td>05</td>\n",
       "      <td>09</td>\n",
       "    </tr>\n",
       "    <tr>\n",
       "      <th>3</th>\n",
       "      <td>78afa995795e4d85b5d9ceeca43f5fef</td>\n",
       "      <td>132</td>\n",
       "      <td>NaN</td>\n",
       "      <td>9b98b8c7a33c4b65b9aebfe6a799e6d9</td>\n",
       "      <td>5.0</td>\n",
       "      <td>1</td>\n",
       "      <td>0</td>\n",
       "      <td>0</td>\n",
       "      <td>0</td>\n",
       "      <td>75</td>\n",
       "      <td>F</td>\n",
       "      <td>100000.0</td>\n",
       "      <td>2017-05-09</td>\n",
       "      <td>2017</td>\n",
       "      <td>05</td>\n",
       "      <td>09</td>\n",
       "    </tr>\n",
       "    <tr>\n",
       "      <th>4</th>\n",
       "      <td>78afa995795e4d85b5d9ceeca43f5fef</td>\n",
       "      <td>144</td>\n",
       "      <td>17.78</td>\n",
       "      <td>NaN</td>\n",
       "      <td>NaN</td>\n",
       "      <td>0</td>\n",
       "      <td>0</td>\n",
       "      <td>0</td>\n",
       "      <td>1</td>\n",
       "      <td>75</td>\n",
       "      <td>F</td>\n",
       "      <td>100000.0</td>\n",
       "      <td>2017-05-09</td>\n",
       "      <td>2017</td>\n",
       "      <td>05</td>\n",
       "      <td>09</td>\n",
       "    </tr>\n",
       "  </tbody>\n",
       "</table>\n",
       "</div>"
      ],
      "text/plain": [
       "                        customer_id  time  amount  \\\n",
       "0  78afa995795e4d85b5d9ceeca43f5fef     0     NaN   \n",
       "1  78afa995795e4d85b5d9ceeca43f5fef     6     NaN   \n",
       "2  78afa995795e4d85b5d9ceeca43f5fef   132   19.89   \n",
       "3  78afa995795e4d85b5d9ceeca43f5fef   132     NaN   \n",
       "4  78afa995795e4d85b5d9ceeca43f5fef   144   17.78   \n",
       "\n",
       "                           offer_id  reward  event_offer_completed  \\\n",
       "0  9b98b8c7a33c4b65b9aebfe6a799e6d9     NaN                      0   \n",
       "1  9b98b8c7a33c4b65b9aebfe6a799e6d9     NaN                      0   \n",
       "2                               NaN     NaN                      0   \n",
       "3  9b98b8c7a33c4b65b9aebfe6a799e6d9     5.0                      1   \n",
       "4                               NaN     NaN                      0   \n",
       "\n",
       "   event_offer_received  event_offer_viewed  event_transaction  age gender  \\\n",
       "0                     1                   0                  0   75      F   \n",
       "1                     0                   1                  0   75      F   \n",
       "2                     0                   0                  1   75      F   \n",
       "3                     0                   0                  0   75      F   \n",
       "4                     0                   0                  1   75      F   \n",
       "\n",
       "     income member_since start_year start_month start_day  \n",
       "0  100000.0   2017-05-09       2017          05        09  \n",
       "1  100000.0   2017-05-09       2017          05        09  \n",
       "2  100000.0   2017-05-09       2017          05        09  \n",
       "3  100000.0   2017-05-09       2017          05        09  \n",
       "4  100000.0   2017-05-09       2017          05        09  "
      ]
     },
     "execution_count": 47,
     "metadata": {},
     "output_type": "execute_result"
    }
   ],
   "source": [
    "transcript_new.head()"
   ]
  },
  {
   "cell_type": "code",
   "execution_count": 48,
   "metadata": {},
   "outputs": [],
   "source": [
    "# we can use left join to have all the offer_ids available in the dataframe\n",
    "#meging transcript_new with portfolio\n",
    "transcript_new = transcript_new.merge(portfolio, on=['offer_id'], how='left')"
   ]
  },
  {
   "cell_type": "code",
   "execution_count": 49,
   "metadata": {
    "scrolled": true
   },
   "outputs": [
    {
     "data": {
      "text/html": [
       "<div>\n",
       "<style scoped>\n",
       "    .dataframe tbody tr th:only-of-type {\n",
       "        vertical-align: middle;\n",
       "    }\n",
       "\n",
       "    .dataframe tbody tr th {\n",
       "        vertical-align: top;\n",
       "    }\n",
       "\n",
       "    .dataframe thead th {\n",
       "        text-align: right;\n",
       "    }\n",
       "</style>\n",
       "<table border=\"1\" class=\"dataframe\">\n",
       "  <thead>\n",
       "    <tr style=\"text-align: right;\">\n",
       "      <th></th>\n",
       "      <th>customer_id</th>\n",
       "      <th>time</th>\n",
       "      <th>amount</th>\n",
       "      <th>offer_id</th>\n",
       "      <th>reward_x</th>\n",
       "      <th>event_offer_completed</th>\n",
       "      <th>event_offer_received</th>\n",
       "      <th>event_offer_viewed</th>\n",
       "      <th>event_transaction</th>\n",
       "      <th>age</th>\n",
       "      <th>...</th>\n",
       "      <th>start_month</th>\n",
       "      <th>start_day</th>\n",
       "      <th>difficulty</th>\n",
       "      <th>duration</th>\n",
       "      <th>offer_type</th>\n",
       "      <th>reward_y</th>\n",
       "      <th>social</th>\n",
       "      <th>mobile</th>\n",
       "      <th>email</th>\n",
       "      <th>web</th>\n",
       "    </tr>\n",
       "  </thead>\n",
       "  <tbody>\n",
       "    <tr>\n",
       "      <th>0</th>\n",
       "      <td>78afa995795e4d85b5d9ceeca43f5fef</td>\n",
       "      <td>0</td>\n",
       "      <td>NaN</td>\n",
       "      <td>9b98b8c7a33c4b65b9aebfe6a799e6d9</td>\n",
       "      <td>NaN</td>\n",
       "      <td>0</td>\n",
       "      <td>1</td>\n",
       "      <td>0</td>\n",
       "      <td>0</td>\n",
       "      <td>75</td>\n",
       "      <td>...</td>\n",
       "      <td>05</td>\n",
       "      <td>09</td>\n",
       "      <td>5.0</td>\n",
       "      <td>7.0</td>\n",
       "      <td>bogo</td>\n",
       "      <td>5.0</td>\n",
       "      <td>0.0</td>\n",
       "      <td>1.0</td>\n",
       "      <td>1.0</td>\n",
       "      <td>1.0</td>\n",
       "    </tr>\n",
       "    <tr>\n",
       "      <th>1</th>\n",
       "      <td>78afa995795e4d85b5d9ceeca43f5fef</td>\n",
       "      <td>6</td>\n",
       "      <td>NaN</td>\n",
       "      <td>9b98b8c7a33c4b65b9aebfe6a799e6d9</td>\n",
       "      <td>NaN</td>\n",
       "      <td>0</td>\n",
       "      <td>0</td>\n",
       "      <td>1</td>\n",
       "      <td>0</td>\n",
       "      <td>75</td>\n",
       "      <td>...</td>\n",
       "      <td>05</td>\n",
       "      <td>09</td>\n",
       "      <td>5.0</td>\n",
       "      <td>7.0</td>\n",
       "      <td>bogo</td>\n",
       "      <td>5.0</td>\n",
       "      <td>0.0</td>\n",
       "      <td>1.0</td>\n",
       "      <td>1.0</td>\n",
       "      <td>1.0</td>\n",
       "    </tr>\n",
       "    <tr>\n",
       "      <th>2</th>\n",
       "      <td>78afa995795e4d85b5d9ceeca43f5fef</td>\n",
       "      <td>132</td>\n",
       "      <td>19.89</td>\n",
       "      <td>NaN</td>\n",
       "      <td>NaN</td>\n",
       "      <td>0</td>\n",
       "      <td>0</td>\n",
       "      <td>0</td>\n",
       "      <td>1</td>\n",
       "      <td>75</td>\n",
       "      <td>...</td>\n",
       "      <td>05</td>\n",
       "      <td>09</td>\n",
       "      <td>NaN</td>\n",
       "      <td>NaN</td>\n",
       "      <td>NaN</td>\n",
       "      <td>NaN</td>\n",
       "      <td>NaN</td>\n",
       "      <td>NaN</td>\n",
       "      <td>NaN</td>\n",
       "      <td>NaN</td>\n",
       "    </tr>\n",
       "    <tr>\n",
       "      <th>3</th>\n",
       "      <td>78afa995795e4d85b5d9ceeca43f5fef</td>\n",
       "      <td>132</td>\n",
       "      <td>NaN</td>\n",
       "      <td>9b98b8c7a33c4b65b9aebfe6a799e6d9</td>\n",
       "      <td>5.0</td>\n",
       "      <td>1</td>\n",
       "      <td>0</td>\n",
       "      <td>0</td>\n",
       "      <td>0</td>\n",
       "      <td>75</td>\n",
       "      <td>...</td>\n",
       "      <td>05</td>\n",
       "      <td>09</td>\n",
       "      <td>5.0</td>\n",
       "      <td>7.0</td>\n",
       "      <td>bogo</td>\n",
       "      <td>5.0</td>\n",
       "      <td>0.0</td>\n",
       "      <td>1.0</td>\n",
       "      <td>1.0</td>\n",
       "      <td>1.0</td>\n",
       "    </tr>\n",
       "    <tr>\n",
       "      <th>4</th>\n",
       "      <td>78afa995795e4d85b5d9ceeca43f5fef</td>\n",
       "      <td>144</td>\n",
       "      <td>17.78</td>\n",
       "      <td>NaN</td>\n",
       "      <td>NaN</td>\n",
       "      <td>0</td>\n",
       "      <td>0</td>\n",
       "      <td>0</td>\n",
       "      <td>1</td>\n",
       "      <td>75</td>\n",
       "      <td>...</td>\n",
       "      <td>05</td>\n",
       "      <td>09</td>\n",
       "      <td>NaN</td>\n",
       "      <td>NaN</td>\n",
       "      <td>NaN</td>\n",
       "      <td>NaN</td>\n",
       "      <td>NaN</td>\n",
       "      <td>NaN</td>\n",
       "      <td>NaN</td>\n",
       "      <td>NaN</td>\n",
       "    </tr>\n",
       "  </tbody>\n",
       "</table>\n",
       "<p>5 rows × 24 columns</p>\n",
       "</div>"
      ],
      "text/plain": [
       "                        customer_id  time  amount  \\\n",
       "0  78afa995795e4d85b5d9ceeca43f5fef     0     NaN   \n",
       "1  78afa995795e4d85b5d9ceeca43f5fef     6     NaN   \n",
       "2  78afa995795e4d85b5d9ceeca43f5fef   132   19.89   \n",
       "3  78afa995795e4d85b5d9ceeca43f5fef   132     NaN   \n",
       "4  78afa995795e4d85b5d9ceeca43f5fef   144   17.78   \n",
       "\n",
       "                           offer_id  reward_x  event_offer_completed  \\\n",
       "0  9b98b8c7a33c4b65b9aebfe6a799e6d9       NaN                      0   \n",
       "1  9b98b8c7a33c4b65b9aebfe6a799e6d9       NaN                      0   \n",
       "2                               NaN       NaN                      0   \n",
       "3  9b98b8c7a33c4b65b9aebfe6a799e6d9       5.0                      1   \n",
       "4                               NaN       NaN                      0   \n",
       "\n",
       "   event_offer_received  event_offer_viewed  event_transaction  age ...   \\\n",
       "0                     1                   0                  0   75 ...    \n",
       "1                     0                   1                  0   75 ...    \n",
       "2                     0                   0                  1   75 ...    \n",
       "3                     0                   0                  0   75 ...    \n",
       "4                     0                   0                  1   75 ...    \n",
       "\n",
       "  start_month  start_day difficulty duration offer_type reward_y  social  \\\n",
       "0          05         09        5.0      7.0       bogo      5.0     0.0   \n",
       "1          05         09        5.0      7.0       bogo      5.0     0.0   \n",
       "2          05         09        NaN      NaN        NaN      NaN     NaN   \n",
       "3          05         09        5.0      7.0       bogo      5.0     0.0   \n",
       "4          05         09        NaN      NaN        NaN      NaN     NaN   \n",
       "\n",
       "   mobile email  web  \n",
       "0     1.0   1.0  1.0  \n",
       "1     1.0   1.0  1.0  \n",
       "2     NaN   NaN  NaN  \n",
       "3     1.0   1.0  1.0  \n",
       "4     NaN   NaN  NaN  \n",
       "\n",
       "[5 rows x 24 columns]"
      ]
     },
     "execution_count": 49,
     "metadata": {},
     "output_type": "execute_result"
    }
   ],
   "source": [
    "transcript_new.head()"
   ]
  },
  {
   "cell_type": "markdown",
   "metadata": {},
   "source": [
    "### 3.5 Encoding the Data"
   ]
  },
  {
   "cell_type": "markdown",
   "metadata": {},
   "source": [
    "Now if you can see customer_id and offer_id has values which makes to difficult to understand, instead we can map them to some numeric values, which will be helpful.\n",
    "\n",
    "We can use label encoding for oofer_id, offer_type, gender columns. while we need to have a function for customer_id mapping"
   ]
  },
  {
   "cell_type": "code",
   "execution_count": 50,
   "metadata": {},
   "outputs": [],
   "source": [
    "#getting the offer_id labels from portflio and using htem to encode our main dataframe\n",
    "offer_id_labels = LabelEncoder()\n",
    "offer_id_labels.fit(portfolio.offer_id)\n",
    "transcript_new['offer_id'] = offer_id_labels.fit_transform(transcript_new['offer_id'].astype(str))"
   ]
  },
  {
   "cell_type": "code",
   "execution_count": 51,
   "metadata": {},
   "outputs": [],
   "source": [
    "#getting the offer_type labels from portflio and using htem to encode our main dataframe\n",
    "offer_type_labels = LabelEncoder()\n",
    "offer_type_labels.fit(portfolio.offer_type)\n",
    "transcript_new['offer_type'] = offer_type_labels.fit_transform(transcript_new['offer_type'].astype(str))"
   ]
  },
  {
   "cell_type": "code",
   "execution_count": 52,
   "metadata": {},
   "outputs": [],
   "source": [
    "#getting the gender labels from profile and using htem to encode our main dataframe\n",
    "gender_labels = LabelEncoder()\n",
    "gender_labels.fit(profile.gender)\n",
    "transcript_new['gender'] = gender_labels.fit_transform(transcript_new['gender'].astype(str))"
   ]
  },
  {
   "cell_type": "code",
   "execution_count": 53,
   "metadata": {},
   "outputs": [
    {
     "data": {
      "text/html": [
       "<div>\n",
       "<style scoped>\n",
       "    .dataframe tbody tr th:only-of-type {\n",
       "        vertical-align: middle;\n",
       "    }\n",
       "\n",
       "    .dataframe tbody tr th {\n",
       "        vertical-align: top;\n",
       "    }\n",
       "\n",
       "    .dataframe thead th {\n",
       "        text-align: right;\n",
       "    }\n",
       "</style>\n",
       "<table border=\"1\" class=\"dataframe\">\n",
       "  <thead>\n",
       "    <tr style=\"text-align: right;\">\n",
       "      <th></th>\n",
       "      <th>time</th>\n",
       "      <th>amount</th>\n",
       "      <th>offer_id</th>\n",
       "      <th>reward_x</th>\n",
       "      <th>event_offer_completed</th>\n",
       "      <th>event_offer_received</th>\n",
       "      <th>event_offer_viewed</th>\n",
       "      <th>event_transaction</th>\n",
       "      <th>age</th>\n",
       "      <th>gender</th>\n",
       "      <th>...</th>\n",
       "      <th>start_day</th>\n",
       "      <th>difficulty</th>\n",
       "      <th>duration</th>\n",
       "      <th>offer_type</th>\n",
       "      <th>reward_y</th>\n",
       "      <th>social</th>\n",
       "      <th>mobile</th>\n",
       "      <th>email</th>\n",
       "      <th>web</th>\n",
       "      <th>customer_id</th>\n",
       "    </tr>\n",
       "  </thead>\n",
       "  <tbody>\n",
       "    <tr>\n",
       "      <th>0</th>\n",
       "      <td>0</td>\n",
       "      <td>NaN</td>\n",
       "      <td>6</td>\n",
       "      <td>NaN</td>\n",
       "      <td>0</td>\n",
       "      <td>1</td>\n",
       "      <td>0</td>\n",
       "      <td>0</td>\n",
       "      <td>75</td>\n",
       "      <td>0</td>\n",
       "      <td>...</td>\n",
       "      <td>09</td>\n",
       "      <td>5.0</td>\n",
       "      <td>7.0</td>\n",
       "      <td>0</td>\n",
       "      <td>5.0</td>\n",
       "      <td>0.0</td>\n",
       "      <td>1.0</td>\n",
       "      <td>1.0</td>\n",
       "      <td>1.0</td>\n",
       "      <td>1</td>\n",
       "    </tr>\n",
       "    <tr>\n",
       "      <th>1</th>\n",
       "      <td>6</td>\n",
       "      <td>NaN</td>\n",
       "      <td>6</td>\n",
       "      <td>NaN</td>\n",
       "      <td>0</td>\n",
       "      <td>0</td>\n",
       "      <td>1</td>\n",
       "      <td>0</td>\n",
       "      <td>75</td>\n",
       "      <td>0</td>\n",
       "      <td>...</td>\n",
       "      <td>09</td>\n",
       "      <td>5.0</td>\n",
       "      <td>7.0</td>\n",
       "      <td>0</td>\n",
       "      <td>5.0</td>\n",
       "      <td>0.0</td>\n",
       "      <td>1.0</td>\n",
       "      <td>1.0</td>\n",
       "      <td>1.0</td>\n",
       "      <td>1</td>\n",
       "    </tr>\n",
       "    <tr>\n",
       "      <th>2</th>\n",
       "      <td>132</td>\n",
       "      <td>19.89</td>\n",
       "      <td>10</td>\n",
       "      <td>NaN</td>\n",
       "      <td>0</td>\n",
       "      <td>0</td>\n",
       "      <td>0</td>\n",
       "      <td>1</td>\n",
       "      <td>75</td>\n",
       "      <td>0</td>\n",
       "      <td>...</td>\n",
       "      <td>09</td>\n",
       "      <td>NaN</td>\n",
       "      <td>NaN</td>\n",
       "      <td>3</td>\n",
       "      <td>NaN</td>\n",
       "      <td>NaN</td>\n",
       "      <td>NaN</td>\n",
       "      <td>NaN</td>\n",
       "      <td>NaN</td>\n",
       "      <td>1</td>\n",
       "    </tr>\n",
       "    <tr>\n",
       "      <th>3</th>\n",
       "      <td>132</td>\n",
       "      <td>NaN</td>\n",
       "      <td>6</td>\n",
       "      <td>5.0</td>\n",
       "      <td>1</td>\n",
       "      <td>0</td>\n",
       "      <td>0</td>\n",
       "      <td>0</td>\n",
       "      <td>75</td>\n",
       "      <td>0</td>\n",
       "      <td>...</td>\n",
       "      <td>09</td>\n",
       "      <td>5.0</td>\n",
       "      <td>7.0</td>\n",
       "      <td>0</td>\n",
       "      <td>5.0</td>\n",
       "      <td>0.0</td>\n",
       "      <td>1.0</td>\n",
       "      <td>1.0</td>\n",
       "      <td>1.0</td>\n",
       "      <td>1</td>\n",
       "    </tr>\n",
       "    <tr>\n",
       "      <th>4</th>\n",
       "      <td>144</td>\n",
       "      <td>17.78</td>\n",
       "      <td>10</td>\n",
       "      <td>NaN</td>\n",
       "      <td>0</td>\n",
       "      <td>0</td>\n",
       "      <td>0</td>\n",
       "      <td>1</td>\n",
       "      <td>75</td>\n",
       "      <td>0</td>\n",
       "      <td>...</td>\n",
       "      <td>09</td>\n",
       "      <td>NaN</td>\n",
       "      <td>NaN</td>\n",
       "      <td>3</td>\n",
       "      <td>NaN</td>\n",
       "      <td>NaN</td>\n",
       "      <td>NaN</td>\n",
       "      <td>NaN</td>\n",
       "      <td>NaN</td>\n",
       "      <td>1</td>\n",
       "    </tr>\n",
       "  </tbody>\n",
       "</table>\n",
       "<p>5 rows × 24 columns</p>\n",
       "</div>"
      ],
      "text/plain": [
       "   time  amount  offer_id  reward_x  event_offer_completed  \\\n",
       "0     0     NaN         6       NaN                      0   \n",
       "1     6     NaN         6       NaN                      0   \n",
       "2   132   19.89        10       NaN                      0   \n",
       "3   132     NaN         6       5.0                      1   \n",
       "4   144   17.78        10       NaN                      0   \n",
       "\n",
       "   event_offer_received  event_offer_viewed  event_transaction  age  gender  \\\n",
       "0                     1                   0                  0   75       0   \n",
       "1                     0                   1                  0   75       0   \n",
       "2                     0                   0                  1   75       0   \n",
       "3                     0                   0                  0   75       0   \n",
       "4                     0                   0                  1   75       0   \n",
       "\n",
       "      ...       start_day difficulty duration offer_type reward_y  social  \\\n",
       "0     ...              09        5.0      7.0          0      5.0     0.0   \n",
       "1     ...              09        5.0      7.0          0      5.0     0.0   \n",
       "2     ...              09        NaN      NaN          3      NaN     NaN   \n",
       "3     ...              09        5.0      7.0          0      5.0     0.0   \n",
       "4     ...              09        NaN      NaN          3      NaN     NaN   \n",
       "\n",
       "   mobile  email  web  customer_id  \n",
       "0     1.0    1.0  1.0            1  \n",
       "1     1.0    1.0  1.0            1  \n",
       "2     NaN    NaN  NaN            1  \n",
       "3     1.0    1.0  1.0            1  \n",
       "4     NaN    NaN  NaN            1  \n",
       "\n",
       "[5 rows x 24 columns]"
      ]
     },
     "execution_count": 53,
     "metadata": {},
     "output_type": "execute_result"
    }
   ],
   "source": [
    "# creating a map function to label the customers in the dataframe\n",
    "def customer_id_mapper():\n",
    "    '''\n",
    "    Run this cell to map the customer_id to a \n",
    "    numeric values and remove the the actual customer_id column\n",
    "    '''\n",
    "    coded_dict = dict()\n",
    "    cter = 1\n",
    "    customer_id_encoded = []\n",
    "    \n",
    "    for val in transcript_new['customer_id']:\n",
    "        if val not in coded_dict:\n",
    "            coded_dict[val] = cter\n",
    "            cter+=1\n",
    "        \n",
    "        customer_id_encoded.append(coded_dict[val])\n",
    "    return customer_id_encoded\n",
    "\n",
    "customer_id_encoded = customer_id_mapper()\n",
    "del transcript_new['customer_id']\n",
    "transcript_new['customer_id'] = customer_id_encoded\n",
    "\n",
    "# show header\n",
    "transcript_new.head()"
   ]
  },
  {
   "cell_type": "markdown",
   "metadata": {},
   "source": [
    "### 3.6 Dividing the Dataframe into transactions and offers\n"
   ]
  },
  {
   "cell_type": "code",
   "execution_count": 54,
   "metadata": {},
   "outputs": [],
   "source": [
    "# transactions is a dataframe which consists only of transaction events\n",
    "transactions = transcript_new[transcript_new['event_transaction']==1]"
   ]
  },
  {
   "cell_type": "code",
   "execution_count": 55,
   "metadata": {},
   "outputs": [],
   "source": [
    "# offers_df is a dataframe which consists only of offer events\n",
    "offers = transcript_new[transcript_new['event_transaction']!=1]"
   ]
  },
  {
   "cell_type": "markdown",
   "metadata": {},
   "source": [
    "Now we have two different dataframes, which gives us completely different information, Lets Explore each of them.\n",
    "\n",
    "**3.6.1 transcations Dataframe**"
   ]
  },
  {
   "cell_type": "code",
   "execution_count": 56,
   "metadata": {},
   "outputs": [
    {
     "name": "stdout",
     "output_type": "stream",
     "text": [
      "<class 'pandas.core.frame.DataFrame'>\n",
      "Int64Index: 138953 entries, 2 to 306533\n",
      "Data columns (total 24 columns):\n",
      "time                     138953 non-null int64\n",
      "amount                   138953 non-null float64\n",
      "offer_id                 138953 non-null int64\n",
      "reward_x                 0 non-null float64\n",
      "event_offer_completed    138953 non-null uint8\n",
      "event_offer_received     138953 non-null uint8\n",
      "event_offer_viewed       138953 non-null uint8\n",
      "event_transaction        138953 non-null uint8\n",
      "age                      138953 non-null int64\n",
      "gender                   138953 non-null int64\n",
      "income                   138953 non-null float64\n",
      "member_since             138953 non-null datetime64[ns]\n",
      "start_year               138953 non-null object\n",
      "start_month              138953 non-null object\n",
      "start_day                138953 non-null object\n",
      "difficulty               0 non-null float64\n",
      "duration                 0 non-null float64\n",
      "offer_type               138953 non-null int64\n",
      "reward_y                 0 non-null float64\n",
      "social                   0 non-null float64\n",
      "mobile                   0 non-null float64\n",
      "email                    0 non-null float64\n",
      "web                      0 non-null float64\n",
      "customer_id              138953 non-null int64\n",
      "dtypes: datetime64[ns](1), float64(10), int64(6), object(3), uint8(4)\n",
      "memory usage: 22.8+ MB\n"
     ]
    }
   ],
   "source": [
    "transactions.info()"
   ]
  },
  {
   "cell_type": "markdown",
   "metadata": {},
   "source": [
    "It can be seen that there are some columns which has full null values, we can remove the complete column.\n"
   ]
  },
  {
   "cell_type": "code",
   "execution_count": 57,
   "metadata": {},
   "outputs": [],
   "source": [
    "#creating column list that can be dropped\n",
    "col_to_delete = ['time','reward_x','difficulty', 'duration',\n",
    "                 'reward_y','email', 'social','web', 'mobile']"
   ]
  },
  {
   "cell_type": "code",
   "execution_count": 58,
   "metadata": {},
   "outputs": [
    {
     "data": {
      "text/html": [
       "<div>\n",
       "<style scoped>\n",
       "    .dataframe tbody tr th:only-of-type {\n",
       "        vertical-align: middle;\n",
       "    }\n",
       "\n",
       "    .dataframe tbody tr th {\n",
       "        vertical-align: top;\n",
       "    }\n",
       "\n",
       "    .dataframe thead th {\n",
       "        text-align: right;\n",
       "    }\n",
       "</style>\n",
       "<table border=\"1\" class=\"dataframe\">\n",
       "  <thead>\n",
       "    <tr style=\"text-align: right;\">\n",
       "      <th></th>\n",
       "      <th>amount</th>\n",
       "      <th>offer_id</th>\n",
       "      <th>event_offer_completed</th>\n",
       "      <th>event_offer_received</th>\n",
       "      <th>event_offer_viewed</th>\n",
       "      <th>event_transaction</th>\n",
       "      <th>age</th>\n",
       "      <th>gender</th>\n",
       "      <th>income</th>\n",
       "      <th>member_since</th>\n",
       "      <th>start_year</th>\n",
       "      <th>start_month</th>\n",
       "      <th>start_day</th>\n",
       "      <th>offer_type</th>\n",
       "      <th>customer_id</th>\n",
       "    </tr>\n",
       "  </thead>\n",
       "  <tbody>\n",
       "    <tr>\n",
       "      <th>0</th>\n",
       "      <td>19.89</td>\n",
       "      <td>10</td>\n",
       "      <td>0</td>\n",
       "      <td>0</td>\n",
       "      <td>0</td>\n",
       "      <td>1</td>\n",
       "      <td>75</td>\n",
       "      <td>0</td>\n",
       "      <td>100000.0</td>\n",
       "      <td>2017-05-09</td>\n",
       "      <td>2017</td>\n",
       "      <td>05</td>\n",
       "      <td>09</td>\n",
       "      <td>3</td>\n",
       "      <td>1</td>\n",
       "    </tr>\n",
       "    <tr>\n",
       "      <th>1</th>\n",
       "      <td>17.78</td>\n",
       "      <td>10</td>\n",
       "      <td>0</td>\n",
       "      <td>0</td>\n",
       "      <td>0</td>\n",
       "      <td>1</td>\n",
       "      <td>75</td>\n",
       "      <td>0</td>\n",
       "      <td>100000.0</td>\n",
       "      <td>2017-05-09</td>\n",
       "      <td>2017</td>\n",
       "      <td>05</td>\n",
       "      <td>09</td>\n",
       "      <td>3</td>\n",
       "      <td>1</td>\n",
       "    </tr>\n",
       "    <tr>\n",
       "      <th>2</th>\n",
       "      <td>19.67</td>\n",
       "      <td>10</td>\n",
       "      <td>0</td>\n",
       "      <td>0</td>\n",
       "      <td>0</td>\n",
       "      <td>1</td>\n",
       "      <td>75</td>\n",
       "      <td>0</td>\n",
       "      <td>100000.0</td>\n",
       "      <td>2017-05-09</td>\n",
       "      <td>2017</td>\n",
       "      <td>05</td>\n",
       "      <td>09</td>\n",
       "      <td>3</td>\n",
       "      <td>1</td>\n",
       "    </tr>\n",
       "    <tr>\n",
       "      <th>3</th>\n",
       "      <td>29.72</td>\n",
       "      <td>10</td>\n",
       "      <td>0</td>\n",
       "      <td>0</td>\n",
       "      <td>0</td>\n",
       "      <td>1</td>\n",
       "      <td>75</td>\n",
       "      <td>0</td>\n",
       "      <td>100000.0</td>\n",
       "      <td>2017-05-09</td>\n",
       "      <td>2017</td>\n",
       "      <td>05</td>\n",
       "      <td>09</td>\n",
       "      <td>3</td>\n",
       "      <td>1</td>\n",
       "    </tr>\n",
       "    <tr>\n",
       "      <th>4</th>\n",
       "      <td>23.93</td>\n",
       "      <td>10</td>\n",
       "      <td>0</td>\n",
       "      <td>0</td>\n",
       "      <td>0</td>\n",
       "      <td>1</td>\n",
       "      <td>75</td>\n",
       "      <td>0</td>\n",
       "      <td>100000.0</td>\n",
       "      <td>2017-05-09</td>\n",
       "      <td>2017</td>\n",
       "      <td>05</td>\n",
       "      <td>09</td>\n",
       "      <td>3</td>\n",
       "      <td>1</td>\n",
       "    </tr>\n",
       "  </tbody>\n",
       "</table>\n",
       "</div>"
      ],
      "text/plain": [
       "   amount  offer_id  event_offer_completed  event_offer_received  \\\n",
       "0   19.89        10                      0                     0   \n",
       "1   17.78        10                      0                     0   \n",
       "2   19.67        10                      0                     0   \n",
       "3   29.72        10                      0                     0   \n",
       "4   23.93        10                      0                     0   \n",
       "\n",
       "   event_offer_viewed  event_transaction  age  gender    income member_since  \\\n",
       "0                   0                  1   75       0  100000.0   2017-05-09   \n",
       "1                   0                  1   75       0  100000.0   2017-05-09   \n",
       "2                   0                  1   75       0  100000.0   2017-05-09   \n",
       "3                   0                  1   75       0  100000.0   2017-05-09   \n",
       "4                   0                  1   75       0  100000.0   2017-05-09   \n",
       "\n",
       "  start_year start_month start_day  offer_type  customer_id  \n",
       "0       2017          05        09           3            1  \n",
       "1       2017          05        09           3            1  \n",
       "2       2017          05        09           3            1  \n",
       "3       2017          05        09           3            1  \n",
       "4       2017          05        09           3            1  "
      ]
     },
     "execution_count": 58,
     "metadata": {},
     "output_type": "execute_result"
    }
   ],
   "source": [
    "# resetting the indices\n",
    "transactions.reset_index(inplace=True)\n",
    "\n",
    "#removing these columns\n",
    "for col in col_to_delete:\n",
    "    del transactions[col]\n",
    "    \n",
    "#removing the index column    \n",
    "del transactions['index']\n",
    "\n",
    "transactions.head()"
   ]
  },
  {
   "cell_type": "markdown",
   "metadata": {},
   "source": [
    "**3.6.2 offers DataFrame**"
   ]
  },
  {
   "cell_type": "code",
   "execution_count": 59,
   "metadata": {},
   "outputs": [
    {
     "name": "stdout",
     "output_type": "stream",
     "text": [
      "<class 'pandas.core.frame.DataFrame'>\n",
      "Int64Index: 167581 entries, 0 to 306532\n",
      "Data columns (total 24 columns):\n",
      "time                     167581 non-null int64\n",
      "amount                   0 non-null float64\n",
      "offer_id                 167581 non-null int64\n",
      "reward_x                 33579 non-null float64\n",
      "event_offer_completed    167581 non-null uint8\n",
      "event_offer_received     167581 non-null uint8\n",
      "event_offer_viewed       167581 non-null uint8\n",
      "event_transaction        167581 non-null uint8\n",
      "age                      167581 non-null int64\n",
      "gender                   167581 non-null int64\n",
      "income                   167581 non-null float64\n",
      "member_since             167581 non-null datetime64[ns]\n",
      "start_year               167581 non-null object\n",
      "start_month              167581 non-null object\n",
      "start_day                167581 non-null object\n",
      "difficulty               167581 non-null float64\n",
      "duration                 167581 non-null float64\n",
      "offer_type               167581 non-null int64\n",
      "reward_y                 167581 non-null float64\n",
      "social                   167581 non-null float64\n",
      "mobile                   167581 non-null float64\n",
      "email                    167581 non-null float64\n",
      "web                      167581 non-null float64\n",
      "customer_id              167581 non-null int64\n",
      "dtypes: datetime64[ns](1), float64(10), int64(6), object(3), uint8(4)\n",
      "memory usage: 27.5+ MB\n"
     ]
    }
   ],
   "source": [
    "offers.info()"
   ]
  },
  {
   "cell_type": "markdown",
   "metadata": {},
   "source": [
    "only \"amount\" column has a column of missing values, even event_transaction column does not makes sense in this dataframe as we have only offers in this data, so we can remove that column.\n",
    "\n",
    "\"reward_x\" column has many missing values, so I will be removing the complete column"
   ]
  },
  {
   "cell_type": "code",
   "execution_count": 60,
   "metadata": {},
   "outputs": [],
   "source": [
    "col_to_delete_offers = ['amount', 'event_transaction', 'reward_x']"
   ]
  },
  {
   "cell_type": "code",
   "execution_count": 61,
   "metadata": {},
   "outputs": [
    {
     "data": {
      "text/html": [
       "<div>\n",
       "<style scoped>\n",
       "    .dataframe tbody tr th:only-of-type {\n",
       "        vertical-align: middle;\n",
       "    }\n",
       "\n",
       "    .dataframe tbody tr th {\n",
       "        vertical-align: top;\n",
       "    }\n",
       "\n",
       "    .dataframe thead th {\n",
       "        text-align: right;\n",
       "    }\n",
       "</style>\n",
       "<table border=\"1\" class=\"dataframe\">\n",
       "  <thead>\n",
       "    <tr style=\"text-align: right;\">\n",
       "      <th></th>\n",
       "      <th>time</th>\n",
       "      <th>offer_id</th>\n",
       "      <th>event_offer_completed</th>\n",
       "      <th>event_offer_received</th>\n",
       "      <th>event_offer_viewed</th>\n",
       "      <th>age</th>\n",
       "      <th>gender</th>\n",
       "      <th>income</th>\n",
       "      <th>member_since</th>\n",
       "      <th>start_year</th>\n",
       "      <th>...</th>\n",
       "      <th>start_day</th>\n",
       "      <th>difficulty</th>\n",
       "      <th>duration</th>\n",
       "      <th>offer_type</th>\n",
       "      <th>reward_y</th>\n",
       "      <th>social</th>\n",
       "      <th>mobile</th>\n",
       "      <th>email</th>\n",
       "      <th>web</th>\n",
       "      <th>customer_id</th>\n",
       "    </tr>\n",
       "  </thead>\n",
       "  <tbody>\n",
       "    <tr>\n",
       "      <th>0</th>\n",
       "      <td>0</td>\n",
       "      <td>6</td>\n",
       "      <td>0</td>\n",
       "      <td>1</td>\n",
       "      <td>0</td>\n",
       "      <td>75</td>\n",
       "      <td>0</td>\n",
       "      <td>100000.0</td>\n",
       "      <td>2017-05-09</td>\n",
       "      <td>2017</td>\n",
       "      <td>...</td>\n",
       "      <td>09</td>\n",
       "      <td>5.0</td>\n",
       "      <td>7.0</td>\n",
       "      <td>0</td>\n",
       "      <td>5.0</td>\n",
       "      <td>0.0</td>\n",
       "      <td>1.0</td>\n",
       "      <td>1.0</td>\n",
       "      <td>1.0</td>\n",
       "      <td>1</td>\n",
       "    </tr>\n",
       "    <tr>\n",
       "      <th>1</th>\n",
       "      <td>6</td>\n",
       "      <td>6</td>\n",
       "      <td>0</td>\n",
       "      <td>0</td>\n",
       "      <td>1</td>\n",
       "      <td>75</td>\n",
       "      <td>0</td>\n",
       "      <td>100000.0</td>\n",
       "      <td>2017-05-09</td>\n",
       "      <td>2017</td>\n",
       "      <td>...</td>\n",
       "      <td>09</td>\n",
       "      <td>5.0</td>\n",
       "      <td>7.0</td>\n",
       "      <td>0</td>\n",
       "      <td>5.0</td>\n",
       "      <td>0.0</td>\n",
       "      <td>1.0</td>\n",
       "      <td>1.0</td>\n",
       "      <td>1.0</td>\n",
       "      <td>1</td>\n",
       "    </tr>\n",
       "    <tr>\n",
       "      <th>2</th>\n",
       "      <td>132</td>\n",
       "      <td>6</td>\n",
       "      <td>1</td>\n",
       "      <td>0</td>\n",
       "      <td>0</td>\n",
       "      <td>75</td>\n",
       "      <td>0</td>\n",
       "      <td>100000.0</td>\n",
       "      <td>2017-05-09</td>\n",
       "      <td>2017</td>\n",
       "      <td>...</td>\n",
       "      <td>09</td>\n",
       "      <td>5.0</td>\n",
       "      <td>7.0</td>\n",
       "      <td>0</td>\n",
       "      <td>5.0</td>\n",
       "      <td>0.0</td>\n",
       "      <td>1.0</td>\n",
       "      <td>1.0</td>\n",
       "      <td>1.0</td>\n",
       "      <td>1</td>\n",
       "    </tr>\n",
       "    <tr>\n",
       "      <th>3</th>\n",
       "      <td>168</td>\n",
       "      <td>5</td>\n",
       "      <td>0</td>\n",
       "      <td>1</td>\n",
       "      <td>0</td>\n",
       "      <td>75</td>\n",
       "      <td>0</td>\n",
       "      <td>100000.0</td>\n",
       "      <td>2017-05-09</td>\n",
       "      <td>2017</td>\n",
       "      <td>...</td>\n",
       "      <td>09</td>\n",
       "      <td>0.0</td>\n",
       "      <td>3.0</td>\n",
       "      <td>2</td>\n",
       "      <td>0.0</td>\n",
       "      <td>1.0</td>\n",
       "      <td>1.0</td>\n",
       "      <td>1.0</td>\n",
       "      <td>0.0</td>\n",
       "      <td>1</td>\n",
       "    </tr>\n",
       "    <tr>\n",
       "      <th>4</th>\n",
       "      <td>216</td>\n",
       "      <td>5</td>\n",
       "      <td>0</td>\n",
       "      <td>0</td>\n",
       "      <td>1</td>\n",
       "      <td>75</td>\n",
       "      <td>0</td>\n",
       "      <td>100000.0</td>\n",
       "      <td>2017-05-09</td>\n",
       "      <td>2017</td>\n",
       "      <td>...</td>\n",
       "      <td>09</td>\n",
       "      <td>0.0</td>\n",
       "      <td>3.0</td>\n",
       "      <td>2</td>\n",
       "      <td>0.0</td>\n",
       "      <td>1.0</td>\n",
       "      <td>1.0</td>\n",
       "      <td>1.0</td>\n",
       "      <td>0.0</td>\n",
       "      <td>1</td>\n",
       "    </tr>\n",
       "  </tbody>\n",
       "</table>\n",
       "<p>5 rows × 21 columns</p>\n",
       "</div>"
      ],
      "text/plain": [
       "   time  offer_id  event_offer_completed  event_offer_received  \\\n",
       "0     0         6                      0                     1   \n",
       "1     6         6                      0                     0   \n",
       "2   132         6                      1                     0   \n",
       "3   168         5                      0                     1   \n",
       "4   216         5                      0                     0   \n",
       "\n",
       "   event_offer_viewed  age  gender    income member_since start_year  \\\n",
       "0                   0   75       0  100000.0   2017-05-09       2017   \n",
       "1                   1   75       0  100000.0   2017-05-09       2017   \n",
       "2                   0   75       0  100000.0   2017-05-09       2017   \n",
       "3                   0   75       0  100000.0   2017-05-09       2017   \n",
       "4                   1   75       0  100000.0   2017-05-09       2017   \n",
       "\n",
       "      ...      start_day difficulty  duration  offer_type  reward_y  social  \\\n",
       "0     ...             09        5.0       7.0           0       5.0     0.0   \n",
       "1     ...             09        5.0       7.0           0       5.0     0.0   \n",
       "2     ...             09        5.0       7.0           0       5.0     0.0   \n",
       "3     ...             09        0.0       3.0           2       0.0     1.0   \n",
       "4     ...             09        0.0       3.0           2       0.0     1.0   \n",
       "\n",
       "   mobile  email  web  customer_id  \n",
       "0     1.0    1.0  1.0            1  \n",
       "1     1.0    1.0  1.0            1  \n",
       "2     1.0    1.0  1.0            1  \n",
       "3     1.0    1.0  0.0            1  \n",
       "4     1.0    1.0  0.0            1  \n",
       "\n",
       "[5 rows x 21 columns]"
      ]
     },
     "execution_count": 61,
     "metadata": {},
     "output_type": "execute_result"
    }
   ],
   "source": [
    "# resetting the indices\n",
    "offers.reset_index(inplace=True)\n",
    "\n",
    "#removing these columns\n",
    "for col in col_to_delete_offers:\n",
    "    del offers[col]\n",
    "    \n",
    "#removing the index column    \n",
    "del offers['index']\n",
    "\n",
    "offers.head()"
   ]
  },
  {
   "cell_type": "markdown",
   "metadata": {},
   "source": [
    "Now we have our Data cleaned and we have 2 different data frames to look into the Exploratory Data Analysis"
   ]
  },
  {
   "cell_type": "markdown",
   "metadata": {},
   "source": [
    "### 3.7 Removing Outliers only for Regression"
   ]
  },
  {
   "cell_type": "code",
   "execution_count": 62,
   "metadata": {},
   "outputs": [
    {
     "data": {
      "text/plain": [
       "Index(['amount', 'offer_id', 'event_offer_completed', 'event_offer_received',\n",
       "       'event_offer_viewed', 'event_transaction', 'age', 'gender', 'income',\n",
       "       'offer_type', 'customer_id'],\n",
       "      dtype='object')"
      ]
     },
     "execution_count": 62,
     "metadata": {},
     "output_type": "execute_result"
    }
   ],
   "source": [
    "#getting numeric columns, to remove outliers before we do regression\n",
    "numerical_columns = transactions.select_dtypes(include=[np.number]).columns\n",
    "numerical_columns"
   ]
  },
  {
   "cell_type": "code",
   "execution_count": 63,
   "metadata": {},
   "outputs": [
    {
     "name": "stderr",
     "output_type": "stream",
     "text": [
      "/opt/conda/lib/python3.6/site-packages/pandas/core/frame.py:3697: SettingWithCopyWarning: \n",
      "A value is trying to be set on a copy of a slice from a DataFrame\n",
      "\n",
      "See the caveats in the documentation: http://pandas.pydata.org/pandas-docs/stable/indexing.html#indexing-view-versus-copy\n",
      "  errors=errors)\n"
     ]
    },
    {
     "name": "stdout",
     "output_type": "stream",
     "text": [
      "Number of outliers removed in column 'amount' : 1236\n",
      "Number of outliers removed in column 'offer_id' : 0\n",
      "Number of outliers removed in column 'event_offer_completed' : 0\n",
      "Number of outliers removed in column 'event_offer_received' : 0\n",
      "Number of outliers removed in column 'event_offer_viewed' : 0\n",
      "Number of outliers removed in column 'event_transaction' : 0\n",
      "Number of outliers removed in column 'age' : 14925\n",
      "Number of outliers removed in column 'gender' : 1772\n",
      "Number of outliers removed in column 'income' : 1238\n",
      "Number of outliers removed in column 'offer_type' : 0\n",
      "Number of outliers removed in column 'customer_id' : 0\n"
     ]
    },
    {
     "data": {
      "text/plain": [
       "(119782, 15)"
      ]
     },
     "execution_count": 63,
     "metadata": {},
     "output_type": "execute_result"
    }
   ],
   "source": [
    "# creating a new dataframe, which can be used for our regression\n",
    "df_reg = transactions\n",
    "for column in numerical_columns:\n",
    "    before = df_reg.shape[0]\n",
    "    _75th = np.percentile(df_reg[column], 75)\n",
    "    _25th = np.percentile(df_reg[column], 25)\n",
    "    iqr = _75th - _25th\n",
    "    df_reg.drop(df_reg[df_reg[column] < _25th - (1.5 * iqr)].index, inplace=True)\n",
    "    df_reg.drop(df_reg[df_reg[column] > _75th + (1.5 * iqr)].index, inplace=True)\n",
    "    count = str(before - df_reg.shape[0])\n",
    "    print(\"Number of outliers removed in column '{0}' : {1}\".format(column, count))\n",
    "df_reg.shape"
   ]
  },
  {
   "cell_type": "markdown",
   "metadata": {},
   "source": [
    "# 4 EXPLORATORY DATA ANALYSIS"
   ]
  },
  {
   "cell_type": "markdown",
   "metadata": {},
   "source": [
    "#### 4.1 which offers were completed by the user?\n"
   ]
  },
  {
   "cell_type": "code",
   "execution_count": 105,
   "metadata": {},
   "outputs": [
    {
     "data": {
      "image/png": "[encoded data removed]",
      "text/plain": [
       "<matplotlib.figure.Figure at 0x7f0015a8b160>"
      ]
     },
     "metadata": {
      "needs_background": "light"
     },
     "output_type": "display_data"
    }
   ],
   "source": [
    "offers_count = offers[offers.event_offer_completed == 1]\n",
    "\n",
    "sns.countplot(x=offers_count['offer_type'])\n",
    "plt.title('Number of offers completed')\n",
    "plt.ylabel('Count')\n",
    "plt.show();"
   ]
  },
  {
   "cell_type": "markdown",
   "metadata": {},
   "source": [
    "**It should be seen that BOGO and Discount are the only offers that are completed by the customers**"
   ]
  },
  {
   "cell_type": "markdown",
   "metadata": {},
   "source": [
    "#### 4.2 What are the most common Offer Type Viewed?"
   ]
  },
  {
   "cell_type": "code",
   "execution_count": 106,
   "metadata": {},
   "outputs": [],
   "source": [
    "offers_viewed = offers[offers.event_offer_viewed == 1]"
   ]
  },
  {
   "cell_type": "code",
   "execution_count": 107,
   "metadata": {},
   "outputs": [
    {
     "data": {
      "image/png": "[encoded data removed]",
      "text/plain": [
       "<matplotlib.figure.Figure at 0x7f0015b3d400>"
      ]
     },
     "metadata": {
      "needs_background": "light"
     },
     "output_type": "display_data"
    }
   ],
   "source": [
    "sns.countplot(x=offers_viewed['offer_type'])\n",
    "plt.title('Number of offers viewed')\n",
    "plt.ylabel('count')\n",
    "plt.show();"
   ]
  },
  {
   "cell_type": "markdown",
   "metadata": {},
   "source": [
    "**Again, Buy One Get One (category 0) is the most viewed offer. It looks like customers are more interested in BOGO Offers. Next most viewed offeris Discount offers and as it can be expected people are least bothered to view informational offers.**"
   ]
  },
  {
   "cell_type": "markdown",
   "metadata": {},
   "source": [
    "#### 4.3 What are the most common offers viewed?"
   ]
  },
  {
   "cell_type": "code",
   "execution_count": 110,
   "metadata": {},
   "outputs": [
    {
     "data": {
      "image/png": "[encoded data removed]",
      "text/plain": [
       "<matplotlib.figure.Figure at 0x7f0015212c18>"
      ]
     },
     "metadata": {
      "needs_background": "light"
     },
     "output_type": "display_data"
    }
   ],
   "source": [
    "sns.countplot(x=offers_viewed['offer_id'])\n",
    "plt.title('Promotions viewed for each Offer')\n",
    "plt.ylabel('Count')\n",
    "plt.show();"
   ]
  },
  {
   "cell_type": "markdown",
   "metadata": {},
   "source": [
    "**Offer Ids 1,4,8,9 are most viewed and these belong to BOGO and Discount types**"
   ]
  },
  {
   "cell_type": "markdown",
   "metadata": {},
   "source": [
    "#### 4.4 Which gender group are viewing the offers?"
   ]
  },
  {
   "cell_type": "code",
   "execution_count": 115,
   "metadata": {},
   "outputs": [
    {
     "data": {
      "image/png": "[encoded data removed]",
      "text/plain": [
       "<matplotlib.figure.Figure at 0x7f0015cafda0>"
      ]
     },
     "metadata": {
      "needs_background": "light"
     },
     "output_type": "display_data"
    }
   ],
   "source": [
    "sns.countplot(x=offers_viewed['gender'], hue = 'offer_type', data=offers_viewed)\n",
    "plt.title('Most Popular Offers to Each Gender')\n",
    "plt.ylabel('Total')\n",
    "plt.xlabel('Gender')\n",
    "plt.show();"
   ]
  },
  {
   "cell_type": "markdown",
   "metadata": {},
   "source": [
    "**Males are viewing the offers mostly and popular one out of the viewed offers is again BOGO. It can also be seen that Informational offers are not popular as compared to other offer types**"
   ]
  },
  {
   "cell_type": "markdown",
   "metadata": {},
   "source": [
    "#### 4.5 which gender group are transcating more?"
   ]
  },
  {
   "cell_type": "code",
   "execution_count": 140,
   "metadata": {},
   "outputs": [
    {
     "data": {
      "image/png": "[encoded data removed]",
      "text/plain": [
       "<matplotlib.figure.Figure at 0x7f0016182ef0>"
      ]
     },
     "metadata": {
      "needs_background": "light"
     },
     "output_type": "display_data"
    }
   ],
   "source": [
    "sns.countplot(x=transactions['gender'])\n",
    "plt.title('Most Popular Offer type among genders to ')\n",
    "plt.ylabel('count')\n",
    "plt.xlabel('Gender')\n",
    "plt.show();"
   ]
  },
  {
   "cell_type": "markdown",
   "metadata": {},
   "source": [
    "**Looks like Males are transcating more**"
   ]
  },
  {
   "cell_type": "markdown",
   "metadata": {},
   "source": [
    "#### 4.6 Which age group is spending more?"
   ]
  },
  {
   "cell_type": "code",
   "execution_count": 133,
   "metadata": {},
   "outputs": [
    {
     "data": {
      "text/plain": [
       "<matplotlib.axes._subplots.AxesSubplot at 0x7f0015ce93c8>"
      ]
     },
     "execution_count": 133,
     "metadata": {},
     "output_type": "execute_result"
    },
    {
     "data": {
      "image/png": "[encoded data removed]",
      "text/plain": [
       "<matplotlib.figure.Figure at 0x7f0015fa2f28>"
      ]
     },
     "metadata": {
      "needs_background": "light"
     },
     "output_type": "display_data"
    }
   ],
   "source": [
    "fig, ax = plt.subplots(figsize=(10,5))\n",
    "transactions.groupby(['age']).sum()['amount'].plot(ax=ax)"
   ]
  },
  {
   "cell_type": "markdown",
   "metadata": {},
   "source": [
    "**Age group between 50 - 60 are spending more**"
   ]
  },
  {
   "cell_type": "markdown",
   "metadata": {},
   "source": [
    "#### 4.7 How is income related with the amount being spent ?"
   ]
  },
  {
   "cell_type": "code",
   "execution_count": 147,
   "metadata": {},
   "outputs": [
    {
     "data": {
      "text/plain": [
       "<matplotlib.axes._subplots.AxesSubplot at 0x7f0015c7dc18>"
      ]
     },
     "execution_count": 147,
     "metadata": {},
     "output_type": "execute_result"
    },
    {
     "data": {
      "image/png": "[encoded data removed]",
      "text/plain": [
       "<matplotlib.figure.Figure at 0x7f0015bbf780>"
      ]
     },
     "metadata": {
      "needs_background": "light"
     },
     "output_type": "display_data"
    }
   ],
   "source": [
    "transactions.plot.scatter(x='income', y = 'amount')"
   ]
  },
  {
   "cell_type": "markdown",
   "metadata": {},
   "source": [
    "**there is a linear relation for the income and amount**"
   ]
  },
  {
   "cell_type": "markdown",
   "metadata": {},
   "source": [
    "#### 4.8 How many Number of sign ups happening each day?"
   ]
  },
  {
   "cell_type": "code",
   "execution_count": 151,
   "metadata": {},
   "outputs": [
    {
     "data": {
      "text/html": [
       "<div>\n",
       "<style scoped>\n",
       "    .dataframe tbody tr th:only-of-type {\n",
       "        vertical-align: middle;\n",
       "    }\n",
       "\n",
       "    .dataframe tbody tr th {\n",
       "        vertical-align: top;\n",
       "    }\n",
       "\n",
       "    .dataframe thead th {\n",
       "        text-align: right;\n",
       "    }\n",
       "</style>\n",
       "<table border=\"1\" class=\"dataframe\">\n",
       "  <thead>\n",
       "    <tr style=\"text-align: right;\">\n",
       "      <th></th>\n",
       "      <th>time</th>\n",
       "      <th>amount</th>\n",
       "      <th>offer_id</th>\n",
       "      <th>reward_x</th>\n",
       "      <th>event_offer_completed</th>\n",
       "      <th>event_offer_received</th>\n",
       "      <th>event_offer_viewed</th>\n",
       "      <th>event_transaction</th>\n",
       "      <th>age</th>\n",
       "      <th>gender</th>\n",
       "      <th>...</th>\n",
       "      <th>start_day</th>\n",
       "      <th>difficulty</th>\n",
       "      <th>duration</th>\n",
       "      <th>offer_type</th>\n",
       "      <th>reward_y</th>\n",
       "      <th>social</th>\n",
       "      <th>mobile</th>\n",
       "      <th>email</th>\n",
       "      <th>web</th>\n",
       "      <th>customer_id</th>\n",
       "    </tr>\n",
       "  </thead>\n",
       "  <tbody>\n",
       "    <tr>\n",
       "      <th>0</th>\n",
       "      <td>0</td>\n",
       "      <td>NaN</td>\n",
       "      <td>6</td>\n",
       "      <td>NaN</td>\n",
       "      <td>0</td>\n",
       "      <td>1</td>\n",
       "      <td>0</td>\n",
       "      <td>0</td>\n",
       "      <td>75</td>\n",
       "      <td>0</td>\n",
       "      <td>...</td>\n",
       "      <td>09</td>\n",
       "      <td>5.0</td>\n",
       "      <td>7.0</td>\n",
       "      <td>0</td>\n",
       "      <td>5.0</td>\n",
       "      <td>0.0</td>\n",
       "      <td>1.0</td>\n",
       "      <td>1.0</td>\n",
       "      <td>1.0</td>\n",
       "      <td>1</td>\n",
       "    </tr>\n",
       "    <tr>\n",
       "      <th>1</th>\n",
       "      <td>6</td>\n",
       "      <td>NaN</td>\n",
       "      <td>6</td>\n",
       "      <td>NaN</td>\n",
       "      <td>0</td>\n",
       "      <td>0</td>\n",
       "      <td>1</td>\n",
       "      <td>0</td>\n",
       "      <td>75</td>\n",
       "      <td>0</td>\n",
       "      <td>...</td>\n",
       "      <td>09</td>\n",
       "      <td>5.0</td>\n",
       "      <td>7.0</td>\n",
       "      <td>0</td>\n",
       "      <td>5.0</td>\n",
       "      <td>0.0</td>\n",
       "      <td>1.0</td>\n",
       "      <td>1.0</td>\n",
       "      <td>1.0</td>\n",
       "      <td>1</td>\n",
       "    </tr>\n",
       "    <tr>\n",
       "      <th>2</th>\n",
       "      <td>132</td>\n",
       "      <td>19.89</td>\n",
       "      <td>10</td>\n",
       "      <td>NaN</td>\n",
       "      <td>0</td>\n",
       "      <td>0</td>\n",
       "      <td>0</td>\n",
       "      <td>1</td>\n",
       "      <td>75</td>\n",
       "      <td>0</td>\n",
       "      <td>...</td>\n",
       "      <td>09</td>\n",
       "      <td>NaN</td>\n",
       "      <td>NaN</td>\n",
       "      <td>3</td>\n",
       "      <td>NaN</td>\n",
       "      <td>NaN</td>\n",
       "      <td>NaN</td>\n",
       "      <td>NaN</td>\n",
       "      <td>NaN</td>\n",
       "      <td>1</td>\n",
       "    </tr>\n",
       "    <tr>\n",
       "      <th>3</th>\n",
       "      <td>132</td>\n",
       "      <td>NaN</td>\n",
       "      <td>6</td>\n",
       "      <td>5.0</td>\n",
       "      <td>1</td>\n",
       "      <td>0</td>\n",
       "      <td>0</td>\n",
       "      <td>0</td>\n",
       "      <td>75</td>\n",
       "      <td>0</td>\n",
       "      <td>...</td>\n",
       "      <td>09</td>\n",
       "      <td>5.0</td>\n",
       "      <td>7.0</td>\n",
       "      <td>0</td>\n",
       "      <td>5.0</td>\n",
       "      <td>0.0</td>\n",
       "      <td>1.0</td>\n",
       "      <td>1.0</td>\n",
       "      <td>1.0</td>\n",
       "      <td>1</td>\n",
       "    </tr>\n",
       "    <tr>\n",
       "      <th>4</th>\n",
       "      <td>144</td>\n",
       "      <td>17.78</td>\n",
       "      <td>10</td>\n",
       "      <td>NaN</td>\n",
       "      <td>0</td>\n",
       "      <td>0</td>\n",
       "      <td>0</td>\n",
       "      <td>1</td>\n",
       "      <td>75</td>\n",
       "      <td>0</td>\n",
       "      <td>...</td>\n",
       "      <td>09</td>\n",
       "      <td>NaN</td>\n",
       "      <td>NaN</td>\n",
       "      <td>3</td>\n",
       "      <td>NaN</td>\n",
       "      <td>NaN</td>\n",
       "      <td>NaN</td>\n",
       "      <td>NaN</td>\n",
       "      <td>NaN</td>\n",
       "      <td>1</td>\n",
       "    </tr>\n",
       "  </tbody>\n",
       "</table>\n",
       "<p>5 rows × 24 columns</p>\n",
       "</div>"
      ],
      "text/plain": [
       "   time  amount  offer_id  reward_x  event_offer_completed  \\\n",
       "0     0     NaN         6       NaN                      0   \n",
       "1     6     NaN         6       NaN                      0   \n",
       "2   132   19.89        10       NaN                      0   \n",
       "3   132     NaN         6       5.0                      1   \n",
       "4   144   17.78        10       NaN                      0   \n",
       "\n",
       "   event_offer_received  event_offer_viewed  event_transaction  age  gender  \\\n",
       "0                     1                   0                  0   75       0   \n",
       "1                     0                   1                  0   75       0   \n",
       "2                     0                   0                  1   75       0   \n",
       "3                     0                   0                  0   75       0   \n",
       "4                     0                   0                  1   75       0   \n",
       "\n",
       "      ...       start_day difficulty duration offer_type reward_y  social  \\\n",
       "0     ...              09        5.0      7.0          0      5.0     0.0   \n",
       "1     ...              09        5.0      7.0          0      5.0     0.0   \n",
       "2     ...              09        NaN      NaN          3      NaN     NaN   \n",
       "3     ...              09        5.0      7.0          0      5.0     0.0   \n",
       "4     ...              09        NaN      NaN          3      NaN     NaN   \n",
       "\n",
       "   mobile  email  web  customer_id  \n",
       "0     1.0    1.0  1.0            1  \n",
       "1     1.0    1.0  1.0            1  \n",
       "2     NaN    NaN  NaN            1  \n",
       "3     1.0    1.0  1.0            1  \n",
       "4     NaN    NaN  NaN            1  \n",
       "\n",
       "[5 rows x 24 columns]"
      ]
     },
     "execution_count": 151,
     "metadata": {},
     "output_type": "execute_result"
    }
   ],
   "source": [
    "transcript_new.head()"
   ]
  },
  {
   "cell_type": "code",
   "execution_count": 158,
   "metadata": {},
   "outputs": [
    {
     "data": {
      "text/plain": [
       "Text(0.5,1,'Number of Sign Ups Each Year')"
      ]
     },
     "execution_count": 158,
     "metadata": {},
     "output_type": "execute_result"
    },
    {
     "data": {
      "image/png": "[encoded data removed]",
      "text/plain": [
       "<matplotlib.figure.Figure at 0x7f001b9def60>"
      ]
     },
     "metadata": {
      "needs_background": "light"
     },
     "output_type": "display_data"
    }
   ],
   "source": [
    "transcript_new.start_year.value_counts().plot(kind = 'bar', figsize = (10,5))\n",
    "plt.xlabel('Year', fontsize = 12)\n",
    "plt.ylabel('Number of Sign Ups', fontsize = 12)\n",
    "plt.title('Number of Sign Ups Each Year')"
   ]
  },
  {
   "cell_type": "markdown",
   "metadata": {},
   "source": [
    "**It can be seen that there were many sign Ups in 2017, while in 2018 the number went down!!**"
   ]
  },
  {
   "cell_type": "markdown",
   "metadata": {},
   "source": [
    "#### 4.9 How is amount values Distributed?"
   ]
  },
  {
   "cell_type": "code",
   "execution_count": 160,
   "metadata": {},
   "outputs": [
    {
     "data": {
      "text/plain": [
       "<matplotlib.axes._subplots.AxesSubplot at 0x7f001bb33710>"
      ]
     },
     "execution_count": 160,
     "metadata": {},
     "output_type": "execute_result"
    },
    {
     "data": {
      "image/png": "[encoded data removed]",
      "text/plain": [
       "<matplotlib.figure.Figure at 0x7f001baf27f0>"
      ]
     },
     "metadata": {
      "needs_background": "light"
     },
     "output_type": "display_data"
    }
   ],
   "source": [
    "sns.distplot(transactions['amount'])"
   ]
  },
  {
   "cell_type": "markdown",
   "metadata": {},
   "source": [
    "# 5 MACHINE LEARNING MODELS - \n",
    "\n",
    "## REGRESSION"
   ]
  },
  {
   "cell_type": "markdown",
   "metadata": {},
   "source": [
    "**Building a machine learning model that predicts how much someone will spend based on demographics and offer type**\n"
   ]
  },
  {
   "cell_type": "code",
   "execution_count": 71,
   "metadata": {},
   "outputs": [
    {
     "data": {
      "text/plain": [
       "Index(['age', 'gender', 'customer_id', 'income', 'member_since', 'start_year',\n",
       "       'start_month', 'start_day'],\n",
       "      dtype='object')"
      ]
     },
     "execution_count": 71,
     "metadata": {},
     "output_type": "execute_result"
    }
   ],
   "source": [
    "profile.columns"
   ]
  },
  {
   "cell_type": "code",
   "execution_count": 72,
   "metadata": {},
   "outputs": [
    {
     "data": {
      "text/plain": [
       "Index(['time', 'offer_id', 'event_offer_completed', 'event_offer_received',\n",
       "       'event_offer_viewed', 'age', 'gender', 'income', 'member_since',\n",
       "       'start_year', 'start_month', 'start_day', 'difficulty', 'duration',\n",
       "       'offer_type', 'reward_y', 'social', 'mobile', 'email', 'web',\n",
       "       'customer_id'],\n",
       "      dtype='object')"
      ]
     },
     "execution_count": 72,
     "metadata": {},
     "output_type": "execute_result"
    }
   ],
   "source": [
    "offers.columns"
   ]
  },
  {
   "cell_type": "markdown",
   "metadata": {},
   "source": [
    "Lets Take the transactions DataFrame and Try to predict the amount that will be spent by user. This will be supervised learning Regression technique"
   ]
  },
  {
   "cell_type": "code",
   "execution_count": 73,
   "metadata": {},
   "outputs": [
    {
     "data": {
      "text/html": [
       "<div>\n",
       "<style scoped>\n",
       "    .dataframe tbody tr th:only-of-type {\n",
       "        vertical-align: middle;\n",
       "    }\n",
       "\n",
       "    .dataframe tbody tr th {\n",
       "        vertical-align: top;\n",
       "    }\n",
       "\n",
       "    .dataframe thead th {\n",
       "        text-align: right;\n",
       "    }\n",
       "</style>\n",
       "<table border=\"1\" class=\"dataframe\">\n",
       "  <thead>\n",
       "    <tr style=\"text-align: right;\">\n",
       "      <th></th>\n",
       "      <th>amount</th>\n",
       "      <th>offer_id</th>\n",
       "      <th>event_offer_completed</th>\n",
       "      <th>event_offer_received</th>\n",
       "      <th>event_offer_viewed</th>\n",
       "      <th>event_transaction</th>\n",
       "      <th>age</th>\n",
       "      <th>gender</th>\n",
       "      <th>income</th>\n",
       "      <th>member_since</th>\n",
       "      <th>start_year</th>\n",
       "      <th>start_month</th>\n",
       "      <th>start_day</th>\n",
       "      <th>offer_type</th>\n",
       "      <th>customer_id</th>\n",
       "    </tr>\n",
       "  </thead>\n",
       "  <tbody>\n",
       "    <tr>\n",
       "      <th>0</th>\n",
       "      <td>19.89</td>\n",
       "      <td>10</td>\n",
       "      <td>0</td>\n",
       "      <td>0</td>\n",
       "      <td>0</td>\n",
       "      <td>1</td>\n",
       "      <td>75</td>\n",
       "      <td>0</td>\n",
       "      <td>100000.0</td>\n",
       "      <td>2017-05-09</td>\n",
       "      <td>2017</td>\n",
       "      <td>05</td>\n",
       "      <td>09</td>\n",
       "      <td>3</td>\n",
       "      <td>1</td>\n",
       "    </tr>\n",
       "    <tr>\n",
       "      <th>1</th>\n",
       "      <td>17.78</td>\n",
       "      <td>10</td>\n",
       "      <td>0</td>\n",
       "      <td>0</td>\n",
       "      <td>0</td>\n",
       "      <td>1</td>\n",
       "      <td>75</td>\n",
       "      <td>0</td>\n",
       "      <td>100000.0</td>\n",
       "      <td>2017-05-09</td>\n",
       "      <td>2017</td>\n",
       "      <td>05</td>\n",
       "      <td>09</td>\n",
       "      <td>3</td>\n",
       "      <td>1</td>\n",
       "    </tr>\n",
       "    <tr>\n",
       "      <th>2</th>\n",
       "      <td>19.67</td>\n",
       "      <td>10</td>\n",
       "      <td>0</td>\n",
       "      <td>0</td>\n",
       "      <td>0</td>\n",
       "      <td>1</td>\n",
       "      <td>75</td>\n",
       "      <td>0</td>\n",
       "      <td>100000.0</td>\n",
       "      <td>2017-05-09</td>\n",
       "      <td>2017</td>\n",
       "      <td>05</td>\n",
       "      <td>09</td>\n",
       "      <td>3</td>\n",
       "      <td>1</td>\n",
       "    </tr>\n",
       "    <tr>\n",
       "      <th>3</th>\n",
       "      <td>29.72</td>\n",
       "      <td>10</td>\n",
       "      <td>0</td>\n",
       "      <td>0</td>\n",
       "      <td>0</td>\n",
       "      <td>1</td>\n",
       "      <td>75</td>\n",
       "      <td>0</td>\n",
       "      <td>100000.0</td>\n",
       "      <td>2017-05-09</td>\n",
       "      <td>2017</td>\n",
       "      <td>05</td>\n",
       "      <td>09</td>\n",
       "      <td>3</td>\n",
       "      <td>1</td>\n",
       "    </tr>\n",
       "    <tr>\n",
       "      <th>4</th>\n",
       "      <td>23.93</td>\n",
       "      <td>10</td>\n",
       "      <td>0</td>\n",
       "      <td>0</td>\n",
       "      <td>0</td>\n",
       "      <td>1</td>\n",
       "      <td>75</td>\n",
       "      <td>0</td>\n",
       "      <td>100000.0</td>\n",
       "      <td>2017-05-09</td>\n",
       "      <td>2017</td>\n",
       "      <td>05</td>\n",
       "      <td>09</td>\n",
       "      <td>3</td>\n",
       "      <td>1</td>\n",
       "    </tr>\n",
       "  </tbody>\n",
       "</table>\n",
       "</div>"
      ],
      "text/plain": [
       "   amount  offer_id  event_offer_completed  event_offer_received  \\\n",
       "0   19.89        10                      0                     0   \n",
       "1   17.78        10                      0                     0   \n",
       "2   19.67        10                      0                     0   \n",
       "3   29.72        10                      0                     0   \n",
       "4   23.93        10                      0                     0   \n",
       "\n",
       "   event_offer_viewed  event_transaction  age  gender    income member_since  \\\n",
       "0                   0                  1   75       0  100000.0   2017-05-09   \n",
       "1                   0                  1   75       0  100000.0   2017-05-09   \n",
       "2                   0                  1   75       0  100000.0   2017-05-09   \n",
       "3                   0                  1   75       0  100000.0   2017-05-09   \n",
       "4                   0                  1   75       0  100000.0   2017-05-09   \n",
       "\n",
       "  start_year start_month start_day  offer_type  customer_id  \n",
       "0       2017          05        09           3            1  \n",
       "1       2017          05        09           3            1  \n",
       "2       2017          05        09           3            1  \n",
       "3       2017          05        09           3            1  \n",
       "4       2017          05        09           3            1  "
      ]
     },
     "execution_count": 73,
     "metadata": {},
     "output_type": "execute_result"
    }
   ],
   "source": [
    "transactions.head()"
   ]
  },
  {
   "cell_type": "code",
   "execution_count": 74,
   "metadata": {},
   "outputs": [],
   "source": [
    "#dividing the data into features and target, you can ad  other features also\n",
    "X = df_reg[['offer_id','age','gender','income','offer_type']]\n",
    "y = df_reg[['amount']]"
   ]
  },
  {
   "cell_type": "markdown",
   "metadata": {},
   "source": [
    "### 5.1 Linear Regression"
   ]
  },
  {
   "cell_type": "code",
   "execution_count": 75,
   "metadata": {},
   "outputs": [
    {
     "name": "stdout",
     "output_type": "stream",
     "text": [
      "R^2: 0.4831234226547428\n",
      "Root Mean Squared Error: 6.689900461262733\n"
     ]
    }
   ],
   "source": [
    "# Import necessary modules\n",
    "from sklearn.model_selection import train_test_split\n",
    "from sklearn.linear_model import LinearRegression\n",
    "from sklearn.metrics import mean_squared_error\n",
    "from sklearn.model_selection import\tcross_val_score\n",
    "\n",
    "X_train_reg, X_test_reg, y_train_reg, y_test_reg = train_test_split(X, y, test_size=0.3, random_state=100)\n",
    "\n",
    "# Create the regressor: reg\n",
    "reg = LinearRegression()\n",
    "\n",
    "# Fit the regressor to the training data\n",
    "reg.fit(X_train_reg,y_train_reg)\n",
    "\n",
    "# Predict on the test data: y_pred\n",
    "y_pred = reg.predict(X_test_reg)\n",
    "\n",
    "# Compute and print R^2 and RMSE\n",
    "print(\"R^2: {}\".format(reg.score(X_test_reg, y_test_reg)))\n",
    "rmse = np.sqrt(mean_squared_error(y_test_reg,y_pred))\n",
    "print(\"Root Mean Squared Error: {}\".format(rmse))"
   ]
  },
  {
   "cell_type": "markdown",
   "metadata": {},
   "source": [
    "we have an R2 of 0.48 which is decent, lets look at other models"
   ]
  },
  {
   "cell_type": "markdown",
   "metadata": {},
   "source": [
    "#### 5.1.1 OLS Model Summary"
   ]
  },
  {
   "cell_type": "code",
   "execution_count": 76,
   "metadata": {},
   "outputs": [
    {
     "name": "stderr",
     "output_type": "stream",
     "text": [
      "/opt/conda/lib/python3.6/site-packages/statsmodels/compat/pandas.py:56: FutureWarning: The pandas.core.datetools module is deprecated and will be removed in a future version. Please use the pandas.tseries module instead.\n",
      "  from pandas.core import datetools\n"
     ]
    }
   ],
   "source": [
    "from statsmodels.regression.linear_model import OLS\n",
    "import statsmodels.api as sm"
   ]
  },
  {
   "cell_type": "code",
   "execution_count": 77,
   "metadata": {},
   "outputs": [
    {
     "data": {
      "text/html": [
       "<table class=\"simpletable\">\n",
       "<caption>OLS Regression Results</caption>\n",
       "<tr>\n",
       "  <th>Dep. Variable:</th>         <td>amount</td>      <th>  R-squared:         </th>  <td>   0.487</td>  \n",
       "</tr>\n",
       "<tr>\n",
       "  <th>Model:</th>                   <td>OLS</td>       <th>  Adj. R-squared:    </th>  <td>   0.487</td>  \n",
       "</tr>\n",
       "<tr>\n",
       "  <th>Method:</th>             <td>Least Squares</td>  <th>  F-statistic:       </th>  <td>2.655e+04</td> \n",
       "</tr>\n",
       "<tr>\n",
       "  <th>Date:</th>             <td>Wed, 22 Apr 2020</td> <th>  Prob (F-statistic):</th>   <td>  0.00</td>   \n",
       "</tr>\n",
       "<tr>\n",
       "  <th>Time:</th>                 <td>03:41:36</td>     <th>  Log-Likelihood:    </th> <td>-2.7821e+05</td>\n",
       "</tr>\n",
       "<tr>\n",
       "  <th>No. Observations:</th>      <td> 83847</td>      <th>  AIC:               </th>  <td>5.564e+05</td> \n",
       "</tr>\n",
       "<tr>\n",
       "  <th>Df Residuals:</th>          <td> 83843</td>      <th>  BIC:               </th>  <td>5.565e+05</td> \n",
       "</tr>\n",
       "<tr>\n",
       "  <th>Df Model:</th>              <td>     3</td>      <th>                     </th>      <td> </td>     \n",
       "</tr>\n",
       "<tr>\n",
       "  <th>Covariance Type:</th>      <td>nonrobust</td>    <th>                     </th>      <td> </td>     \n",
       "</tr>\n",
       "</table>\n",
       "<table class=\"simpletable\">\n",
       "<tr>\n",
       "       <td></td>         <th>coef</th>     <th>std err</th>      <th>t</th>      <th>P>|t|</th>  <th>[0.025</th>    <th>0.975]</th>  \n",
       "</tr>\n",
       "<tr>\n",
       "  <th>offer_id</th>   <td>   -0.5973</td> <td>    0.009</td> <td>  -64.064</td> <td> 0.000</td> <td>   -0.616</td> <td>   -0.579</td>\n",
       "</tr>\n",
       "<tr>\n",
       "  <th>age</th>        <td>    0.0384</td> <td>    0.001</td> <td>   28.611</td> <td> 0.000</td> <td>    0.036</td> <td>    0.041</td>\n",
       "</tr>\n",
       "<tr>\n",
       "  <th>gender</th>     <td>   -2.7324</td> <td>    0.048</td> <td>  -56.771</td> <td> 0.000</td> <td>   -2.827</td> <td>   -2.638</td>\n",
       "</tr>\n",
       "<tr>\n",
       "  <th>income</th>     <td>    0.0003</td> <td> 1.23e-06</td> <td>  242.208</td> <td> 0.000</td> <td>    0.000</td> <td>    0.000</td>\n",
       "</tr>\n",
       "<tr>\n",
       "  <th>offer_type</th> <td>   -0.1792</td> <td>    0.003</td> <td>  -64.064</td> <td> 0.000</td> <td>   -0.185</td> <td>   -0.174</td>\n",
       "</tr>\n",
       "</table>\n",
       "<table class=\"simpletable\">\n",
       "<tr>\n",
       "  <th>Omnibus:</th>       <td>1609.207</td> <th>  Durbin-Watson:     </th> <td>   1.992</td>\n",
       "</tr>\n",
       "<tr>\n",
       "  <th>Prob(Omnibus):</th>  <td> 0.000</td>  <th>  Jarque-Bera (JB):  </th> <td>1702.939</td>\n",
       "</tr>\n",
       "<tr>\n",
       "  <th>Skew:</th>           <td> 0.348</td>  <th>  Prob(JB):          </th> <td>    0.00</td>\n",
       "</tr>\n",
       "<tr>\n",
       "  <th>Kurtosis:</th>       <td> 3.056</td>  <th>  Cond. No.          </th> <td>3.07e+19</td>\n",
       "</tr>\n",
       "</table>"
      ],
      "text/plain": [
       "<class 'statsmodels.iolib.summary.Summary'>\n",
       "\"\"\"\n",
       "                            OLS Regression Results                            \n",
       "==============================================================================\n",
       "Dep. Variable:                 amount   R-squared:                       0.487\n",
       "Model:                            OLS   Adj. R-squared:                  0.487\n",
       "Method:                 Least Squares   F-statistic:                 2.655e+04\n",
       "Date:                Wed, 22 Apr 2020   Prob (F-statistic):               0.00\n",
       "Time:                        03:41:36   Log-Likelihood:            -2.7821e+05\n",
       "No. Observations:               83847   AIC:                         5.564e+05\n",
       "Df Residuals:                   83843   BIC:                         5.565e+05\n",
       "Df Model:                           3                                         \n",
       "Covariance Type:            nonrobust                                         \n",
       "==============================================================================\n",
       "                 coef    std err          t      P>|t|      [0.025      0.975]\n",
       "------------------------------------------------------------------------------\n",
       "offer_id      -0.5973      0.009    -64.064      0.000      -0.616      -0.579\n",
       "age            0.0384      0.001     28.611      0.000       0.036       0.041\n",
       "gender        -2.7324      0.048    -56.771      0.000      -2.827      -2.638\n",
       "income         0.0003   1.23e-06    242.208      0.000       0.000       0.000\n",
       "offer_type    -0.1792      0.003    -64.064      0.000      -0.185      -0.174\n",
       "==============================================================================\n",
       "Omnibus:                     1609.207   Durbin-Watson:                   1.992\n",
       "Prob(Omnibus):                  0.000   Jarque-Bera (JB):             1702.939\n",
       "Skew:                           0.348   Prob(JB):                         0.00\n",
       "Kurtosis:                       3.056   Cond. No.                     3.07e+19\n",
       "==============================================================================\n",
       "\n",
       "Warnings:\n",
       "[1] Standard Errors assume that the covariance matrix of the errors is correctly specified.\n",
       "[2] The smallest eigenvalue is 3.66e-25. This might indicate that there are\n",
       "strong multicollinearity problems or that the design matrix is singular.\n",
       "\"\"\""
      ]
     },
     "execution_count": 77,
     "metadata": {},
     "output_type": "execute_result"
    }
   ],
   "source": [
    "X_train_reg = sm.add_constant(X_train_reg) ## let's add an intercept (beta_0) to our model\n",
    "model = OLS(endog=y_train_reg, exog=X_train_reg)\n",
    "model_fit = model.fit()\n",
    "model_fit.summary()"
   ]
  },
  {
   "cell_type": "code",
   "execution_count": 78,
   "metadata": {},
   "outputs": [
    {
     "data": {
      "text/plain": [
       "age           0.038375\n",
       "income        0.000297\n",
       "offer_type   -0.179190\n",
       "offer_id     -0.597301\n",
       "gender       -2.732424\n",
       "dtype: float64"
      ]
     },
     "execution_count": 78,
     "metadata": {},
     "output_type": "execute_result"
    }
   ],
   "source": [
    "#important features that are effecting the target\n",
    "model_fit.params.sort_values(ascending=False)"
   ]
  },
  {
   "cell_type": "code",
   "execution_count": 79,
   "metadata": {},
   "outputs": [],
   "source": [
    "y_pred_test = model_fit.predict(X_test_reg)"
   ]
  },
  {
   "cell_type": "code",
   "execution_count": 80,
   "metadata": {},
   "outputs": [
    {
     "data": {
      "text/plain": [
       "(35935,)"
      ]
     },
     "execution_count": 80,
     "metadata": {},
     "output_type": "execute_result"
    }
   ],
   "source": [
    "y_test_reg.amount.shape"
   ]
  },
  {
   "cell_type": "code",
   "execution_count": 81,
   "metadata": {},
   "outputs": [
    {
     "data": {
      "text/plain": [
       "(35935,)"
      ]
     },
     "execution_count": 81,
     "metadata": {},
     "output_type": "execute_result"
    }
   ],
   "source": [
    "y_pred_test.shape"
   ]
  },
  {
   "cell_type": "code",
   "execution_count": 82,
   "metadata": {},
   "outputs": [
    {
     "data": {
      "image/png": "[encoded data removed]",
      "text/plain": [
       "<matplotlib.figure.Figure at 0x7f0015706240>"
      ]
     },
     "metadata": {
      "needs_background": "light"
     },
     "output_type": "display_data"
    }
   ],
   "source": [
    "#plotting our results\n",
    "plt.figure(figsize=(9,7))\n",
    "plt.scatter(y_pred_test, y_test_reg.amount, alpha=0.5, c='r')\n",
    "plt.title('Predicted vs Actual amount for test data')\n",
    "plt.xlabel('Predicted Amount')\n",
    "plt.ylabel('Actual Amount')\n",
    "axes = plt.gca()\n",
    "plt.show();"
   ]
  },
  {
   "cell_type": "markdown",
   "metadata": {},
   "source": [
    "### 5.2 Decision Tree Regressor"
   ]
  },
  {
   "cell_type": "code",
   "execution_count": 83,
   "metadata": {},
   "outputs": [
    {
     "name": "stdout",
     "output_type": "stream",
     "text": [
      "6.4723012134\n"
     ]
    }
   ],
   "source": [
    "from sklearn.tree import DecisionTreeRegressor\n",
    "from sklearn.metrics import mean_squared_error as MSE\n",
    "from sklearn.model_selection import GridSearchCV\n",
    "# Instantiate dt\n",
    "dt = DecisionTreeRegressor(max_depth=8,\n",
    "                           min_samples_leaf=0.13,\n",
    "                           random_state=100)\n",
    "\n",
    "params_dt = {\n",
    "    'max_depth': [3, 4,5, 6],\n",
    "    'min_samples_leaf': [0.04, 0.06, 0.08],\n",
    "    'max_features': [0.2, 0.4,0.6, 0.8]\n",
    "}\n",
    "\n",
    "grid_dt = GridSearchCV(estimator=dt, param_grid=params_dt, scoring='neg_mean_squared_error', cv=10, n_jobs=-1)\n",
    "\n",
    "# Fit 'dt' to the training-set\n",
    "grid_dt.fit(X_train_reg, y_train_reg)\n",
    "\n",
    "# Predict test-set labels\n",
    "y_pred_reg_dt = grid_dt.predict(X_test_reg)\n",
    "    \n",
    "# Compute test-set MSE\n",
    "mse_dt =  MSE(y_test_reg, y_pred_reg_dt)\n",
    "\n",
    "# Compute test-set RMSE \n",
    "rmse_dt = mse_dt**(1/2)\n",
    "\n",
    "# Print rmse_dt\n",
    "print(rmse_dt)"
   ]
  },
  {
   "cell_type": "markdown",
   "metadata": {},
   "source": [
    "We have almost similar results for Decision Tree and Linear regression, so we ca use any one the above models to predict the amount that will be spent by the user based on his data we already have."
   ]
  },
  {
   "cell_type": "markdown",
   "metadata": {},
   "source": [
    "# 6 Machine Learning Models - \n",
    "\n",
    "# Classification"
   ]
  },
  {
   "cell_type": "markdown",
   "metadata": {},
   "source": [
    "**Another Machine Learning model to personalize offer_type for each customer, which can help in sending the personalized offer.**"
   ]
  },
  {
   "cell_type": "code",
   "execution_count": 84,
   "metadata": {},
   "outputs": [],
   "source": [
    "#creating our data\n",
    "X_clf = offers.drop(['offer_type', 'customer_id', 'offer_id','member_since'], axis=1)\n",
    "y_clf = offers['offer_type']\n"
   ]
  },
  {
   "cell_type": "code",
   "execution_count": 85,
   "metadata": {},
   "outputs": [],
   "source": [
    "# split the data into train and test sets\n",
    "X_train, X_test, y_train, y_test = train_test_split(X_clf, y_clf, random_state=100)"
   ]
  },
  {
   "cell_type": "markdown",
   "metadata": {},
   "source": [
    "**checking if we have right distribution of classes for both train and test datasets**"
   ]
  },
  {
   "cell_type": "code",
   "execution_count": 86,
   "metadata": {},
   "outputs": [],
   "source": [
    "def classes_percent(df):\n",
    "    table = df.value_counts().sort_index()\n",
    "    print('Class ' + str(table.index[0]) + ' : '+ str(round(table[0]/sum(table)*100,0))+'%')\n",
    "    print('Class ' + str(table.index[1]) + ' : '+ str(round(table[1]/sum(table)*100,0))+'%')\n",
    "    print('Class ' + str(table.index[2]) + ' : '+ str(round(table[1]/sum(table)*100,0))+'%')"
   ]
  },
  {
   "cell_type": "code",
   "execution_count": 87,
   "metadata": {},
   "outputs": [
    {
     "name": "stdout",
     "output_type": "stream",
     "text": [
      "Distribution of classes in Training Data :\n",
      "Class 0 : 43.0%\n",
      "Class 1 : 42.0%\n",
      "Class 2 : 42.0%\n",
      "Distribution of classes in Test Data :\n",
      "Class 0 : 43.0%\n",
      "Class 1 : 42.0%\n",
      "Class 2 : 42.0%\n"
     ]
    }
   ],
   "source": [
    "print('Distribution of classes in Training Data :')\n",
    "classes_percent(y_train)\n",
    "\n",
    "print('Distribution of classes in Test Data :')\n",
    "classes_percent(y_test)"
   ]
  },
  {
   "cell_type": "code",
   "execution_count": 88,
   "metadata": {},
   "outputs": [
    {
     "name": "stdout",
     "output_type": "stream",
     "text": [
      "Training Features Shape: (125685, 17)\n",
      "Training Labels Shape: (125685,)\n",
      "Testing Features Shape: (41896, 17)\n",
      "Testing Labels Shape: (41896,)\n"
     ]
    }
   ],
   "source": [
    "print('Training Features Shape:', X_train.shape)\n",
    "print('Training Labels Shape:', y_train.shape)\n",
    "print('Testing Features Shape:', X_test.shape)\n",
    "print('Testing Labels Shape:', y_test.shape)\n"
   ]
  },
  {
   "cell_type": "markdown",
   "metadata": {},
   "source": [
    "### 6.1 Logistic Regression using GridSearch CV\n"
   ]
  },
  {
   "cell_type": "code",
   "execution_count": 89,
   "metadata": {},
   "outputs": [
    {
     "name": "stdout",
     "output_type": "stream",
     "text": [
      "Tuned Logistic Regression Parameters: {'C': 1.0000000000000001e-05, 'penalty': 'l2'}\n",
      "Best score is 1.0\n"
     ]
    }
   ],
   "source": [
    "# Import the necessary modules\n",
    "from sklearn.linear_model import LogisticRegression\n",
    "from sklearn.model_selection import GridSearchCV\n",
    "\n",
    "# Setup the hyperparameter grid\n",
    "# Larger c means less regularization. Smaller c means higher regularization.\n",
    "# Regularization is an extra term added to the original loss function. Penalizes large value of coefficients.\n",
    "# Hence training accuracy is decreased but improves test accuracy \n",
    "# since large coefficients that are overfitting the model is reduced. \n",
    "\n",
    "c_space = np.logspace(-5, 8, 15) # 15 values between e~-5 to e^+8\n",
    "param_grid = {'C' : c_space,\n",
    "             'penalty' : ['l1', 'l2']}\n",
    "\n",
    "# Create the classifier: logreg\n",
    "logreg = LogisticRegression()\n",
    "\n",
    "# Instantiate the GridSearchCV object: logreg_cv\n",
    "logreg_cv = GridSearchCV(logreg, param_grid, scoring='accuracy', cv=5, n_jobs=-1)\n",
    "\n",
    "# Fit the classifier to the training data\n",
    "logreg_cv.fit(X_train,y_train)\n",
    "\n",
    "# Print the tuned parameters and score\n",
    "print(\"Tuned Logistic Regression Parameters: {}\".format(logreg_cv.best_params_)) \n",
    "print(\"Best score is {}\".format(logreg_cv.best_score_))"
   ]
  },
  {
   "cell_type": "code",
   "execution_count": 90,
   "metadata": {},
   "outputs": [
    {
     "name": "stdout",
     "output_type": "stream",
     "text": [
      "Maximum predicted probability\n",
      " [[ 0.64538565  0.23492643  0.11968791]\n",
      " [ 0.64598076  0.23505431  0.11896493]\n",
      " [ 0.64611353  0.23958056  0.11430591]\n",
      " [ 0.21813398  0.10533149  0.67653453]\n",
      " [ 0.21939937  0.10618009  0.67442054]]\n"
     ]
    }
   ],
   "source": [
    "prob = logreg_cv.predict_proba(X_clf)\n",
    "print(\"Maximum predicted probability\\n\", prob[:5])"
   ]
  },
  {
   "cell_type": "code",
   "execution_count": 91,
   "metadata": {},
   "outputs": [],
   "source": [
    "# Create the classifier: logreg\n",
    "logreg = LogisticRegression(**logreg_cv.best_params_)\n",
    "\n",
    "# Fit the classifier to the training data\n",
    "logreg.fit(X_train,y_train)\n",
    "\n",
    "# Predict the labels of the test set: y_pred\n",
    "y_pred_logit = logreg.predict(X_test)"
   ]
  },
  {
   "cell_type": "markdown",
   "metadata": {},
   "source": [
    "Confusion Matrix"
   ]
  },
  {
   "cell_type": "code",
   "execution_count": 92,
   "metadata": {},
   "outputs": [
    {
     "name": "stdout",
     "output_type": "stream",
     "text": [
      "[[17847     0     0]\n",
      " [    0 17529     0]\n",
      " [    0     0  6520]]\n",
      "             precision    recall  f1-score   support\n",
      "\n",
      "          0       1.00      1.00      1.00     17847\n",
      "          1       1.00      1.00      1.00     17529\n",
      "          2       1.00      1.00      1.00      6520\n",
      "\n",
      "avg / total       1.00      1.00      1.00     41896\n",
      "\n"
     ]
    }
   ],
   "source": [
    "# Evaluating the performance of Test data using Confusion Matrix\n",
    "from sklearn.metrics import confusion_matrix\n",
    "from sklearn.metrics import classification_report\n",
    "\n",
    "# Compute and print the confusion matrix and classification report\n",
    "print(confusion_matrix(y_test, y_pred_logit))\n",
    "print(classification_report(y_test, y_pred_logit))"
   ]
  },
  {
   "cell_type": "markdown",
   "metadata": {},
   "source": [
    "**A pure case of overfitting, our model is trying hard to learn the features and it has overfitted on our data, which will be likely to break if we use other new data, so it would be better if we use other techniques to understand the data better**"
   ]
  },
  {
   "cell_type": "markdown",
   "metadata": {},
   "source": [
    "## 6.2  k - Nearest Neighbors (kNN)"
   ]
  },
  {
   "cell_type": "code",
   "execution_count": 93,
   "metadata": {},
   "outputs": [],
   "source": [
    "from sklearn.neighbors import KNeighborsClassifier\n",
    "\n",
    "neighbors = np.arange(1, 15)\n",
    "train_accuracy = np.empty(len(neighbors))\n",
    "test_accuracy = np.empty(len(neighbors))\n",
    "\n",
    "# Loop over different values of k\n",
    "for i, k in enumerate(neighbors):\n",
    "    # Setup a k-NN Classifier with k neighbors: knn\n",
    "    knn = KNeighborsClassifier(n_neighbors=k)\n",
    "\n",
    "    # Fit the classifier to the training data\n",
    "    knn.fit(X_train, y_train)\n",
    "    \n",
    "    #Compute accuracy on the training set\n",
    "    train_accuracy[i] = knn.score(X_train, y_train)\n",
    "\n",
    "    #Compute accuracy on the testing set\n",
    "    test_accuracy[i] = knn.score(X_test, y_test)"
   ]
  },
  {
   "cell_type": "code",
   "execution_count": 94,
   "metadata": {},
   "outputs": [
    {
     "data": {
      "image/png": "[encoded data removed]",
      "text/plain": [
       "<matplotlib.figure.Figure at 0x7f0015270588>"
      ]
     },
     "metadata": {
      "needs_background": "light"
     },
     "output_type": "display_data"
    }
   ],
   "source": [
    "# Generate plot\n",
    "plt.title('k-NN: Varying Number of Neighbors')\n",
    "plt.plot(neighbors, test_accuracy, label = 'Testing Accuracy')\n",
    "plt.plot(neighbors, train_accuracy, label = 'Training Accuracy')\n",
    "plt.legend()\n",
    "plt.xlabel('Number of Neighbors')\n",
    "plt.ylabel('Accuracy')\n",
    "plt.show()"
   ]
  },
  {
   "cell_type": "code",
   "execution_count": 95,
   "metadata": {},
   "outputs": [
    {
     "data": {
      "text/html": [
       "<div>\n",
       "<style scoped>\n",
       "    .dataframe tbody tr th:only-of-type {\n",
       "        vertical-align: middle;\n",
       "    }\n",
       "\n",
       "    .dataframe tbody tr th {\n",
       "        vertical-align: top;\n",
       "    }\n",
       "\n",
       "    .dataframe thead th {\n",
       "        text-align: right;\n",
       "    }\n",
       "</style>\n",
       "<table border=\"1\" class=\"dataframe\">\n",
       "  <thead>\n",
       "    <tr style=\"text-align: right;\">\n",
       "      <th></th>\n",
       "      <th>train_accuracy</th>\n",
       "      <th>test_accuracy</th>\n",
       "      <th>difference</th>\n",
       "    </tr>\n",
       "  </thead>\n",
       "  <tbody>\n",
       "    <tr>\n",
       "      <th>14</th>\n",
       "      <td>0.760958</td>\n",
       "      <td>0.689517</td>\n",
       "      <td>-0.071441</td>\n",
       "    </tr>\n",
       "    <tr>\n",
       "      <th>13</th>\n",
       "      <td>0.774516</td>\n",
       "      <td>0.700306</td>\n",
       "      <td>-0.074210</td>\n",
       "    </tr>\n",
       "    <tr>\n",
       "      <th>12</th>\n",
       "      <td>0.777404</td>\n",
       "      <td>0.697847</td>\n",
       "      <td>-0.079557</td>\n",
       "    </tr>\n",
       "    <tr>\n",
       "      <th>11</th>\n",
       "      <td>0.790731</td>\n",
       "      <td>0.709853</td>\n",
       "      <td>-0.080878</td>\n",
       "    </tr>\n",
       "    <tr>\n",
       "      <th>10</th>\n",
       "      <td>0.791853</td>\n",
       "      <td>0.707204</td>\n",
       "      <td>-0.084649</td>\n",
       "    </tr>\n",
       "    <tr>\n",
       "      <th>9</th>\n",
       "      <td>0.809945</td>\n",
       "      <td>0.722670</td>\n",
       "      <td>-0.087275</td>\n",
       "    </tr>\n",
       "    <tr>\n",
       "      <th>8</th>\n",
       "      <td>0.808187</td>\n",
       "      <td>0.715558</td>\n",
       "      <td>-0.092630</td>\n",
       "    </tr>\n",
       "    <tr>\n",
       "      <th>7</th>\n",
       "      <td>0.832701</td>\n",
       "      <td>0.735392</td>\n",
       "      <td>-0.097308</td>\n",
       "    </tr>\n",
       "    <tr>\n",
       "      <th>6</th>\n",
       "      <td>0.830632</td>\n",
       "      <td>0.729139</td>\n",
       "      <td>-0.101493</td>\n",
       "    </tr>\n",
       "    <tr>\n",
       "      <th>5</th>\n",
       "      <td>0.858877</td>\n",
       "      <td>0.748902</td>\n",
       "      <td>-0.109975</td>\n",
       "    </tr>\n",
       "    <tr>\n",
       "      <th>4</th>\n",
       "      <td>0.856912</td>\n",
       "      <td>0.739283</td>\n",
       "      <td>-0.117629</td>\n",
       "    </tr>\n",
       "    <tr>\n",
       "      <th>3</th>\n",
       "      <td>0.905916</td>\n",
       "      <td>0.771720</td>\n",
       "      <td>-0.134195</td>\n",
       "    </tr>\n",
       "    <tr>\n",
       "      <th>2</th>\n",
       "      <td>0.894069</td>\n",
       "      <td>0.745369</td>\n",
       "      <td>-0.148699</td>\n",
       "    </tr>\n",
       "    <tr>\n",
       "      <th>1</th>\n",
       "      <td>1.000000</td>\n",
       "      <td>0.806545</td>\n",
       "      <td>-0.193455</td>\n",
       "    </tr>\n",
       "  </tbody>\n",
       "</table>\n",
       "</div>"
      ],
      "text/plain": [
       "    train_accuracy  test_accuracy  difference\n",
       "14        0.760958       0.689517   -0.071441\n",
       "13        0.774516       0.700306   -0.074210\n",
       "12        0.777404       0.697847   -0.079557\n",
       "11        0.790731       0.709853   -0.080878\n",
       "10        0.791853       0.707204   -0.084649\n",
       "9         0.809945       0.722670   -0.087275\n",
       "8         0.808187       0.715558   -0.092630\n",
       "7         0.832701       0.735392   -0.097308\n",
       "6         0.830632       0.729139   -0.101493\n",
       "5         0.858877       0.748902   -0.109975\n",
       "4         0.856912       0.739283   -0.117629\n",
       "3         0.905916       0.771720   -0.134195\n",
       "2         0.894069       0.745369   -0.148699\n",
       "1         1.000000       0.806545   -0.193455"
      ]
     },
     "execution_count": 95,
     "metadata": {},
     "output_type": "execute_result"
    }
   ],
   "source": [
    "knn_results = pd.DataFrame(data={ \n",
    "             'train_accuracy' : train_accuracy, \n",
    "             'test_accu racy' : test_accuracy,\n",
    "            'difference' : test_accuracy-train_accuracy},\n",
    "             index=neighbors).sort_values(['difference'], ascending=False)\n",
    "knn_results"
   ]
  },
  {
   "cell_type": "code",
   "execution_count": 96,
   "metadata": {},
   "outputs": [],
   "source": [
    "# Create a k-NN classifier with 14 neighbors since the difference between train and test accuracy is minimum\n",
    "knn = KNeighborsClassifier(n_neighbors=7)\n",
    "\n",
    "# Fit the classifier to the data\n",
    "knn.fit(X_train, y_train)\n",
    "\n",
    "# Predict the labels for the test data\n",
    "y_pred_knn = knn.predict(X_test)"
   ]
  },
  {
   "cell_type": "code",
   "execution_count": 97,
   "metadata": {},
   "outputs": [
    {
     "data": {
      "text/plain": [
       "array([[14120,  3576,   151],\n",
       "       [ 4606, 12869,    54],\n",
       "       [ 1776,   923,  3821]])"
      ]
     },
     "execution_count": 97,
     "metadata": {},
     "output_type": "execute_result"
    }
   ],
   "source": [
    " # Evaluating the performance of Test data using Confusion Matrix\n",
    "cm = confusion_matrix(y_test, y_pred_knn)\n",
    "cm"
   ]
  },
  {
   "cell_type": "code",
   "execution_count": 98,
   "metadata": {},
   "outputs": [
    {
     "name": "stdout",
     "output_type": "stream",
     "text": [
      "             precision    recall  f1-score   support\n",
      "\n",
      "          0       0.69      0.79      0.74     17847\n",
      "          1       0.74      0.73      0.74     17529\n",
      "          2       0.95      0.59      0.72      6520\n",
      "\n",
      "avg / total       0.75      0.74      0.74     41896\n",
      "\n"
     ]
    }
   ],
   "source": [
    "print(classification_report(y_test, y_pred_knn))"
   ]
  },
  {
   "cell_type": "code",
   "execution_count": 99,
   "metadata": {},
   "outputs": [
    {
     "data": {
      "text/plain": [
       "[Text(73.2,0.5,'Actual'), Text(0.5,66,'Predicted')]"
      ]
     },
     "execution_count": 99,
     "metadata": {},
     "output_type": "execute_result"
    },
    {
     "data": {
      "image/png": "[encoded data removed]",
      "text/plain": [
       "<matplotlib.figure.Figure at 0x7f00157f7748>"
      ]
     },
     "metadata": {
      "needs_background": "light"
     },
     "output_type": "display_data"
    }
   ],
   "source": [
    "# Plotting the Confusion Matrix for each understanding\n",
    "fig, ax = plt.subplots(figsize=(10,10))\n",
    "# plt.figure(figsize=(9,7))\n",
    "# ax = plt.axes()\n",
    "sns.heatmap(cm,\n",
    "            annot=True, # Show values of each cell in the heatmap\n",
    "            fmt=\"1.0f\", # or \"d\"\n",
    "            cmap=\"YlGnBu\", # color range of the heatmap\n",
    "            linecolor='white', # plot cell border\n",
    "            linewidths=0.1, # width of border\n",
    "            cbar=False, # hide range bar\n",
    "            square=True) # Make the Confusion Matrix Look like a square\n",
    "ax.set_title('Confusion Matrix of kNN')\n",
    "ax.set(xlabel='Predicted', ylabel='Actual') # Change X and Y axis labels"
   ]
  },
  {
   "cell_type": "code",
   "execution_count": 100,
   "metadata": {},
   "outputs": [
    {
     "data": {
      "text/plain": [
       "0.73539240022913877"
      ]
     },
     "execution_count": 100,
     "metadata": {},
     "output_type": "execute_result"
    }
   ],
   "source": [
    "from sklearn.metrics import accuracy_score\n",
    "accuracy_score(y_test, y_pred_knn)"
   ]
  },
  {
   "cell_type": "markdown",
   "metadata": {},
   "source": [
    "It can be seen that our model was overfitting when we have used Logestic regression, But KNNclassifier gives us an accuracy close to 73%, which needs to be improved further by using other methods or hyperparameter tuning.\n",
    "\n",
    "I would like to choose KNN as the model for predicting the offer type, we need to send to particular user."
   ]
  },
  {
   "cell_type": "code",
   "execution_count": null,
   "metadata": {},
   "outputs": [],
   "source": []
  }
 ],
 "metadata": {
  "kernelspec": {
   "display_name": "Python 3",
   "language": "python",
   "name": "python3"
  },
  "language_info": {
   "codemirror_mode": {
    "name": "ipython",
    "version": 3
   },
   "file_extension": ".py",
   "mimetype": "text/x-python",
   "name": "python",
   "nbconvert_exporter": "python",
   "pygments_lexer": "ipython3",
   "version": "3.6.3"
  }
 },
 "nbformat": 4,
 "nbformat_minor": 2
}
